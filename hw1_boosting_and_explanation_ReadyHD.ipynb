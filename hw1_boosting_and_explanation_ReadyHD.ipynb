{
  "nbformat": 4,
  "nbformat_minor": 0,
  "metadata": {
    "celltoolbar": "Create Assignment",
    "colab": {
      "name": "hw1_boosting_and_explanation_ReadyHD.ipynb",
      "provenance": [],
      "collapsed_sections": [],
      "include_colab_link": true
    },
    "kernelspec": {
      "display_name": "Python 3 (ipykernel)",
      "language": "python",
      "name": "python3"
    },
    "language_info": {
      "codemirror_mode": {
        "name": "ipython",
        "version": 3
      },
      "file_extension": ".py",
      "mimetype": "text/x-python",
      "name": "python",
      "nbconvert_exporter": "python",
      "pygments_lexer": "ipython3",
      "version": "3.8.12"
    },
    "nbTranslate": {
      "displayLangs": [
        "*"
      ],
      "hotkey": "alt-t",
      "langInMainMenu": true,
      "sourceLang": "en",
      "targetLang": "fr",
      "useGoogleTranslate": true
    },
    "toc": {
      "base_numbering": 1,
      "nav_menu": {},
      "number_sections": false,
      "sideBar": true,
      "skip_h1_title": false,
      "title_cell": "Table of Contents",
      "title_sidebar": "Contents",
      "toc_cell": false,
      "toc_position": {},
      "toc_section_display": true,
      "toc_window_display": true
    },
    "varInspector": {
      "cols": {
        "lenName": 16,
        "lenType": 16,
        "lenVar": 40
      },
      "kernels_config": {
        "python": {
          "delete_cmd_postfix": "",
          "delete_cmd_prefix": "del ",
          "library": "var_list.py",
          "varRefreshCmd": "print(var_dic_list())"
        },
        "r": {
          "delete_cmd_postfix": ") ",
          "delete_cmd_prefix": "rm(",
          "library": "var_list.r",
          "varRefreshCmd": "cat(var_dic_list()) "
        }
      },
      "types_to_exclude": [
        "module",
        "function",
        "builtin_function_or_method",
        "instance",
        "_Feature"
      ],
      "window_display": false
    }
  },
  "cells": [
    {
      "cell_type": "markdown",
      "metadata": {
        "id": "view-in-github",
        "colab_type": "text"
      },
      "source": [
        "<a href=\"https://colab.research.google.com/github/Garric59/DZ_BigData_dash_python/blob/dash/hw1_boosting_and_explanation_ReadyHD.ipynb\" target=\"_parent\"><img src=\"https://colab.research.google.com/assets/colab-badge.svg\" alt=\"Open In Colab\"/></a>"
      ]
    },
    {
      "cell_type": "markdown",
      "metadata": {
        "id": "iFGdwjvpbFMg",
        "nbgrader": {
          "grade": false,
          "grade_id": "cell-86e0de040aac317a",
          "locked": true,
          "schema_version": 2,
          "solution": false
        }
      },
      "source": [
        "# Homework 1\n",
        "\n",
        "## Gradient boosting on temporal data and feature importances"
      ]
    },
    {
      "cell_type": "markdown",
      "metadata": {
        "id": "JWmjKn6KbFMp"
      },
      "source": [
        "Here we will work with widely known Human Actividy Recognition (HAR) dataset. Data is available at [UCI repository](https://archive.ics.uci.edu/ml/datasets/human+activity+recognition+using+smartphones).\n",
        "\n",
        "There are available both raw and preprocessed datasets. This time we will use the preprocessed one.\n",
        "\n",
        "Today we will work with [LightGBM](https://github.com/Microsoft/LightGBM) by Microsoft. It is one of the most popular frameworks these days that shows both great quality and performance.\n",
        "\n",
        "There are another great frameworks (listed below). However, we will stick to `LightGBM` for this task.\n",
        "\n",
        "* [Catboost](https://github.com/catboost/catboost) by Yandex. Novel framework by Yandex company tuned to deal well with categorical features.\n",
        "* [xgboost](https://github.com/dmlc/xgboost) by dlmc. The most famous framework which got very popular on kaggle.\n",
        "\n",
        "Some simple preprocessing is done for you. \n",
        "\n",
        "Your __ultimate target is to get familiar with one of the frameworks above__ and achieve at least 90% accuracy on test dataset and try to get some useful insights on the features the model paid attention to.\n",
        "\n",
        "__Please, use [`shap`](https://github.com/slundberg/shap) and interpret the generated plots (with a brief summary).__\n",
        "\n",
        "_Despite the main language of this notebook is English, feel free to write your thoughts in Russian._"
      ]
    },
    {
      "cell_type": "markdown",
      "metadata": {
        "id": "oz3oXoiZPtfS"
      },
      "source": [
        "Здесь мы будем работать с широко известным набором данных Human Actividy Recognition (HAR). Данные доступны в репозитории UCI .\n",
        "\n",
        "Доступны как необработанные, так и предварительно обработанные наборы данных. На этот раз мы воспользуемся препроцессором.\n",
        "\n",
        "Сегодня мы будем работать с LightGBM от Microsoft. В наши дни это один из самых популярных фреймворков, который показывает отличное качество и производительность.\n",
        "\n",
        "Есть и другие отличные фреймворки (перечисленные ниже). Однако мы будем придерживаться LightGBMэтой задачи.\n",
        "\n",
        "Catboost от Яндекс. Новый фреймворк от компании Яндекс настроен на работу с категориальными функциями.\n",
        "xgboost пользователя dlmc. Самый известный фреймворк, ставший очень популярным на kaggle.\n",
        "За вас сделана простая предварительная обработка.\n",
        "\n",
        "Ваша конечная цель - ознакомиться с одной из вышеперечисленных структур и достичь точности не менее 90% на тестовом наборе данных, а также попытаться получить полезную информацию о функциях, на которые модель обращала внимание.\n",
        "\n",
        "Пожалуйста, используйте shapи интерпретируйте сгенерированные графики (с кратким изложением).\n",
        "\n",
        "Несмотря на то, что основным языком этой записной книжки является английский, не стесняйтесь писать свои мысли на русском."
      ]
    },
    {
      "cell_type": "markdown",
      "metadata": {
        "id": "a8ZSndspbFMr"
      },
      "source": [
        "## Part 0. Downloading and preprocessing\n",
        "\n",
        "The preprocessing is done for you. Let's take a look at the data:"
      ]
    },
    {
      "cell_type": "code",
      "metadata": {
        "ExecuteTime": {
          "end_time": "2021-11-27T04:50:59.456525Z",
          "start_time": "2021-11-27T04:50:59.362550Z"
        },
        "id": "Td4wkddSbFMt"
      },
      "source": [
        "# Download and unpack dataset from UCI\n",
        "#!c:/progra~1/wget/etc/wgetrc -nc https://archive.ics.uci.edu/ml/machine-learning-databases/00240/UCI%20HAR%20Dataset.zip\n",
        "#!unzip -u \"UCI HAR Dataset.zip\" \"UCI HAR Dataset/train/X_train.txt\" \"UCI HAR Dataset/train/y_train.txt\" \\\n",
        "#\"UCI HAR Dataset/test/X_test.txt\" \"UCI HAR Dataset/test/y_test.txt\" \"UCI HAR Dataset/activity_labels.txt\""
      ],
      "execution_count": null,
      "outputs": []
    },
    {
      "cell_type": "code",
      "metadata": {
        "ExecuteTime": {
          "end_time": "2021-11-26T17:35:55.930668Z",
          "start_time": "2021-11-26T17:35:55.401563Z"
        },
        "id": "IVQTuHnubFM5"
      },
      "source": [
        "import matplotlib.pyplot as plt\n",
        "import numpy as np\n",
        "from sklearn.metrics import f1_score\n",
        "from sklearn.metrics import accuracy_score"
      ],
      "execution_count": null,
      "outputs": []
    },
    {
      "cell_type": "code",
      "metadata": {
        "ExecuteTime": {
          "end_time": "2021-11-26T17:36:02.009206Z",
          "start_time": "2021-11-26T17:35:55.931668Z"
        },
        "colab": {
          "base_uri": "https://localhost:8080/"
        },
        "id": "f0Q1Rnj0bFM8",
        "outputId": "78154223-d0ce-463d-8248-62910aaf3e3a"
      },
      "source": [
        "X_train = np.genfromtxt(\"UCI HAR Dataset/train/X_train.txt\")\n",
        "y_train = np.genfromtxt(\"UCI HAR Dataset/train/y_train.txt\")\n",
        "print(f\"Train set: {X_train.shape}, {y_train.shape}\")\n",
        "\n",
        "X_test = np.genfromtxt(\"UCI HAR Dataset/test/X_test.txt\")\n",
        "y_test = np.genfromtxt(\"UCI HAR Dataset/test/y_test.txt\")\n",
        "print(f\"Test set: {X_test.shape}, {y_test.shape}\")\n",
        "\n",
        "n_features = X_train.shape[1]"
      ],
      "execution_count": null,
      "outputs": [
        {
          "name": "stdout",
          "output_type": "stream",
          "text": [
            "Train set: (7352, 561), (7352,)\n",
            "Test set: (2947, 561), (2947,)\n"
          ]
        }
      ]
    },
    {
      "cell_type": "code",
      "metadata": {
        "ExecuteTime": {
          "end_time": "2021-11-26T17:36:02.025201Z",
          "start_time": "2021-11-26T17:36:02.011207Z"
        },
        "colab": {
          "base_uri": "https://localhost:8080/"
        },
        "id": "B5nW9EjJbFM-",
        "outputId": "90df39e5-bc3e-4ef9-f4b4-7238c254e5f0"
      },
      "source": [
        "activity_labels = {}\n",
        "with open(\"UCI HAR Dataset/activity_labels.txt\", \"r\") as file:\n",
        "    for line in file:\n",
        "        label, name = line.strip().split(\" \")\n",
        "        activity_labels[int(label)] = name\n",
        "\n",
        "activity_labels"
      ],
      "execution_count": null,
      "outputs": [
        {
          "data": {
            "text/plain": "{1: 'WALKING',\n 2: 'WALKING_UPSTAIRS',\n 3: 'WALKING_DOWNSTAIRS',\n 4: 'SITTING',\n 5: 'STANDING',\n 6: 'LAYING'}"
          },
          "execution_count": 4,
          "metadata": {},
          "output_type": "execute_result"
        }
      ]
    },
    {
      "cell_type": "markdown",
      "metadata": {
        "id": "zmlDkMNIbFM_"
      },
      "source": [
        "Let's normalize data"
      ]
    },
    {
      "cell_type": "code",
      "metadata": {
        "ExecuteTime": {
          "end_time": "2021-11-26T17:36:02.104182Z",
          "start_time": "2021-11-26T17:36:02.026202Z"
        },
        "id": "_neXGVwObFNA"
      },
      "source": [
        "data_mean = X_train.mean(axis=0)\n",
        "data_std = X_train.std(axis=0)\n",
        "\n",
        "X_train = (X_train - data_mean) / data_std\n",
        "X_test = (X_test - data_mean) / data_std"
      ],
      "execution_count": null,
      "outputs": []
    },
    {
      "cell_type": "markdown",
      "metadata": {
        "id": "ikV-wRI4bFNC"
      },
      "source": [
        "The dataset has some duplicating features. Let's remove them"
      ]
    },
    {
      "cell_type": "code",
      "metadata": {
        "ExecuteTime": {
          "end_time": "2021-11-26T17:36:02.119179Z",
          "start_time": "2021-11-26T17:36:02.105183Z"
        },
        "id": "yeuzOJBxbFND"
      },
      "source": [
        "# fmt: off\n",
        "duplicating_columns = (\n",
        "    205, 213, 214, 215, 216, 217, 218, 219, 220, 221, 222, 223, 224, 225, 231, 244, 257, 507, 520, 533, 546,\n",
        ")\n",
        "# fmt: on\n",
        "\n",
        "duplicating_mask = np.isin(range(n_features), duplicating_columns)"
      ],
      "execution_count": null,
      "outputs": []
    },
    {
      "cell_type": "code",
      "metadata": {
        "ExecuteTime": {
          "end_time": "2021-11-26T17:36:02.197153Z",
          "start_time": "2021-11-26T17:36:02.121177Z"
        },
        "colab": {
          "base_uri": "https://localhost:8080/"
        },
        "id": "Beg8d8JhbFNG",
        "scrolled": true,
        "outputId": "f6c554ac-49a0-4622-f5de-da9b0268bd32"
      },
      "source": [
        "X_train_unique = X_train[:, ~duplicating_mask]\n",
        "X_test_unique = X_test[:, ~duplicating_mask]\n",
        "\n",
        "X_train_unique.shape, X_test_unique.shape"
      ],
      "execution_count": null,
      "outputs": [
        {
          "data": {
            "text/plain": "((7352, 540), (2947, 540))"
          },
          "execution_count": 7,
          "metadata": {},
          "output_type": "execute_result"
        }
      ]
    },
    {
      "cell_type": "markdown",
      "metadata": {
        "id": "tDvBizZpbFNI"
      },
      "source": [
        "PCA could be useful in this case. E.g."
      ]
    },
    {
      "cell_type": "code",
      "metadata": {
        "ExecuteTime": {
          "end_time": "2021-11-26T17:36:02.996898Z",
          "start_time": "2021-11-26T17:36:02.198154Z"
        },
        "id": "pQTPlgQYbFNI"
      },
      "source": [
        "from sklearn.decomposition import PCA"
      ],
      "execution_count": null,
      "outputs": []
    },
    {
      "cell_type": "code",
      "metadata": {
        "ExecuteTime": {
          "end_time": "2021-11-26T17:36:03.327794Z",
          "start_time": "2021-11-26T17:36:02.998898Z"
        },
        "colab": {
          "base_uri": "https://localhost:8080/"
        },
        "id": "EovyC6C4bFNJ",
        "outputId": "ceee6127-260a-418a-de07-f085d3697ea3"
      },
      "source": [
        "pca = PCA(0.99)\n",
        "\n",
        "X_train_pca = pca.fit_transform(X_train_unique)\n",
        "X_test_pca = pca.transform(X_test_unique)\n",
        "\n",
        "X_train_pca.shape, X_test_pca.shape"
      ],
      "execution_count": null,
      "outputs": [
        {
          "data": {
            "text/plain": "((7352, 179), (2947, 179))"
          },
          "execution_count": 9,
          "metadata": {},
          "output_type": "execute_result"
        }
      ]
    },
    {
      "cell_type": "code",
      "metadata": {
        "ExecuteTime": {
          "end_time": "2021-11-26T17:36:03.565716Z",
          "start_time": "2021-11-26T17:36:03.330791Z"
        },
        "colab": {
          "base_uri": "https://localhost:8080/",
          "height": 296
        },
        "id": "OQPywE0sbFNM",
        "outputId": "c38751e1-3c20-473c-a026-0da2d0ff4750"
      },
      "source": [
        "plt.scatter(X_train_pca[:1000, 0], X_train_pca[:1000, 1], c=y_train[:1000])\n",
        "plt.grid()\n",
        "plt.xlabel(\"Principal component 1\")\n",
        "plt.ylabel(\"Principal component 2\")"
      ],
      "execution_count": null,
      "outputs": [
        {
          "data": {
            "text/plain": "Text(0, 0.5, 'Principal component 2')"
          },
          "execution_count": 10,
          "metadata": {},
          "output_type": "execute_result"
        },
        {
          "data": {
            "text/plain": "<Figure size 432x288 with 1 Axes>",
            "image/png": "[encoded data removed]"
          },
          "metadata": {
            "needs_background": "light"
          },
          "output_type": "display_data"
        }
      ]
    },
    {
      "cell_type": "code",
      "metadata": {
        "ExecuteTime": {
          "end_time": "2021-11-26T17:36:03.737662Z",
          "start_time": "2021-11-26T17:36:03.567716Z"
        },
        "colab": {
          "base_uri": "https://localhost:8080/",
          "height": 296
        },
        "id": "wwLgnduwbFNO",
        "outputId": "8efb32cd-3bd1-4cf2-8fb6-eff8b934a9ee"
      },
      "source": [
        "plt.scatter(X_train_pca[:1000, 3], X_train_pca[:1000, 4], c=y_train[:1000])\n",
        "plt.grid()\n",
        "plt.xlabel(\"Principal component 4\")\n",
        "plt.ylabel(\"Principal component 5\")"
      ],
      "execution_count": null,
      "outputs": [
        {
          "data": {
            "text/plain": "Text(0, 0.5, 'Principal component 5')"
          },
          "execution_count": 11,
          "metadata": {},
          "output_type": "execute_result"
        },
        {
          "data": {
            "text/plain": "<Figure size 432x288 with 1 Axes>",
            "image/png": "[encoded data removed]"
          },
          "metadata": {
            "needs_background": "light"
          },
          "output_type": "display_data"
        }
      ]
    },
    {
      "cell_type": "markdown",
      "metadata": {
        "id": "rJyrQbOabFNP"
      },
      "source": [
        "## Part 1. Fit the model."
      ]
    },
    {
      "cell_type": "markdown",
      "metadata": {
        "id": "qjC1qkX3bFNP"
      },
      "source": [
        "Despite optimal parameters (e.g. for xgboost) can be found on the web, we still want you to approximate them by yourself.\n",
        "\n",
        "In this part just check some (3-5) sets of hyperparameters by hand."
      ]
    },
    {
      "cell_type": "markdown",
      "metadata": {
        "id": "cEo_6yLTPtfk"
      },
      "source": [
        "Несмотря на то, что оптимальные параметры (например, для xgboost) можно найти в Интернете, мы все же хотим, чтобы вы приблизили их самостоятельно. В этой части просто проверьте несколько (3-5) наборов гиперпараметров вручную."
      ]
    },
    {
      "cell_type": "code",
      "metadata": {
        "ExecuteTime": {
          "end_time": "2021-11-26T17:36:05.329154Z",
          "start_time": "2021-11-26T17:36:03.738661Z"
        },
        "colab": {
          "base_uri": "https://localhost:8080/"
        },
        "id": "lIbQo1QUbFNQ",
        "outputId": "0a8418d2-a36e-4466-b4cf-ed45e222059b"
      },
      "source": [
        "# YOUR CODE HERE\n",
        "from sklearn.metrics import mean_squared_error, f1_score, accuracy_score\n",
        "from sklearn.model_selection import GridSearchCV\n",
        "\n",
        "import lightgbm as lgbm\n",
        "\n",
        "import warnings\n",
        "warnings.filterwarnings(\"ignore\")\n",
        "\n",
        "print(\"Версия LightGBM      : \", lgbm.__version__)\n",
        "# Example: https://rpubs.com/burakh/har_xgb\n",
        "from sklearn.model_selection import train_test_split\n",
        "X, y = X_train_pca, y_train\n",
        "X_train_train_pca, X_train_val_pca, y_train_train, y_train_val = train_test_split(X, y,\n",
        "                                                    train_size=0.65, \n",
        "                                                    random_state=42,\n",
        "                                                    stratify=y)"
      ],
      "execution_count": null,
      "outputs": [
        {
          "name": "stdout",
          "output_type": "stream",
          "text": [
            "Версия LightGBM      :  3.3.1\n"
          ]
        }
      ]
    },
    {
      "cell_type": "code",
      "metadata": {
        "ExecuteTime": {
          "end_time": "2021-11-26T17:36:05.344148Z",
          "start_time": "2021-11-26T17:36:05.331154Z"
        },
        "pycharm": {
          "name": "#%%\n"
        },
        "id": "cATXay15Ptfl"
      },
      "source": [
        "#lgb_train = lgbm.Dataset(X_train_train_pca, label = y_train_train)\n",
        "#lgb_eval = lgbm.Dataset(X_train_val_pca, label = y_train_val)"
      ],
      "execution_count": null,
      "outputs": []
    },
    {
      "cell_type": "code",
      "metadata": {
        "pycharm": {
          "name": "#%%\n"
        },
        "id": "5Fbb6DUvPtfm",
        "outputId": "513f3283-a3f5-4abd-baac-4015ba4533ef"
      },
      "source": [
        "int(np.unique(y_train_train).size)"
      ],
      "execution_count": null,
      "outputs": [
        {
          "data": {
            "text/plain": "6"
          },
          "execution_count": 14,
          "metadata": {},
          "output_type": "execute_result"
        }
      ]
    },
    {
      "cell_type": "code",
      "metadata": {
        "pycharm": {
          "name": "#%%\n"
        },
        "id": "XiRj-wY8Ptfn",
        "outputId": "c277d428-707c-4d43-d269-f15c5b669f8f"
      },
      "source": [
        "#validation_metrics = {}\n",
        "param = {\n",
        "    'objective':'multiclass',\n",
        "    'num_class':int(np.unique(y_train_train).size),\n",
        "    'metric':'multi_error'\n",
        "}\n",
        "lgb = lgbm.LGBMClassifier(**param)\n",
        "lgb.fit(X=X_train_train_pca, y=y_train_train, eval_set=(X_train_val_pca, y_train_val))\n",
        "validation_metrics=lgb.evals_result_"
      ],
      "execution_count": null,
      "outputs": [
        {
          "name": "stdout",
          "output_type": "stream",
          "text": [
            "[1]\tvalid_0's multi_error: 0.176768\n",
            "[2]\tvalid_0's multi_error: 0.130148\n",
            "[3]\tvalid_0's multi_error: 0.113054\n",
            "[4]\tvalid_0's multi_error: 0.103341\n",
            "[5]\tvalid_0's multi_error: 0.0982906\n",
            "[6]\tvalid_0's multi_error: 0.0928516\n",
            "[7]\tvalid_0's multi_error: 0.0889666\n",
            "[8]\tvalid_0's multi_error: 0.0846931\n",
            "[9]\tvalid_0's multi_error: 0.0850816\n",
            "[10]\tvalid_0's multi_error: 0.0823621\n",
            "[11]\tvalid_0's multi_error: 0.0788656\n",
            "[12]\tvalid_0's multi_error: 0.0796426\n",
            "[13]\tvalid_0's multi_error: 0.0749806\n",
            "[14]\tvalid_0's multi_error: 0.0718726\n",
            "[15]\tvalid_0's multi_error: 0.0695416\n",
            "[16]\tvalid_0's multi_error: 0.0687646\n",
            "[17]\tvalid_0's multi_error: 0.0664336\n",
            "[18]\tvalid_0's multi_error: 0.0648796\n",
            "[19]\tvalid_0's multi_error: 0.0648796\n",
            "[20]\tvalid_0's multi_error: 0.0644911\n",
            "[21]\tvalid_0's multi_error: 0.0629371\n",
            "[22]\tvalid_0's multi_error: 0.0629371\n",
            "[23]\tvalid_0's multi_error: 0.0602176\n",
            "[24]\tvalid_0's multi_error: 0.0606061\n",
            "[25]\tvalid_0's multi_error: 0.0586636\n",
            "[26]\tvalid_0's multi_error: 0.0594406\n",
            "[27]\tvalid_0's multi_error: 0.0586636\n",
            "[28]\tvalid_0's multi_error: 0.0582751\n",
            "[29]\tvalid_0's multi_error: 0.0586636\n",
            "[30]\tvalid_0's multi_error: 0.0571096\n",
            "[31]\tvalid_0's multi_error: 0.0559441\n",
            "[32]\tvalid_0's multi_error: 0.0563326\n",
            "[33]\tvalid_0's multi_error: 0.0547786\n",
            "[34]\tvalid_0's multi_error: 0.0528361\n",
            "[35]\tvalid_0's multi_error: 0.0532246\n",
            "[36]\tvalid_0's multi_error: 0.0528361\n",
            "[37]\tvalid_0's multi_error: 0.0524476\n",
            "[38]\tvalid_0's multi_error: 0.0524476\n",
            "[39]\tvalid_0's multi_error: 0.0505051\n",
            "[40]\tvalid_0's multi_error: 0.0516706\n",
            "[41]\tvalid_0's multi_error: 0.0505051\n",
            "[42]\tvalid_0's multi_error: 0.0505051\n",
            "[43]\tvalid_0's multi_error: 0.0516706\n",
            "[44]\tvalid_0's multi_error: 0.0505051\n",
            "[45]\tvalid_0's multi_error: 0.048951\n",
            "[46]\tvalid_0's multi_error: 0.048174\n",
            "[47]\tvalid_0's multi_error: 0.0477855\n",
            "[48]\tvalid_0's multi_error: 0.04662\n",
            "[49]\tvalid_0's multi_error: 0.0470085\n",
            "[50]\tvalid_0's multi_error: 0.045843\n",
            "[51]\tvalid_0's multi_error: 0.04662\n",
            "[52]\tvalid_0's multi_error: 0.045066\n",
            "[53]\tvalid_0's multi_error: 0.045843\n",
            "[54]\tvalid_0's multi_error: 0.0446775\n",
            "[55]\tvalid_0's multi_error: 0.0454545\n",
            "[56]\tvalid_0's multi_error: 0.045066\n",
            "[57]\tvalid_0's multi_error: 0.0454545\n",
            "[58]\tvalid_0's multi_error: 0.0454545\n",
            "[59]\tvalid_0's multi_error: 0.044289\n",
            "[60]\tvalid_0's multi_error: 0.0439005\n",
            "[61]\tvalid_0's multi_error: 0.043512\n",
            "[62]\tvalid_0's multi_error: 0.043512\n",
            "[63]\tvalid_0's multi_error: 0.043512\n",
            "[64]\tvalid_0's multi_error: 0.042735\n",
            "[65]\tvalid_0's multi_error: 0.042735\n",
            "[66]\tvalid_0's multi_error: 0.041958\n",
            "[67]\tvalid_0's multi_error: 0.0423465\n",
            "[68]\tvalid_0's multi_error: 0.042735\n",
            "[69]\tvalid_0's multi_error: 0.041958\n",
            "[70]\tvalid_0's multi_error: 0.041958\n",
            "[71]\tvalid_0's multi_error: 0.0423465\n",
            "[72]\tvalid_0's multi_error: 0.0423465\n",
            "[73]\tvalid_0's multi_error: 0.0439005\n",
            "[74]\tvalid_0's multi_error: 0.0446775\n",
            "[75]\tvalid_0's multi_error: 0.042735\n",
            "[76]\tvalid_0's multi_error: 0.042735\n",
            "[77]\tvalid_0's multi_error: 0.041958\n",
            "[78]\tvalid_0's multi_error: 0.041181\n",
            "[79]\tvalid_0's multi_error: 0.0423465\n",
            "[80]\tvalid_0's multi_error: 0.0423465\n",
            "[81]\tvalid_0's multi_error: 0.0423465\n",
            "[82]\tvalid_0's multi_error: 0.0407925\n",
            "[83]\tvalid_0's multi_error: 0.041958\n",
            "[84]\tvalid_0's multi_error: 0.0400155\n",
            "[85]\tvalid_0's multi_error: 0.041181\n",
            "[86]\tvalid_0's multi_error: 0.040404\n",
            "[87]\tvalid_0's multi_error: 0.0407925\n",
            "[88]\tvalid_0's multi_error: 0.041181\n",
            "[89]\tvalid_0's multi_error: 0.0392385\n",
            "[90]\tvalid_0's multi_error: 0.0392385\n",
            "[91]\tvalid_0's multi_error: 0.03885\n",
            "[92]\tvalid_0's multi_error: 0.0384615\n",
            "[93]\tvalid_0's multi_error: 0.0392385\n",
            "[94]\tvalid_0's multi_error: 0.03885\n",
            "[95]\tvalid_0's multi_error: 0.0392385\n",
            "[96]\tvalid_0's multi_error: 0.03885\n",
            "[97]\tvalid_0's multi_error: 0.03885\n",
            "[98]\tvalid_0's multi_error: 0.03885\n",
            "[99]\tvalid_0's multi_error: 0.0384615\n",
            "[100]\tvalid_0's multi_error: 0.039627\n"
          ]
        }
      ]
    },
    {
      "cell_type": "code",
      "metadata": {
        "pycharm": {
          "name": "#%%\n"
        },
        "id": "RyP63pBNPtfn",
        "outputId": "2c1295d6-0e40-4bcf-b6a4-425ac8fb2d55"
      },
      "source": [
        "lgbm.plot_importance(lgb, figsize = (10,4),max_num_features=10)\n",
        "lgbm.plot_split_value_histogram(lgb, feature = 'Column_3', figsize = (10,4))\n",
        "lgbm.plot_metric(validation_metrics, metric='multi_error', figsize = (10,4))"
      ],
      "execution_count": null,
      "outputs": [
        {
          "data": {
            "text/plain": "<AxesSubplot:title={'center':'Metric during training'}, xlabel='Iterations', ylabel='multi_error'>"
          },
          "execution_count": 16,
          "metadata": {},
          "output_type": "execute_result"
        },
        {
          "data": {
            "text/plain": "<Figure size 720x288 with 1 Axes>",
            "image/png": "[encoded data removed]"
          },
          "metadata": {
            "needs_background": "light"
          },
          "output_type": "display_data"
        },
        {
          "data": {
            "text/plain": "<Figure size 720x288 with 1 Axes>",
            "image/png": "[encoded data removed]"
          },
          "metadata": {
            "needs_background": "light"
          },
          "output_type": "display_data"
        },
        {
          "data": {
            "text/plain": "<Figure size 720x288 with 1 Axes>",
            "image/png": "[encoded data removed]"
          },
          "metadata": {
            "needs_background": "light"
          },
          "output_type": "display_data"
        }
      ]
    },
    {
      "cell_type": "code",
      "metadata": {
        "pycharm": {
          "name": "#%%\n"
        },
        "id": "y3KAqBshPtfo",
        "outputId": "b35ec9e2-eab7-4e49-af48-886608bd75a7"
      },
      "source": [
        "prediction = np.rint(lgb.predict(X_train_val_pca, num_iteration=lgb.best_iteration_))\n",
        "print(\"accuracy\", accuracy_score(y_train_val, prediction))"
      ],
      "execution_count": null,
      "outputs": [
        {
          "name": "stdout",
          "output_type": "stream",
          "text": [
            "accuracy 0.9603729603729604\n"
          ]
        }
      ]
    },
    {
      "cell_type": "code",
      "metadata": {
        "pycharm": {
          "name": "#%%\n"
        },
        "id": "bwsL7ObJPtfo"
      },
      "source": [
        "model = lgbm.LGBMClassifier()\n",
        "def algorithm_pipeline(X_train_data, X_test_data, y_train_data, y_test_data,\n",
        "                       model, param_grid, cv=10, scoring_fit='neg_mean_squared_error',\n",
        "                       do_probabilities = False):\n",
        "    gs = GridSearchCV(\n",
        "        estimator=model,\n",
        "        param_grid=param_grid,\n",
        "        cv=cv,\n",
        "        n_jobs=1,\n",
        "        scoring=scoring_fit,\n",
        "        verbose=100\n",
        "    )\n",
        "    fitted_model = gs.fit(X_train_data, y_train_data)\n",
        "\n",
        "    if do_probabilities:\n",
        "        pred = fitted_model.predict_proba(X_test_data)\n",
        "    else:\n",
        "        pred = fitted_model.predict(X_test_data)\n",
        "\n",
        "    return fitted_model, pred"
      ],
      "execution_count": null,
      "outputs": []
    },
    {
      "cell_type": "code",
      "metadata": {
        "pycharm": {
          "name": "#%%\n"
        },
        "id": "01OQCSlyPtfp",
        "outputId": "1f12d73d-82ec-42ab-80a5-7658f3371c4f"
      },
      "source": [
        "param_grid = {\n",
        "    'boosting_type':['gbdt'],\n",
        "    #'learning_rate': [0.5, 0.1, 0.01], #скорости обучения\n",
        "    'objective':['multiclass'],\n",
        "    'num_class':[int(np.unique(y_train_train).size)],\n",
        "    'n_estimators': [50, 100, 200], #Количество деревьев\n",
        "    #'colsample_bytree': [0.6, 0.7, 0.8], #Соотношение подвыборки столбцов при построении каждого дерева\n",
        "    'max_depth': [15, 20, 25], #Максимальная глубина дерева\n",
        "    'num_leaves': [50, 100, 200], #Максимальное количество листьев дерева\n",
        "    #'reg_alpha': [1.1, 1.2, 1.3], #регуляризации L1 по весам\n",
        "    #'reg_lambda': [1.1, 1.2, 1.3], #регуляризации L2 по весам\n",
        "    #'min_split_gain': [0, 0.2, 0.3, 0.4], #Минимальное снижение потерь\n",
        "    #'min_child_samples':[10, 20, 30], #Минимальное количество данных, необходимых в дочернем (листе).\n",
        "    #'subsample': [0.7, 0.8, 0.9], #Отношение подвыборки\n",
        "    'metric':['multi_error', 'multi_logloss'],\n",
        "    #'subsample_freq': [20, 21, 23], #Частота подвыборки\n",
        "    'random_state':[42],\n",
        "    #'importance_type':['split', 'gain']\n",
        "}\n",
        "\n",
        "model, pred = algorithm_pipeline(X_train_train_pca, X_train_val_pca, y_train_train, y_train_val, model,\n",
        "                                 param_grid, cv=5, scoring_fit='accuracy')\n",
        "\n"
      ],
      "execution_count": null,
      "outputs": [
        {
          "name": "stdout",
          "output_type": "stream",
          "text": [
            "Fitting 5 folds for each of 54 candidates, totalling 270 fits\n",
            "[CV 1/5; 1/54] START boosting_type=gbdt, max_depth=15, metric=multi_error, n_estimators=50, num_class=6, num_leaves=50, objective=multiclass, random_state=42\n",
            "[CV 1/5; 1/54] END boosting_type=gbdt, max_depth=15, metric=multi_error, n_estimators=50, num_class=6, num_leaves=50, objective=multiclass, random_state=42;, score=0.956 total time=   4.4s\n",
            "[CV 2/5; 1/54] START boosting_type=gbdt, max_depth=15, metric=multi_error, n_estimators=50, num_class=6, num_leaves=50, objective=multiclass, random_state=42\n",
            "[CV 2/5; 1/54] END boosting_type=gbdt, max_depth=15, metric=multi_error, n_estimators=50, num_class=6, num_leaves=50, objective=multiclass, random_state=42;, score=0.942 total time=   3.5s\n",
            "[CV 3/5; 1/54] START boosting_type=gbdt, max_depth=15, metric=multi_error, n_estimators=50, num_class=6, num_leaves=50, objective=multiclass, random_state=42\n",
            "[CV 3/5; 1/54] END boosting_type=gbdt, max_depth=15, metric=multi_error, n_estimators=50, num_class=6, num_leaves=50, objective=multiclass, random_state=42;, score=0.938 total time=   3.2s\n",
            "[CV 4/5; 1/54] START boosting_type=gbdt, max_depth=15, metric=multi_error, n_estimators=50, num_class=6, num_leaves=50, objective=multiclass, random_state=42\n",
            "[CV 4/5; 1/54] END boosting_type=gbdt, max_depth=15, metric=multi_error, n_estimators=50, num_class=6, num_leaves=50, objective=multiclass, random_state=42;, score=0.943 total time=   3.6s\n",
            "[CV 5/5; 1/54] START boosting_type=gbdt, max_depth=15, metric=multi_error, n_estimators=50, num_class=6, num_leaves=50, objective=multiclass, random_state=42\n",
            "[CV 5/5; 1/54] END boosting_type=gbdt, max_depth=15, metric=multi_error, n_estimators=50, num_class=6, num_leaves=50, objective=multiclass, random_state=42;, score=0.941 total time=   3.2s\n",
            "[CV 1/5; 2/54] START boosting_type=gbdt, max_depth=15, metric=multi_error, n_estimators=50, num_class=6, num_leaves=100, objective=multiclass, random_state=42\n",
            "[CV 1/5; 2/54] END boosting_type=gbdt, max_depth=15, metric=multi_error, n_estimators=50, num_class=6, num_leaves=100, objective=multiclass, random_state=42;, score=0.950 total time=   6.5s\n",
            "[CV 2/5; 2/54] START boosting_type=gbdt, max_depth=15, metric=multi_error, n_estimators=50, num_class=6, num_leaves=100, objective=multiclass, random_state=42\n",
            "[CV 2/5; 2/54] END boosting_type=gbdt, max_depth=15, metric=multi_error, n_estimators=50, num_class=6, num_leaves=100, objective=multiclass, random_state=42;, score=0.942 total time=   9.4s\n",
            "[CV 3/5; 2/54] START boosting_type=gbdt, max_depth=15, metric=multi_error, n_estimators=50, num_class=6, num_leaves=100, objective=multiclass, random_state=42\n",
            "[CV 3/5; 2/54] END boosting_type=gbdt, max_depth=15, metric=multi_error, n_estimators=50, num_class=6, num_leaves=100, objective=multiclass, random_state=42;, score=0.942 total time=   7.8s\n",
            "[CV 4/5; 2/54] START boosting_type=gbdt, max_depth=15, metric=multi_error, n_estimators=50, num_class=6, num_leaves=100, objective=multiclass, random_state=42\n",
            "[CV 4/5; 2/54] END boosting_type=gbdt, max_depth=15, metric=multi_error, n_estimators=50, num_class=6, num_leaves=100, objective=multiclass, random_state=42;, score=0.940 total time=   6.8s\n",
            "[CV 5/5; 2/54] START boosting_type=gbdt, max_depth=15, metric=multi_error, n_estimators=50, num_class=6, num_leaves=100, objective=multiclass, random_state=42\n",
            "[CV 5/5; 2/54] END boosting_type=gbdt, max_depth=15, metric=multi_error, n_estimators=50, num_class=6, num_leaves=100, objective=multiclass, random_state=42;, score=0.942 total time=   6.8s\n",
            "[CV 1/5; 3/54] START boosting_type=gbdt, max_depth=15, metric=multi_error, n_estimators=50, num_class=6, num_leaves=200, objective=multiclass, random_state=42\n",
            "[CV 1/5; 3/54] END boosting_type=gbdt, max_depth=15, metric=multi_error, n_estimators=50, num_class=6, num_leaves=200, objective=multiclass, random_state=42;, score=0.952 total time=   9.2s\n",
            "[CV 2/5; 3/54] START boosting_type=gbdt, max_depth=15, metric=multi_error, n_estimators=50, num_class=6, num_leaves=200, objective=multiclass, random_state=42\n",
            "[CV 2/5; 3/54] END boosting_type=gbdt, max_depth=15, metric=multi_error, n_estimators=50, num_class=6, num_leaves=200, objective=multiclass, random_state=42;, score=0.945 total time=   8.0s\n",
            "[CV 3/5; 3/54] START boosting_type=gbdt, max_depth=15, metric=multi_error, n_estimators=50, num_class=6, num_leaves=200, objective=multiclass, random_state=42\n",
            "[CV 3/5; 3/54] END boosting_type=gbdt, max_depth=15, metric=multi_error, n_estimators=50, num_class=6, num_leaves=200, objective=multiclass, random_state=42;, score=0.937 total time=   8.7s\n",
            "[CV 4/5; 3/54] START boosting_type=gbdt, max_depth=15, metric=multi_error, n_estimators=50, num_class=6, num_leaves=200, objective=multiclass, random_state=42\n",
            "[CV 4/5; 3/54] END boosting_type=gbdt, max_depth=15, metric=multi_error, n_estimators=50, num_class=6, num_leaves=200, objective=multiclass, random_state=42;, score=0.939 total time=   8.3s\n",
            "[CV 5/5; 3/54] START boosting_type=gbdt, max_depth=15, metric=multi_error, n_estimators=50, num_class=6, num_leaves=200, objective=multiclass, random_state=42\n",
            "[CV 5/5; 3/54] END boosting_type=gbdt, max_depth=15, metric=multi_error, n_estimators=50, num_class=6, num_leaves=200, objective=multiclass, random_state=42;, score=0.940 total time=   9.9s\n",
            "[CV 1/5; 4/54] START boosting_type=gbdt, max_depth=15, metric=multi_error, n_estimators=100, num_class=6, num_leaves=50, objective=multiclass, random_state=42\n",
            "[CV 1/5; 4/54] END boosting_type=gbdt, max_depth=15, metric=multi_error, n_estimators=100, num_class=6, num_leaves=50, objective=multiclass, random_state=42;, score=0.963 total time=   7.6s\n",
            "[CV 2/5; 4/54] START boosting_type=gbdt, max_depth=15, metric=multi_error, n_estimators=100, num_class=6, num_leaves=50, objective=multiclass, random_state=42\n",
            "[CV 2/5; 4/54] END boosting_type=gbdt, max_depth=15, metric=multi_error, n_estimators=100, num_class=6, num_leaves=50, objective=multiclass, random_state=42;, score=0.949 total time=   7.7s\n",
            "[CV 3/5; 4/54] START boosting_type=gbdt, max_depth=15, metric=multi_error, n_estimators=100, num_class=6, num_leaves=50, objective=multiclass, random_state=42\n",
            "[CV 3/5; 4/54] END boosting_type=gbdt, max_depth=15, metric=multi_error, n_estimators=100, num_class=6, num_leaves=50, objective=multiclass, random_state=42;, score=0.946 total time=   7.9s\n",
            "[CV 4/5; 4/54] START boosting_type=gbdt, max_depth=15, metric=multi_error, n_estimators=100, num_class=6, num_leaves=50, objective=multiclass, random_state=42\n",
            "[CV 4/5; 4/54] END boosting_type=gbdt, max_depth=15, metric=multi_error, n_estimators=100, num_class=6, num_leaves=50, objective=multiclass, random_state=42;, score=0.955 total time=   8.0s\n",
            "[CV 5/5; 4/54] START boosting_type=gbdt, max_depth=15, metric=multi_error, n_estimators=100, num_class=6, num_leaves=50, objective=multiclass, random_state=42\n",
            "[CV 5/5; 4/54] END boosting_type=gbdt, max_depth=15, metric=multi_error, n_estimators=100, num_class=6, num_leaves=50, objective=multiclass, random_state=42;, score=0.946 total time=   7.2s\n",
            "[CV 1/5; 5/54] START boosting_type=gbdt, max_depth=15, metric=multi_error, n_estimators=100, num_class=6, num_leaves=100, objective=multiclass, random_state=42\n",
            "[CV 1/5; 5/54] END boosting_type=gbdt, max_depth=15, metric=multi_error, n_estimators=100, num_class=6, num_leaves=100, objective=multiclass, random_state=42;, score=0.956 total time=  12.1s\n",
            "[CV 2/5; 5/54] START boosting_type=gbdt, max_depth=15, metric=multi_error, n_estimators=100, num_class=6, num_leaves=100, objective=multiclass, random_state=42\n",
            "[CV 2/5; 5/54] END boosting_type=gbdt, max_depth=15, metric=multi_error, n_estimators=100, num_class=6, num_leaves=100, objective=multiclass, random_state=42;, score=0.950 total time=  13.1s\n",
            "[CV 3/5; 5/54] START boosting_type=gbdt, max_depth=15, metric=multi_error, n_estimators=100, num_class=6, num_leaves=100, objective=multiclass, random_state=42\n",
            "[CV 3/5; 5/54] END boosting_type=gbdt, max_depth=15, metric=multi_error, n_estimators=100, num_class=6, num_leaves=100, objective=multiclass, random_state=42;, score=0.945 total time=  13.2s\n",
            "[CV 4/5; 5/54] START boosting_type=gbdt, max_depth=15, metric=multi_error, n_estimators=100, num_class=6, num_leaves=100, objective=multiclass, random_state=42\n",
            "[CV 4/5; 5/54] END boosting_type=gbdt, max_depth=15, metric=multi_error, n_estimators=100, num_class=6, num_leaves=100, objective=multiclass, random_state=42;, score=0.956 total time=  13.9s\n",
            "[CV 5/5; 5/54] START boosting_type=gbdt, max_depth=15, metric=multi_error, n_estimators=100, num_class=6, num_leaves=100, objective=multiclass, random_state=42\n",
            "[CV 5/5; 5/54] END boosting_type=gbdt, max_depth=15, metric=multi_error, n_estimators=100, num_class=6, num_leaves=100, objective=multiclass, random_state=42;, score=0.946 total time=  14.0s\n",
            "[CV 1/5; 6/54] START boosting_type=gbdt, max_depth=15, metric=multi_error, n_estimators=100, num_class=6, num_leaves=200, objective=multiclass, random_state=42\n",
            "[CV 1/5; 6/54] END boosting_type=gbdt, max_depth=15, metric=multi_error, n_estimators=100, num_class=6, num_leaves=200, objective=multiclass, random_state=42;, score=0.958 total time=  15.0s\n",
            "[CV 2/5; 6/54] START boosting_type=gbdt, max_depth=15, metric=multi_error, n_estimators=100, num_class=6, num_leaves=200, objective=multiclass, random_state=42\n",
            "[CV 2/5; 6/54] END boosting_type=gbdt, max_depth=15, metric=multi_error, n_estimators=100, num_class=6, num_leaves=200, objective=multiclass, random_state=42;, score=0.950 total time=  15.2s\n",
            "[CV 3/5; 6/54] START boosting_type=gbdt, max_depth=15, metric=multi_error, n_estimators=100, num_class=6, num_leaves=200, objective=multiclass, random_state=42\n",
            "[CV 3/5; 6/54] END boosting_type=gbdt, max_depth=15, metric=multi_error, n_estimators=100, num_class=6, num_leaves=200, objective=multiclass, random_state=42;, score=0.939 total time=  15.9s\n",
            "[CV 4/5; 6/54] START boosting_type=gbdt, max_depth=15, metric=multi_error, n_estimators=100, num_class=6, num_leaves=200, objective=multiclass, random_state=42\n",
            "[CV 4/5; 6/54] END boosting_type=gbdt, max_depth=15, metric=multi_error, n_estimators=100, num_class=6, num_leaves=200, objective=multiclass, random_state=42;, score=0.952 total time=  16.4s\n",
            "[CV 5/5; 6/54] START boosting_type=gbdt, max_depth=15, metric=multi_error, n_estimators=100, num_class=6, num_leaves=200, objective=multiclass, random_state=42\n",
            "[CV 5/5; 6/54] END boosting_type=gbdt, max_depth=15, metric=multi_error, n_estimators=100, num_class=6, num_leaves=200, objective=multiclass, random_state=42;, score=0.948 total time=  14.8s\n",
            "[CV 1/5; 7/54] START boosting_type=gbdt, max_depth=15, metric=multi_error, n_estimators=200, num_class=6, num_leaves=50, objective=multiclass, random_state=42\n",
            "[CV 1/5; 7/54] END boosting_type=gbdt, max_depth=15, metric=multi_error, n_estimators=200, num_class=6, num_leaves=50, objective=multiclass, random_state=42;, score=0.969 total time=   9.0s\n",
            "[CV 2/5; 7/54] START boosting_type=gbdt, max_depth=15, metric=multi_error, n_estimators=200, num_class=6, num_leaves=50, objective=multiclass, random_state=42\n",
            "[CV 2/5; 7/54] END boosting_type=gbdt, max_depth=15, metric=multi_error, n_estimators=200, num_class=6, num_leaves=50, objective=multiclass, random_state=42;, score=0.958 total time=  10.2s\n",
            "[CV 3/5; 7/54] START boosting_type=gbdt, max_depth=15, metric=multi_error, n_estimators=200, num_class=6, num_leaves=50, objective=multiclass, random_state=42\n",
            "[CV 3/5; 7/54] END boosting_type=gbdt, max_depth=15, metric=multi_error, n_estimators=200, num_class=6, num_leaves=50, objective=multiclass, random_state=42;, score=0.953 total time=   9.2s\n",
            "[CV 4/5; 7/54] START boosting_type=gbdt, max_depth=15, metric=multi_error, n_estimators=200, num_class=6, num_leaves=50, objective=multiclass, random_state=42\n",
            "[CV 4/5; 7/54] END boosting_type=gbdt, max_depth=15, metric=multi_error, n_estimators=200, num_class=6, num_leaves=50, objective=multiclass, random_state=42;, score=0.957 total time=   8.4s\n",
            "[CV 5/5; 7/54] START boosting_type=gbdt, max_depth=15, metric=multi_error, n_estimators=200, num_class=6, num_leaves=50, objective=multiclass, random_state=42\n",
            "[CV 5/5; 7/54] END boosting_type=gbdt, max_depth=15, metric=multi_error, n_estimators=200, num_class=6, num_leaves=50, objective=multiclass, random_state=42;, score=0.951 total time=   8.7s\n",
            "[CV 1/5; 8/54] START boosting_type=gbdt, max_depth=15, metric=multi_error, n_estimators=200, num_class=6, num_leaves=100, objective=multiclass, random_state=42\n",
            "[CV 1/5; 8/54] END boosting_type=gbdt, max_depth=15, metric=multi_error, n_estimators=200, num_class=6, num_leaves=100, objective=multiclass, random_state=42;, score=0.962 total time=  13.0s\n",
            "[CV 2/5; 8/54] START boosting_type=gbdt, max_depth=15, metric=multi_error, n_estimators=200, num_class=6, num_leaves=100, objective=multiclass, random_state=42\n",
            "[CV 2/5; 8/54] END boosting_type=gbdt, max_depth=15, metric=multi_error, n_estimators=200, num_class=6, num_leaves=100, objective=multiclass, random_state=42;, score=0.955 total time=  14.4s\n",
            "[CV 3/5; 8/54] START boosting_type=gbdt, max_depth=15, metric=multi_error, n_estimators=200, num_class=6, num_leaves=100, objective=multiclass, random_state=42\n",
            "[CV 3/5; 8/54] END boosting_type=gbdt, max_depth=15, metric=multi_error, n_estimators=200, num_class=6, num_leaves=100, objective=multiclass, random_state=42;, score=0.950 total time=  12.6s\n",
            "[CV 4/5; 8/54] START boosting_type=gbdt, max_depth=15, metric=multi_error, n_estimators=200, num_class=6, num_leaves=100, objective=multiclass, random_state=42\n",
            "[CV 4/5; 8/54] END boosting_type=gbdt, max_depth=15, metric=multi_error, n_estimators=200, num_class=6, num_leaves=100, objective=multiclass, random_state=42;, score=0.959 total time=  12.8s\n",
            "[CV 5/5; 8/54] START boosting_type=gbdt, max_depth=15, metric=multi_error, n_estimators=200, num_class=6, num_leaves=100, objective=multiclass, random_state=42\n",
            "[CV 5/5; 8/54] END boosting_type=gbdt, max_depth=15, metric=multi_error, n_estimators=200, num_class=6, num_leaves=100, objective=multiclass, random_state=42;, score=0.953 total time=  14.0s\n",
            "[CV 1/5; 9/54] START boosting_type=gbdt, max_depth=15, metric=multi_error, n_estimators=200, num_class=6, num_leaves=200, objective=multiclass, random_state=42\n",
            "[CV 1/5; 9/54] END boosting_type=gbdt, max_depth=15, metric=multi_error, n_estimators=200, num_class=6, num_leaves=200, objective=multiclass, random_state=42;, score=0.968 total time=  17.6s\n",
            "[CV 2/5; 9/54] START boosting_type=gbdt, max_depth=15, metric=multi_error, n_estimators=200, num_class=6, num_leaves=200, objective=multiclass, random_state=42\n",
            "[CV 2/5; 9/54] END boosting_type=gbdt, max_depth=15, metric=multi_error, n_estimators=200, num_class=6, num_leaves=200, objective=multiclass, random_state=42;, score=0.959 total time=  17.0s\n",
            "[CV 3/5; 9/54] START boosting_type=gbdt, max_depth=15, metric=multi_error, n_estimators=200, num_class=6, num_leaves=200, objective=multiclass, random_state=42\n",
            "[CV 3/5; 9/54] END boosting_type=gbdt, max_depth=15, metric=multi_error, n_estimators=200, num_class=6, num_leaves=200, objective=multiclass, random_state=42;, score=0.950 total time=  15.3s\n",
            "[CV 4/5; 9/54] START boosting_type=gbdt, max_depth=15, metric=multi_error, n_estimators=200, num_class=6, num_leaves=200, objective=multiclass, random_state=42\n",
            "[CV 4/5; 9/54] END boosting_type=gbdt, max_depth=15, metric=multi_error, n_estimators=200, num_class=6, num_leaves=200, objective=multiclass, random_state=42;, score=0.956 total time=  15.1s\n",
            "[CV 5/5; 9/54] START boosting_type=gbdt, max_depth=15, metric=multi_error, n_estimators=200, num_class=6, num_leaves=200, objective=multiclass, random_state=42\n",
            "[CV 5/5; 9/54] END boosting_type=gbdt, max_depth=15, metric=multi_error, n_estimators=200, num_class=6, num_leaves=200, objective=multiclass, random_state=42;, score=0.953 total time=  16.8s\n",
            "[CV 1/5; 10/54] START boosting_type=gbdt, max_depth=15, metric=multi_logloss, n_estimators=50, num_class=6, num_leaves=50, objective=multiclass, random_state=42\n",
            "[CV 1/5; 10/54] END boosting_type=gbdt, max_depth=15, metric=multi_logloss, n_estimators=50, num_class=6, num_leaves=50, objective=multiclass, random_state=42;, score=0.956 total time=   3.5s\n",
            "[CV 2/5; 10/54] START boosting_type=gbdt, max_depth=15, metric=multi_logloss, n_estimators=50, num_class=6, num_leaves=50, objective=multiclass, random_state=42\n",
            "[CV 2/5; 10/54] END boosting_type=gbdt, max_depth=15, metric=multi_logloss, n_estimators=50, num_class=6, num_leaves=50, objective=multiclass, random_state=42;, score=0.942 total time=   3.4s\n",
            "[CV 3/5; 10/54] START boosting_type=gbdt, max_depth=15, metric=multi_logloss, n_estimators=50, num_class=6, num_leaves=50, objective=multiclass, random_state=42\n",
            "[CV 3/5; 10/54] END boosting_type=gbdt, max_depth=15, metric=multi_logloss, n_estimators=50, num_class=6, num_leaves=50, objective=multiclass, random_state=42;, score=0.938 total time=   4.0s\n",
            "[CV 4/5; 10/54] START boosting_type=gbdt, max_depth=15, metric=multi_logloss, n_estimators=50, num_class=6, num_leaves=50, objective=multiclass, random_state=42\n",
            "[CV 4/5; 10/54] END boosting_type=gbdt, max_depth=15, metric=multi_logloss, n_estimators=50, num_class=6, num_leaves=50, objective=multiclass, random_state=42;, score=0.943 total time=   3.3s\n",
            "[CV 5/5; 10/54] START boosting_type=gbdt, max_depth=15, metric=multi_logloss, n_estimators=50, num_class=6, num_leaves=50, objective=multiclass, random_state=42\n",
            "[CV 5/5; 10/54] END boosting_type=gbdt, max_depth=15, metric=multi_logloss, n_estimators=50, num_class=6, num_leaves=50, objective=multiclass, random_state=42;, score=0.941 total time=   3.8s\n",
            "[CV 1/5; 11/54] START boosting_type=gbdt, max_depth=15, metric=multi_logloss, n_estimators=50, num_class=6, num_leaves=100, objective=multiclass, random_state=42\n",
            "[CV 1/5; 11/54] END boosting_type=gbdt, max_depth=15, metric=multi_logloss, n_estimators=50, num_class=6, num_leaves=100, objective=multiclass, random_state=42;, score=0.950 total time=   6.4s\n",
            "[CV 2/5; 11/54] START boosting_type=gbdt, max_depth=15, metric=multi_logloss, n_estimators=50, num_class=6, num_leaves=100, objective=multiclass, random_state=42\n",
            "[CV 2/5; 11/54] END boosting_type=gbdt, max_depth=15, metric=multi_logloss, n_estimators=50, num_class=6, num_leaves=100, objective=multiclass, random_state=42;, score=0.942 total time=   6.6s\n",
            "[CV 3/5; 11/54] START boosting_type=gbdt, max_depth=15, metric=multi_logloss, n_estimators=50, num_class=6, num_leaves=100, objective=multiclass, random_state=42\n",
            "[CV 3/5; 11/54] END boosting_type=gbdt, max_depth=15, metric=multi_logloss, n_estimators=50, num_class=6, num_leaves=100, objective=multiclass, random_state=42;, score=0.942 total time=   7.1s\n",
            "[CV 4/5; 11/54] START boosting_type=gbdt, max_depth=15, metric=multi_logloss, n_estimators=50, num_class=6, num_leaves=100, objective=multiclass, random_state=42\n",
            "[CV 4/5; 11/54] END boosting_type=gbdt, max_depth=15, metric=multi_logloss, n_estimators=50, num_class=6, num_leaves=100, objective=multiclass, random_state=42;, score=0.940 total time=   5.9s\n",
            "[CV 5/5; 11/54] START boosting_type=gbdt, max_depth=15, metric=multi_logloss, n_estimators=50, num_class=6, num_leaves=100, objective=multiclass, random_state=42\n",
            "[CV 5/5; 11/54] END boosting_type=gbdt, max_depth=15, metric=multi_logloss, n_estimators=50, num_class=6, num_leaves=100, objective=multiclass, random_state=42;, score=0.942 total time=   6.1s\n",
            "[CV 1/5; 12/54] START boosting_type=gbdt, max_depth=15, metric=multi_logloss, n_estimators=50, num_class=6, num_leaves=200, objective=multiclass, random_state=42\n",
            "[CV 1/5; 12/54] END boosting_type=gbdt, max_depth=15, metric=multi_logloss, n_estimators=50, num_class=6, num_leaves=200, objective=multiclass, random_state=42;, score=0.952 total time=   9.0s\n",
            "[CV 2/5; 12/54] START boosting_type=gbdt, max_depth=15, metric=multi_logloss, n_estimators=50, num_class=6, num_leaves=200, objective=multiclass, random_state=42\n",
            "[CV 2/5; 12/54] END boosting_type=gbdt, max_depth=15, metric=multi_logloss, n_estimators=50, num_class=6, num_leaves=200, objective=multiclass, random_state=42;, score=0.945 total time=   8.6s\n",
            "[CV 3/5; 12/54] START boosting_type=gbdt, max_depth=15, metric=multi_logloss, n_estimators=50, num_class=6, num_leaves=200, objective=multiclass, random_state=42\n",
            "[CV 3/5; 12/54] END boosting_type=gbdt, max_depth=15, metric=multi_logloss, n_estimators=50, num_class=6, num_leaves=200, objective=multiclass, random_state=42;, score=0.937 total time=   8.8s\n",
            "[CV 4/5; 12/54] START boosting_type=gbdt, max_depth=15, metric=multi_logloss, n_estimators=50, num_class=6, num_leaves=200, objective=multiclass, random_state=42\n",
            "[CV 4/5; 12/54] END boosting_type=gbdt, max_depth=15, metric=multi_logloss, n_estimators=50, num_class=6, num_leaves=200, objective=multiclass, random_state=42;, score=0.939 total time=   9.6s\n",
            "[CV 5/5; 12/54] START boosting_type=gbdt, max_depth=15, metric=multi_logloss, n_estimators=50, num_class=6, num_leaves=200, objective=multiclass, random_state=42\n",
            "[CV 5/5; 12/54] END boosting_type=gbdt, max_depth=15, metric=multi_logloss, n_estimators=50, num_class=6, num_leaves=200, objective=multiclass, random_state=42;, score=0.940 total time=   9.3s\n",
            "[CV 1/5; 13/54] START boosting_type=gbdt, max_depth=15, metric=multi_logloss, n_estimators=100, num_class=6, num_leaves=50, objective=multiclass, random_state=42\n",
            "[CV 1/5; 13/54] END boosting_type=gbdt, max_depth=15, metric=multi_logloss, n_estimators=100, num_class=6, num_leaves=50, objective=multiclass, random_state=42;, score=0.963 total time=   7.3s\n",
            "[CV 2/5; 13/54] START boosting_type=gbdt, max_depth=15, metric=multi_logloss, n_estimators=100, num_class=6, num_leaves=50, objective=multiclass, random_state=42\n",
            "[CV 2/5; 13/54] END boosting_type=gbdt, max_depth=15, metric=multi_logloss, n_estimators=100, num_class=6, num_leaves=50, objective=multiclass, random_state=42;, score=0.949 total time=   7.6s\n",
            "[CV 3/5; 13/54] START boosting_type=gbdt, max_depth=15, metric=multi_logloss, n_estimators=100, num_class=6, num_leaves=50, objective=multiclass, random_state=42\n",
            "[CV 3/5; 13/54] END boosting_type=gbdt, max_depth=15, metric=multi_logloss, n_estimators=100, num_class=6, num_leaves=50, objective=multiclass, random_state=42;, score=0.946 total time=   8.5s\n",
            "[CV 4/5; 13/54] START boosting_type=gbdt, max_depth=15, metric=multi_logloss, n_estimators=100, num_class=6, num_leaves=50, objective=multiclass, random_state=42\n",
            "[CV 4/5; 13/54] END boosting_type=gbdt, max_depth=15, metric=multi_logloss, n_estimators=100, num_class=6, num_leaves=50, objective=multiclass, random_state=42;, score=0.955 total time=   7.1s\n",
            "[CV 5/5; 13/54] START boosting_type=gbdt, max_depth=15, metric=multi_logloss, n_estimators=100, num_class=6, num_leaves=50, objective=multiclass, random_state=42\n",
            "[CV 5/5; 13/54] END boosting_type=gbdt, max_depth=15, metric=multi_logloss, n_estimators=100, num_class=6, num_leaves=50, objective=multiclass, random_state=42;, score=0.946 total time=   7.6s\n",
            "[CV 1/5; 14/54] START boosting_type=gbdt, max_depth=15, metric=multi_logloss, n_estimators=100, num_class=6, num_leaves=100, objective=multiclass, random_state=42\n",
            "[CV 1/5; 14/54] END boosting_type=gbdt, max_depth=15, metric=multi_logloss, n_estimators=100, num_class=6, num_leaves=100, objective=multiclass, random_state=42;, score=0.956 total time=  12.6s\n",
            "[CV 2/5; 14/54] START boosting_type=gbdt, max_depth=15, metric=multi_logloss, n_estimators=100, num_class=6, num_leaves=100, objective=multiclass, random_state=42\n",
            "[CV 2/5; 14/54] END boosting_type=gbdt, max_depth=15, metric=multi_logloss, n_estimators=100, num_class=6, num_leaves=100, objective=multiclass, random_state=42;, score=0.950 total time=  11.3s\n",
            "[CV 3/5; 14/54] START boosting_type=gbdt, max_depth=15, metric=multi_logloss, n_estimators=100, num_class=6, num_leaves=100, objective=multiclass, random_state=42\n",
            "[CV 3/5; 14/54] END boosting_type=gbdt, max_depth=15, metric=multi_logloss, n_estimators=100, num_class=6, num_leaves=100, objective=multiclass, random_state=42;, score=0.945 total time=  11.6s\n",
            "[CV 4/5; 14/54] START boosting_type=gbdt, max_depth=15, metric=multi_logloss, n_estimators=100, num_class=6, num_leaves=100, objective=multiclass, random_state=42\n",
            "[CV 4/5; 14/54] END boosting_type=gbdt, max_depth=15, metric=multi_logloss, n_estimators=100, num_class=6, num_leaves=100, objective=multiclass, random_state=42;, score=0.956 total time=  13.4s\n",
            "[CV 5/5; 14/54] START boosting_type=gbdt, max_depth=15, metric=multi_logloss, n_estimators=100, num_class=6, num_leaves=100, objective=multiclass, random_state=42\n",
            "[CV 5/5; 14/54] END boosting_type=gbdt, max_depth=15, metric=multi_logloss, n_estimators=100, num_class=6, num_leaves=100, objective=multiclass, random_state=42;, score=0.946 total time=  14.0s\n",
            "[CV 1/5; 15/54] START boosting_type=gbdt, max_depth=15, metric=multi_logloss, n_estimators=100, num_class=6, num_leaves=200, objective=multiclass, random_state=42\n",
            "[CV 1/5; 15/54] END boosting_type=gbdt, max_depth=15, metric=multi_logloss, n_estimators=100, num_class=6, num_leaves=200, objective=multiclass, random_state=42;, score=0.958 total time=  12.9s\n",
            "[CV 2/5; 15/54] START boosting_type=gbdt, max_depth=15, metric=multi_logloss, n_estimators=100, num_class=6, num_leaves=200, objective=multiclass, random_state=42\n",
            "[CV 2/5; 15/54] END boosting_type=gbdt, max_depth=15, metric=multi_logloss, n_estimators=100, num_class=6, num_leaves=200, objective=multiclass, random_state=42;, score=0.950 total time=  13.9s\n",
            "[CV 3/5; 15/54] START boosting_type=gbdt, max_depth=15, metric=multi_logloss, n_estimators=100, num_class=6, num_leaves=200, objective=multiclass, random_state=42\n",
            "[CV 3/5; 15/54] END boosting_type=gbdt, max_depth=15, metric=multi_logloss, n_estimators=100, num_class=6, num_leaves=200, objective=multiclass, random_state=42;, score=0.939 total time=  17.1s\n",
            "[CV 4/5; 15/54] START boosting_type=gbdt, max_depth=15, metric=multi_logloss, n_estimators=100, num_class=6, num_leaves=200, objective=multiclass, random_state=42\n",
            "[CV 4/5; 15/54] END boosting_type=gbdt, max_depth=15, metric=multi_logloss, n_estimators=100, num_class=6, num_leaves=200, objective=multiclass, random_state=42;, score=0.952 total time=  15.7s\n",
            "[CV 5/5; 15/54] START boosting_type=gbdt, max_depth=15, metric=multi_logloss, n_estimators=100, num_class=6, num_leaves=200, objective=multiclass, random_state=42\n",
            "[CV 5/5; 15/54] END boosting_type=gbdt, max_depth=15, metric=multi_logloss, n_estimators=100, num_class=6, num_leaves=200, objective=multiclass, random_state=42;, score=0.948 total time=  15.3s\n",
            "[CV 1/5; 16/54] START boosting_type=gbdt, max_depth=15, metric=multi_logloss, n_estimators=200, num_class=6, num_leaves=50, objective=multiclass, random_state=42\n",
            "[CV 1/5; 16/54] END boosting_type=gbdt, max_depth=15, metric=multi_logloss, n_estimators=200, num_class=6, num_leaves=50, objective=multiclass, random_state=42;, score=0.969 total time=   9.5s\n",
            "[CV 2/5; 16/54] START boosting_type=gbdt, max_depth=15, metric=multi_logloss, n_estimators=200, num_class=6, num_leaves=50, objective=multiclass, random_state=42\n",
            "[CV 2/5; 16/54] END boosting_type=gbdt, max_depth=15, metric=multi_logloss, n_estimators=200, num_class=6, num_leaves=50, objective=multiclass, random_state=42;, score=0.958 total time=   9.0s\n",
            "[CV 3/5; 16/54] START boosting_type=gbdt, max_depth=15, metric=multi_logloss, n_estimators=200, num_class=6, num_leaves=50, objective=multiclass, random_state=42\n",
            "[CV 3/5; 16/54] END boosting_type=gbdt, max_depth=15, metric=multi_logloss, n_estimators=200, num_class=6, num_leaves=50, objective=multiclass, random_state=42;, score=0.953 total time=   8.9s\n",
            "[CV 4/5; 16/54] START boosting_type=gbdt, max_depth=15, metric=multi_logloss, n_estimators=200, num_class=6, num_leaves=50, objective=multiclass, random_state=42\n",
            "[CV 4/5; 16/54] END boosting_type=gbdt, max_depth=15, metric=multi_logloss, n_estimators=200, num_class=6, num_leaves=50, objective=multiclass, random_state=42;, score=0.957 total time=   7.5s\n",
            "[CV 5/5; 16/54] START boosting_type=gbdt, max_depth=15, metric=multi_logloss, n_estimators=200, num_class=6, num_leaves=50, objective=multiclass, random_state=42\n",
            "[CV 5/5; 16/54] END boosting_type=gbdt, max_depth=15, metric=multi_logloss, n_estimators=200, num_class=6, num_leaves=50, objective=multiclass, random_state=42;, score=0.951 total time=   9.0s\n",
            "[CV 1/5; 17/54] START boosting_type=gbdt, max_depth=15, metric=multi_logloss, n_estimators=200, num_class=6, num_leaves=100, objective=multiclass, random_state=42\n",
            "[CV 1/5; 17/54] END boosting_type=gbdt, max_depth=15, metric=multi_logloss, n_estimators=200, num_class=6, num_leaves=100, objective=multiclass, random_state=42;, score=0.962 total time=  12.5s\n",
            "[CV 2/5; 17/54] START boosting_type=gbdt, max_depth=15, metric=multi_logloss, n_estimators=200, num_class=6, num_leaves=100, objective=multiclass, random_state=42\n",
            "[CV 2/5; 17/54] END boosting_type=gbdt, max_depth=15, metric=multi_logloss, n_estimators=200, num_class=6, num_leaves=100, objective=multiclass, random_state=42;, score=0.955 total time=  15.0s\n",
            "[CV 3/5; 17/54] START boosting_type=gbdt, max_depth=15, metric=multi_logloss, n_estimators=200, num_class=6, num_leaves=100, objective=multiclass, random_state=42\n",
            "[CV 3/5; 17/54] END boosting_type=gbdt, max_depth=15, metric=multi_logloss, n_estimators=200, num_class=6, num_leaves=100, objective=multiclass, random_state=42;, score=0.950 total time=  13.7s\n",
            "[CV 4/5; 17/54] START boosting_type=gbdt, max_depth=15, metric=multi_logloss, n_estimators=200, num_class=6, num_leaves=100, objective=multiclass, random_state=42\n",
            "[CV 4/5; 17/54] END boosting_type=gbdt, max_depth=15, metric=multi_logloss, n_estimators=200, num_class=6, num_leaves=100, objective=multiclass, random_state=42;, score=0.959 total time=  14.4s\n",
            "[CV 5/5; 17/54] START boosting_type=gbdt, max_depth=15, metric=multi_logloss, n_estimators=200, num_class=6, num_leaves=100, objective=multiclass, random_state=42\n",
            "[CV 5/5; 17/54] END boosting_type=gbdt, max_depth=15, metric=multi_logloss, n_estimators=200, num_class=6, num_leaves=100, objective=multiclass, random_state=42;, score=0.953 total time=  12.4s\n",
            "[CV 1/5; 18/54] START boosting_type=gbdt, max_depth=15, metric=multi_logloss, n_estimators=200, num_class=6, num_leaves=200, objective=multiclass, random_state=42\n",
            "[CV 1/5; 18/54] END boosting_type=gbdt, max_depth=15, metric=multi_logloss, n_estimators=200, num_class=6, num_leaves=200, objective=multiclass, random_state=42;, score=0.968 total time=  14.3s\n",
            "[CV 2/5; 18/54] START boosting_type=gbdt, max_depth=15, metric=multi_logloss, n_estimators=200, num_class=6, num_leaves=200, objective=multiclass, random_state=42\n",
            "[CV 2/5; 18/54] END boosting_type=gbdt, max_depth=15, metric=multi_logloss, n_estimators=200, num_class=6, num_leaves=200, objective=multiclass, random_state=42;, score=0.959 total time=  15.8s\n",
            "[CV 3/5; 18/54] START boosting_type=gbdt, max_depth=15, metric=multi_logloss, n_estimators=200, num_class=6, num_leaves=200, objective=multiclass, random_state=42\n",
            "[CV 3/5; 18/54] END boosting_type=gbdt, max_depth=15, metric=multi_logloss, n_estimators=200, num_class=6, num_leaves=200, objective=multiclass, random_state=42;, score=0.950 total time=  15.9s\n",
            "[CV 4/5; 18/54] START boosting_type=gbdt, max_depth=15, metric=multi_logloss, n_estimators=200, num_class=6, num_leaves=200, objective=multiclass, random_state=42\n",
            "[CV 4/5; 18/54] END boosting_type=gbdt, max_depth=15, metric=multi_logloss, n_estimators=200, num_class=6, num_leaves=200, objective=multiclass, random_state=42;, score=0.956 total time=  17.9s\n",
            "[CV 5/5; 18/54] START boosting_type=gbdt, max_depth=15, metric=multi_logloss, n_estimators=200, num_class=6, num_leaves=200, objective=multiclass, random_state=42\n",
            "[CV 5/5; 18/54] END boosting_type=gbdt, max_depth=15, metric=multi_logloss, n_estimators=200, num_class=6, num_leaves=200, objective=multiclass, random_state=42;, score=0.953 total time=  15.9s\n",
            "[CV 1/5; 19/54] START boosting_type=gbdt, max_depth=20, metric=multi_error, n_estimators=50, num_class=6, num_leaves=50, objective=multiclass, random_state=42\n",
            "[CV 1/5; 19/54] END boosting_type=gbdt, max_depth=20, metric=multi_error, n_estimators=50, num_class=6, num_leaves=50, objective=multiclass, random_state=42;, score=0.957 total time=   3.6s\n",
            "[CV 2/5; 19/54] START boosting_type=gbdt, max_depth=20, metric=multi_error, n_estimators=50, num_class=6, num_leaves=50, objective=multiclass, random_state=42\n",
            "[CV 2/5; 19/54] END boosting_type=gbdt, max_depth=20, metric=multi_error, n_estimators=50, num_class=6, num_leaves=50, objective=multiclass, random_state=42;, score=0.940 total time=   3.7s\n",
            "[CV 3/5; 19/54] START boosting_type=gbdt, max_depth=20, metric=multi_error, n_estimators=50, num_class=6, num_leaves=50, objective=multiclass, random_state=42\n",
            "[CV 3/5; 19/54] END boosting_type=gbdt, max_depth=20, metric=multi_error, n_estimators=50, num_class=6, num_leaves=50, objective=multiclass, random_state=42;, score=0.942 total time=   3.7s\n",
            "[CV 4/5; 19/54] START boosting_type=gbdt, max_depth=20, metric=multi_error, n_estimators=50, num_class=6, num_leaves=50, objective=multiclass, random_state=42\n",
            "[CV 4/5; 19/54] END boosting_type=gbdt, max_depth=20, metric=multi_error, n_estimators=50, num_class=6, num_leaves=50, objective=multiclass, random_state=42;, score=0.946 total time=   5.3s\n",
            "[CV 5/5; 19/54] START boosting_type=gbdt, max_depth=20, metric=multi_error, n_estimators=50, num_class=6, num_leaves=50, objective=multiclass, random_state=42\n",
            "[CV 5/5; 19/54] END boosting_type=gbdt, max_depth=20, metric=multi_error, n_estimators=50, num_class=6, num_leaves=50, objective=multiclass, random_state=42;, score=0.938 total time=   4.0s\n",
            "[CV 1/5; 20/54] START boosting_type=gbdt, max_depth=20, metric=multi_error, n_estimators=50, num_class=6, num_leaves=100, objective=multiclass, random_state=42\n",
            "[CV 1/5; 20/54] END boosting_type=gbdt, max_depth=20, metric=multi_error, n_estimators=50, num_class=6, num_leaves=100, objective=multiclass, random_state=42;, score=0.953 total time=   6.7s\n",
            "[CV 2/5; 20/54] START boosting_type=gbdt, max_depth=20, metric=multi_error, n_estimators=50, num_class=6, num_leaves=100, objective=multiclass, random_state=42\n",
            "[CV 2/5; 20/54] END boosting_type=gbdt, max_depth=20, metric=multi_error, n_estimators=50, num_class=6, num_leaves=100, objective=multiclass, random_state=42;, score=0.940 total time=   6.6s\n",
            "[CV 3/5; 20/54] START boosting_type=gbdt, max_depth=20, metric=multi_error, n_estimators=50, num_class=6, num_leaves=100, objective=multiclass, random_state=42\n",
            "[CV 3/5; 20/54] END boosting_type=gbdt, max_depth=20, metric=multi_error, n_estimators=50, num_class=6, num_leaves=100, objective=multiclass, random_state=42;, score=0.938 total time=   6.8s\n",
            "[CV 4/5; 20/54] START boosting_type=gbdt, max_depth=20, metric=multi_error, n_estimators=50, num_class=6, num_leaves=100, objective=multiclass, random_state=42\n",
            "[CV 4/5; 20/54] END boosting_type=gbdt, max_depth=20, metric=multi_error, n_estimators=50, num_class=6, num_leaves=100, objective=multiclass, random_state=42;, score=0.942 total time=   6.9s\n",
            "[CV 5/5; 20/54] START boosting_type=gbdt, max_depth=20, metric=multi_error, n_estimators=50, num_class=6, num_leaves=100, objective=multiclass, random_state=42\n",
            "[CV 5/5; 20/54] END boosting_type=gbdt, max_depth=20, metric=multi_error, n_estimators=50, num_class=6, num_leaves=100, objective=multiclass, random_state=42;, score=0.937 total time=   7.2s\n",
            "[CV 1/5; 21/54] START boosting_type=gbdt, max_depth=20, metric=multi_error, n_estimators=50, num_class=6, num_leaves=200, objective=multiclass, random_state=42\n",
            "[CV 1/5; 21/54] END boosting_type=gbdt, max_depth=20, metric=multi_error, n_estimators=50, num_class=6, num_leaves=200, objective=multiclass, random_state=42;, score=0.956 total time=   9.5s\n",
            "[CV 2/5; 21/54] START boosting_type=gbdt, max_depth=20, metric=multi_error, n_estimators=50, num_class=6, num_leaves=200, objective=multiclass, random_state=42\n",
            "[CV 2/5; 21/54] END boosting_type=gbdt, max_depth=20, metric=multi_error, n_estimators=50, num_class=6, num_leaves=200, objective=multiclass, random_state=42;, score=0.942 total time=   9.8s\n",
            "[CV 3/5; 21/54] START boosting_type=gbdt, max_depth=20, metric=multi_error, n_estimators=50, num_class=6, num_leaves=200, objective=multiclass, random_state=42\n",
            "[CV 3/5; 21/54] END boosting_type=gbdt, max_depth=20, metric=multi_error, n_estimators=50, num_class=6, num_leaves=200, objective=multiclass, random_state=42;, score=0.936 total time=  10.0s\n",
            "[CV 4/5; 21/54] START boosting_type=gbdt, max_depth=20, metric=multi_error, n_estimators=50, num_class=6, num_leaves=200, objective=multiclass, random_state=42\n",
            "[CV 4/5; 21/54] END boosting_type=gbdt, max_depth=20, metric=multi_error, n_estimators=50, num_class=6, num_leaves=200, objective=multiclass, random_state=42;, score=0.946 total time=  10.0s\n",
            "[CV 5/5; 21/54] START boosting_type=gbdt, max_depth=20, metric=multi_error, n_estimators=50, num_class=6, num_leaves=200, objective=multiclass, random_state=42\n",
            "[CV 5/5; 21/54] END boosting_type=gbdt, max_depth=20, metric=multi_error, n_estimators=50, num_class=6, num_leaves=200, objective=multiclass, random_state=42;, score=0.934 total time=   9.9s\n",
            "[CV 1/5; 22/54] START boosting_type=gbdt, max_depth=20, metric=multi_error, n_estimators=100, num_class=6, num_leaves=50, objective=multiclass, random_state=42\n",
            "[CV 1/5; 22/54] END boosting_type=gbdt, max_depth=20, metric=multi_error, n_estimators=100, num_class=6, num_leaves=50, objective=multiclass, random_state=42;, score=0.965 total time=   7.5s\n",
            "[CV 2/5; 22/54] START boosting_type=gbdt, max_depth=20, metric=multi_error, n_estimators=100, num_class=6, num_leaves=50, objective=multiclass, random_state=42\n",
            "[CV 2/5; 22/54] END boosting_type=gbdt, max_depth=20, metric=multi_error, n_estimators=100, num_class=6, num_leaves=50, objective=multiclass, random_state=42;, score=0.950 total time=   6.5s\n",
            "[CV 3/5; 22/54] START boosting_type=gbdt, max_depth=20, metric=multi_error, n_estimators=100, num_class=6, num_leaves=50, objective=multiclass, random_state=42\n",
            "[CV 3/5; 22/54] END boosting_type=gbdt, max_depth=20, metric=multi_error, n_estimators=100, num_class=6, num_leaves=50, objective=multiclass, random_state=42;, score=0.948 total time=   7.3s\n",
            "[CV 4/5; 22/54] START boosting_type=gbdt, max_depth=20, metric=multi_error, n_estimators=100, num_class=6, num_leaves=50, objective=multiclass, random_state=42\n",
            "[CV 4/5; 22/54] END boosting_type=gbdt, max_depth=20, metric=multi_error, n_estimators=100, num_class=6, num_leaves=50, objective=multiclass, random_state=42;, score=0.961 total time=   8.1s\n",
            "[CV 5/5; 22/54] START boosting_type=gbdt, max_depth=20, metric=multi_error, n_estimators=100, num_class=6, num_leaves=50, objective=multiclass, random_state=42\n",
            "[CV 5/5; 22/54] END boosting_type=gbdt, max_depth=20, metric=multi_error, n_estimators=100, num_class=6, num_leaves=50, objective=multiclass, random_state=42;, score=0.942 total time=   6.7s\n",
            "[CV 1/5; 23/54] START boosting_type=gbdt, max_depth=20, metric=multi_error, n_estimators=100, num_class=6, num_leaves=100, objective=multiclass, random_state=42\n",
            "[CV 1/5; 23/54] END boosting_type=gbdt, max_depth=20, metric=multi_error, n_estimators=100, num_class=6, num_leaves=100, objective=multiclass, random_state=42;, score=0.963 total time=  11.2s\n",
            "[CV 2/5; 23/54] START boosting_type=gbdt, max_depth=20, metric=multi_error, n_estimators=100, num_class=6, num_leaves=100, objective=multiclass, random_state=42\n",
            "[CV 2/5; 23/54] END boosting_type=gbdt, max_depth=20, metric=multi_error, n_estimators=100, num_class=6, num_leaves=100, objective=multiclass, random_state=42;, score=0.952 total time=  11.9s\n",
            "[CV 3/5; 23/54] START boosting_type=gbdt, max_depth=20, metric=multi_error, n_estimators=100, num_class=6, num_leaves=100, objective=multiclass, random_state=42\n",
            "[CV 3/5; 23/54] END boosting_type=gbdt, max_depth=20, metric=multi_error, n_estimators=100, num_class=6, num_leaves=100, objective=multiclass, random_state=42;, score=0.947 total time=  12.6s\n",
            "[CV 4/5; 23/54] START boosting_type=gbdt, max_depth=20, metric=multi_error, n_estimators=100, num_class=6, num_leaves=100, objective=multiclass, random_state=42\n",
            "[CV 4/5; 23/54] END boosting_type=gbdt, max_depth=20, metric=multi_error, n_estimators=100, num_class=6, num_leaves=100, objective=multiclass, random_state=42;, score=0.951 total time=  12.8s\n",
            "[CV 5/5; 23/54] START boosting_type=gbdt, max_depth=20, metric=multi_error, n_estimators=100, num_class=6, num_leaves=100, objective=multiclass, random_state=42\n",
            "[CV 5/5; 23/54] END boosting_type=gbdt, max_depth=20, metric=multi_error, n_estimators=100, num_class=6, num_leaves=100, objective=multiclass, random_state=42;, score=0.946 total time=  12.4s\n",
            "[CV 1/5; 24/54] START boosting_type=gbdt, max_depth=20, metric=multi_error, n_estimators=100, num_class=6, num_leaves=200, objective=multiclass, random_state=42\n",
            "[CV 1/5; 24/54] END boosting_type=gbdt, max_depth=20, metric=multi_error, n_estimators=100, num_class=6, num_leaves=200, objective=multiclass, random_state=42;, score=0.962 total time=  16.1s\n",
            "[CV 2/5; 24/54] START boosting_type=gbdt, max_depth=20, metric=multi_error, n_estimators=100, num_class=6, num_leaves=200, objective=multiclass, random_state=42\n",
            "[CV 2/5; 24/54] END boosting_type=gbdt, max_depth=20, metric=multi_error, n_estimators=100, num_class=6, num_leaves=200, objective=multiclass, random_state=42;, score=0.950 total time=  16.4s\n",
            "[CV 3/5; 24/54] START boosting_type=gbdt, max_depth=20, metric=multi_error, n_estimators=100, num_class=6, num_leaves=200, objective=multiclass, random_state=42\n",
            "[CV 3/5; 24/54] END boosting_type=gbdt, max_depth=20, metric=multi_error, n_estimators=100, num_class=6, num_leaves=200, objective=multiclass, random_state=42;, score=0.941 total time=  15.4s\n",
            "[CV 4/5; 24/54] START boosting_type=gbdt, max_depth=20, metric=multi_error, n_estimators=100, num_class=6, num_leaves=200, objective=multiclass, random_state=42\n",
            "[CV 4/5; 24/54] END boosting_type=gbdt, max_depth=20, metric=multi_error, n_estimators=100, num_class=6, num_leaves=200, objective=multiclass, random_state=42;, score=0.956 total time=  17.9s\n",
            "[CV 5/5; 24/54] START boosting_type=gbdt, max_depth=20, metric=multi_error, n_estimators=100, num_class=6, num_leaves=200, objective=multiclass, random_state=42\n",
            "[CV 5/5; 24/54] END boosting_type=gbdt, max_depth=20, metric=multi_error, n_estimators=100, num_class=6, num_leaves=200, objective=multiclass, random_state=42;, score=0.945 total time=  16.5s\n",
            "[CV 1/5; 25/54] START boosting_type=gbdt, max_depth=20, metric=multi_error, n_estimators=200, num_class=6, num_leaves=50, objective=multiclass, random_state=42\n",
            "[CV 1/5; 25/54] END boosting_type=gbdt, max_depth=20, metric=multi_error, n_estimators=200, num_class=6, num_leaves=50, objective=multiclass, random_state=42;, score=0.970 total time=   8.5s\n",
            "[CV 2/5; 25/54] START boosting_type=gbdt, max_depth=20, metric=multi_error, n_estimators=200, num_class=6, num_leaves=50, objective=multiclass, random_state=42\n",
            "[CV 2/5; 25/54] END boosting_type=gbdt, max_depth=20, metric=multi_error, n_estimators=200, num_class=6, num_leaves=50, objective=multiclass, random_state=42;, score=0.962 total time=   8.7s\n",
            "[CV 3/5; 25/54] START boosting_type=gbdt, max_depth=20, metric=multi_error, n_estimators=200, num_class=6, num_leaves=50, objective=multiclass, random_state=42\n",
            "[CV 3/5; 25/54] END boosting_type=gbdt, max_depth=20, metric=multi_error, n_estimators=200, num_class=6, num_leaves=50, objective=multiclass, random_state=42;, score=0.952 total time=   8.9s\n",
            "[CV 4/5; 25/54] START boosting_type=gbdt, max_depth=20, metric=multi_error, n_estimators=200, num_class=6, num_leaves=50, objective=multiclass, random_state=42\n",
            "[CV 4/5; 25/54] END boosting_type=gbdt, max_depth=20, metric=multi_error, n_estimators=200, num_class=6, num_leaves=50, objective=multiclass, random_state=42;, score=0.963 total time=   9.4s\n",
            "[CV 5/5; 25/54] START boosting_type=gbdt, max_depth=20, metric=multi_error, n_estimators=200, num_class=6, num_leaves=50, objective=multiclass, random_state=42\n",
            "[CV 5/5; 25/54] END boosting_type=gbdt, max_depth=20, metric=multi_error, n_estimators=200, num_class=6, num_leaves=50, objective=multiclass, random_state=42;, score=0.951 total time=   8.2s\n",
            "[CV 1/5; 26/54] START boosting_type=gbdt, max_depth=20, metric=multi_error, n_estimators=200, num_class=6, num_leaves=100, objective=multiclass, random_state=42\n",
            "[CV 1/5; 26/54] END boosting_type=gbdt, max_depth=20, metric=multi_error, n_estimators=200, num_class=6, num_leaves=100, objective=multiclass, random_state=42;, score=0.970 total time=  12.3s\n",
            "[CV 2/5; 26/54] START boosting_type=gbdt, max_depth=20, metric=multi_error, n_estimators=200, num_class=6, num_leaves=100, objective=multiclass, random_state=42\n",
            "[CV 2/5; 26/54] END boosting_type=gbdt, max_depth=20, metric=multi_error, n_estimators=200, num_class=6, num_leaves=100, objective=multiclass, random_state=42;, score=0.963 total time=  12.2s\n",
            "[CV 3/5; 26/54] START boosting_type=gbdt, max_depth=20, metric=multi_error, n_estimators=200, num_class=6, num_leaves=100, objective=multiclass, random_state=42\n",
            "[CV 3/5; 26/54] END boosting_type=gbdt, max_depth=20, metric=multi_error, n_estimators=200, num_class=6, num_leaves=100, objective=multiclass, random_state=42;, score=0.955 total time=  12.9s\n",
            "[CV 4/5; 26/54] START boosting_type=gbdt, max_depth=20, metric=multi_error, n_estimators=200, num_class=6, num_leaves=100, objective=multiclass, random_state=42\n",
            "[CV 4/5; 26/54] END boosting_type=gbdt, max_depth=20, metric=multi_error, n_estimators=200, num_class=6, num_leaves=100, objective=multiclass, random_state=42;, score=0.955 total time=  12.6s\n",
            "[CV 5/5; 26/54] START boosting_type=gbdt, max_depth=20, metric=multi_error, n_estimators=200, num_class=6, num_leaves=100, objective=multiclass, random_state=42\n",
            "[CV 5/5; 26/54] END boosting_type=gbdt, max_depth=20, metric=multi_error, n_estimators=200, num_class=6, num_leaves=100, objective=multiclass, random_state=42;, score=0.951 total time=  12.1s\n",
            "[CV 1/5; 27/54] START boosting_type=gbdt, max_depth=20, metric=multi_error, n_estimators=200, num_class=6, num_leaves=200, objective=multiclass, random_state=42\n",
            "[CV 1/5; 27/54] END boosting_type=gbdt, max_depth=20, metric=multi_error, n_estimators=200, num_class=6, num_leaves=200, objective=multiclass, random_state=42;, score=0.970 total time=  15.5s\n",
            "[CV 2/5; 27/54] START boosting_type=gbdt, max_depth=20, metric=multi_error, n_estimators=200, num_class=6, num_leaves=200, objective=multiclass, random_state=42\n",
            "[CV 2/5; 27/54] END boosting_type=gbdt, max_depth=20, metric=multi_error, n_estimators=200, num_class=6, num_leaves=200, objective=multiclass, random_state=42;, score=0.961 total time=  16.1s\n",
            "[CV 3/5; 27/54] START boosting_type=gbdt, max_depth=20, metric=multi_error, n_estimators=200, num_class=6, num_leaves=200, objective=multiclass, random_state=42\n",
            "[CV 3/5; 27/54] END boosting_type=gbdt, max_depth=20, metric=multi_error, n_estimators=200, num_class=6, num_leaves=200, objective=multiclass, random_state=42;, score=0.947 total time=  16.5s\n",
            "[CV 4/5; 27/54] START boosting_type=gbdt, max_depth=20, metric=multi_error, n_estimators=200, num_class=6, num_leaves=200, objective=multiclass, random_state=42\n",
            "[CV 4/5; 27/54] END boosting_type=gbdt, max_depth=20, metric=multi_error, n_estimators=200, num_class=6, num_leaves=200, objective=multiclass, random_state=42;, score=0.961 total time=  15.6s\n",
            "[CV 5/5; 27/54] START boosting_type=gbdt, max_depth=20, metric=multi_error, n_estimators=200, num_class=6, num_leaves=200, objective=multiclass, random_state=42\n",
            "[CV 5/5; 27/54] END boosting_type=gbdt, max_depth=20, metric=multi_error, n_estimators=200, num_class=6, num_leaves=200, objective=multiclass, random_state=42;, score=0.953 total time=  15.6s\n",
            "[CV 1/5; 28/54] START boosting_type=gbdt, max_depth=20, metric=multi_logloss, n_estimators=50, num_class=6, num_leaves=50, objective=multiclass, random_state=42\n",
            "[CV 1/5; 28/54] END boosting_type=gbdt, max_depth=20, metric=multi_logloss, n_estimators=50, num_class=6, num_leaves=50, objective=multiclass, random_state=42;, score=0.957 total time=   3.4s\n",
            "[CV 2/5; 28/54] START boosting_type=gbdt, max_depth=20, metric=multi_logloss, n_estimators=50, num_class=6, num_leaves=50, objective=multiclass, random_state=42\n",
            "[CV 2/5; 28/54] END boosting_type=gbdt, max_depth=20, metric=multi_logloss, n_estimators=50, num_class=6, num_leaves=50, objective=multiclass, random_state=42;, score=0.940 total time=   3.3s\n",
            "[CV 3/5; 28/54] START boosting_type=gbdt, max_depth=20, metric=multi_logloss, n_estimators=50, num_class=6, num_leaves=50, objective=multiclass, random_state=42\n",
            "[CV 3/5; 28/54] END boosting_type=gbdt, max_depth=20, metric=multi_logloss, n_estimators=50, num_class=6, num_leaves=50, objective=multiclass, random_state=42;, score=0.942 total time=   3.4s\n",
            "[CV 4/5; 28/54] START boosting_type=gbdt, max_depth=20, metric=multi_logloss, n_estimators=50, num_class=6, num_leaves=50, objective=multiclass, random_state=42\n",
            "[CV 4/5; 28/54] END boosting_type=gbdt, max_depth=20, metric=multi_logloss, n_estimators=50, num_class=6, num_leaves=50, objective=multiclass, random_state=42;, score=0.946 total time=   3.7s\n",
            "[CV 5/5; 28/54] START boosting_type=gbdt, max_depth=20, metric=multi_logloss, n_estimators=50, num_class=6, num_leaves=50, objective=multiclass, random_state=42\n",
            "[CV 5/5; 28/54] END boosting_type=gbdt, max_depth=20, metric=multi_logloss, n_estimators=50, num_class=6, num_leaves=50, objective=multiclass, random_state=42;, score=0.938 total time=   3.5s\n",
            "[CV 1/5; 29/54] START boosting_type=gbdt, max_depth=20, metric=multi_logloss, n_estimators=50, num_class=6, num_leaves=100, objective=multiclass, random_state=42\n",
            "[CV 1/5; 29/54] END boosting_type=gbdt, max_depth=20, metric=multi_logloss, n_estimators=50, num_class=6, num_leaves=100, objective=multiclass, random_state=42;, score=0.953 total time=   6.9s\n",
            "[CV 2/5; 29/54] START boosting_type=gbdt, max_depth=20, metric=multi_logloss, n_estimators=50, num_class=6, num_leaves=100, objective=multiclass, random_state=42\n",
            "[CV 2/5; 29/54] END boosting_type=gbdt, max_depth=20, metric=multi_logloss, n_estimators=50, num_class=6, num_leaves=100, objective=multiclass, random_state=42;, score=0.940 total time=   6.3s\n",
            "[CV 3/5; 29/54] START boosting_type=gbdt, max_depth=20, metric=multi_logloss, n_estimators=50, num_class=6, num_leaves=100, objective=multiclass, random_state=42\n",
            "[CV 3/5; 29/54] END boosting_type=gbdt, max_depth=20, metric=multi_logloss, n_estimators=50, num_class=6, num_leaves=100, objective=multiclass, random_state=42;, score=0.938 total time=   6.3s\n",
            "[CV 4/5; 29/54] START boosting_type=gbdt, max_depth=20, metric=multi_logloss, n_estimators=50, num_class=6, num_leaves=100, objective=multiclass, random_state=42\n",
            "[CV 4/5; 29/54] END boosting_type=gbdt, max_depth=20, metric=multi_logloss, n_estimators=50, num_class=6, num_leaves=100, objective=multiclass, random_state=42;, score=0.942 total time=   6.3s\n",
            "[CV 5/5; 29/54] START boosting_type=gbdt, max_depth=20, metric=multi_logloss, n_estimators=50, num_class=6, num_leaves=100, objective=multiclass, random_state=42\n",
            "[CV 5/5; 29/54] END boosting_type=gbdt, max_depth=20, metric=multi_logloss, n_estimators=50, num_class=6, num_leaves=100, objective=multiclass, random_state=42;, score=0.937 total time=   6.4s\n",
            "[CV 1/5; 30/54] START boosting_type=gbdt, max_depth=20, metric=multi_logloss, n_estimators=50, num_class=6, num_leaves=200, objective=multiclass, random_state=42\n",
            "[CV 1/5; 30/54] END boosting_type=gbdt, max_depth=20, metric=multi_logloss, n_estimators=50, num_class=6, num_leaves=200, objective=multiclass, random_state=42;, score=0.956 total time=   9.0s\n",
            "[CV 2/5; 30/54] START boosting_type=gbdt, max_depth=20, metric=multi_logloss, n_estimators=50, num_class=6, num_leaves=200, objective=multiclass, random_state=42\n",
            "[CV 2/5; 30/54] END boosting_type=gbdt, max_depth=20, metric=multi_logloss, n_estimators=50, num_class=6, num_leaves=200, objective=multiclass, random_state=42;, score=0.942 total time=   9.3s\n",
            "[CV 3/5; 30/54] START boosting_type=gbdt, max_depth=20, metric=multi_logloss, n_estimators=50, num_class=6, num_leaves=200, objective=multiclass, random_state=42\n",
            "[CV 3/5; 30/54] END boosting_type=gbdt, max_depth=20, metric=multi_logloss, n_estimators=50, num_class=6, num_leaves=200, objective=multiclass, random_state=42;, score=0.936 total time=  10.6s\n",
            "[CV 4/5; 30/54] START boosting_type=gbdt, max_depth=20, metric=multi_logloss, n_estimators=50, num_class=6, num_leaves=200, objective=multiclass, random_state=42\n",
            "[CV 4/5; 30/54] END boosting_type=gbdt, max_depth=20, metric=multi_logloss, n_estimators=50, num_class=6, num_leaves=200, objective=multiclass, random_state=42;, score=0.946 total time=   8.9s\n",
            "[CV 5/5; 30/54] START boosting_type=gbdt, max_depth=20, metric=multi_logloss, n_estimators=50, num_class=6, num_leaves=200, objective=multiclass, random_state=42\n",
            "[CV 5/5; 30/54] END boosting_type=gbdt, max_depth=20, metric=multi_logloss, n_estimators=50, num_class=6, num_leaves=200, objective=multiclass, random_state=42;, score=0.934 total time=   9.0s\n",
            "[CV 1/5; 31/54] START boosting_type=gbdt, max_depth=20, metric=multi_logloss, n_estimators=100, num_class=6, num_leaves=50, objective=multiclass, random_state=42\n",
            "[CV 1/5; 31/54] END boosting_type=gbdt, max_depth=20, metric=multi_logloss, n_estimators=100, num_class=6, num_leaves=50, objective=multiclass, random_state=42;, score=0.965 total time=   7.5s\n",
            "[CV 2/5; 31/54] START boosting_type=gbdt, max_depth=20, metric=multi_logloss, n_estimators=100, num_class=6, num_leaves=50, objective=multiclass, random_state=42\n",
            "[CV 2/5; 31/54] END boosting_type=gbdt, max_depth=20, metric=multi_logloss, n_estimators=100, num_class=6, num_leaves=50, objective=multiclass, random_state=42;, score=0.950 total time=   7.0s\n",
            "[CV 3/5; 31/54] START boosting_type=gbdt, max_depth=20, metric=multi_logloss, n_estimators=100, num_class=6, num_leaves=50, objective=multiclass, random_state=42\n",
            "[CV 3/5; 31/54] END boosting_type=gbdt, max_depth=20, metric=multi_logloss, n_estimators=100, num_class=6, num_leaves=50, objective=multiclass, random_state=42;, score=0.948 total time=   7.0s\n",
            "[CV 4/5; 31/54] START boosting_type=gbdt, max_depth=20, metric=multi_logloss, n_estimators=100, num_class=6, num_leaves=50, objective=multiclass, random_state=42\n",
            "[CV 4/5; 31/54] END boosting_type=gbdt, max_depth=20, metric=multi_logloss, n_estimators=100, num_class=6, num_leaves=50, objective=multiclass, random_state=42;, score=0.961 total time=   6.6s\n",
            "[CV 5/5; 31/54] START boosting_type=gbdt, max_depth=20, metric=multi_logloss, n_estimators=100, num_class=6, num_leaves=50, objective=multiclass, random_state=42\n",
            "[CV 5/5; 31/54] END boosting_type=gbdt, max_depth=20, metric=multi_logloss, n_estimators=100, num_class=6, num_leaves=50, objective=multiclass, random_state=42;, score=0.942 total time=   7.6s\n",
            "[CV 1/5; 32/54] START boosting_type=gbdt, max_depth=20, metric=multi_logloss, n_estimators=100, num_class=6, num_leaves=100, objective=multiclass, random_state=42\n",
            "[CV 1/5; 32/54] END boosting_type=gbdt, max_depth=20, metric=multi_logloss, n_estimators=100, num_class=6, num_leaves=100, objective=multiclass, random_state=42;, score=0.963 total time=  12.6s\n",
            "[CV 2/5; 32/54] START boosting_type=gbdt, max_depth=20, metric=multi_logloss, n_estimators=100, num_class=6, num_leaves=100, objective=multiclass, random_state=42\n",
            "[CV 2/5; 32/54] END boosting_type=gbdt, max_depth=20, metric=multi_logloss, n_estimators=100, num_class=6, num_leaves=100, objective=multiclass, random_state=42;, score=0.952 total time=  11.2s\n",
            "[CV 3/5; 32/54] START boosting_type=gbdt, max_depth=20, metric=multi_logloss, n_estimators=100, num_class=6, num_leaves=100, objective=multiclass, random_state=42\n",
            "[CV 3/5; 32/54] END boosting_type=gbdt, max_depth=20, metric=multi_logloss, n_estimators=100, num_class=6, num_leaves=100, objective=multiclass, random_state=42;, score=0.947 total time=  11.8s\n",
            "[CV 4/5; 32/54] START boosting_type=gbdt, max_depth=20, metric=multi_logloss, n_estimators=100, num_class=6, num_leaves=100, objective=multiclass, random_state=42\n",
            "[CV 4/5; 32/54] END boosting_type=gbdt, max_depth=20, metric=multi_logloss, n_estimators=100, num_class=6, num_leaves=100, objective=multiclass, random_state=42;, score=0.951 total time=  12.2s\n",
            "[CV 5/5; 32/54] START boosting_type=gbdt, max_depth=20, metric=multi_logloss, n_estimators=100, num_class=6, num_leaves=100, objective=multiclass, random_state=42\n",
            "[CV 5/5; 32/54] END boosting_type=gbdt, max_depth=20, metric=multi_logloss, n_estimators=100, num_class=6, num_leaves=100, objective=multiclass, random_state=42;, score=0.946 total time=  12.4s\n",
            "[CV 1/5; 33/54] START boosting_type=gbdt, max_depth=20, metric=multi_logloss, n_estimators=100, num_class=6, num_leaves=200, objective=multiclass, random_state=42\n",
            "[CV 1/5; 33/54] END boosting_type=gbdt, max_depth=20, metric=multi_logloss, n_estimators=100, num_class=6, num_leaves=200, objective=multiclass, random_state=42;, score=0.962 total time=  15.5s\n",
            "[CV 2/5; 33/54] START boosting_type=gbdt, max_depth=20, metric=multi_logloss, n_estimators=100, num_class=6, num_leaves=200, objective=multiclass, random_state=42\n",
            "[CV 2/5; 33/54] END boosting_type=gbdt, max_depth=20, metric=multi_logloss, n_estimators=100, num_class=6, num_leaves=200, objective=multiclass, random_state=42;, score=0.950 total time=  14.2s\n",
            "[CV 3/5; 33/54] START boosting_type=gbdt, max_depth=20, metric=multi_logloss, n_estimators=100, num_class=6, num_leaves=200, objective=multiclass, random_state=42\n",
            "[CV 3/5; 33/54] END boosting_type=gbdt, max_depth=20, metric=multi_logloss, n_estimators=100, num_class=6, num_leaves=200, objective=multiclass, random_state=42;, score=0.941 total time=  14.4s\n",
            "[CV 4/5; 33/54] START boosting_type=gbdt, max_depth=20, metric=multi_logloss, n_estimators=100, num_class=6, num_leaves=200, objective=multiclass, random_state=42\n",
            "[CV 4/5; 33/54] END boosting_type=gbdt, max_depth=20, metric=multi_logloss, n_estimators=100, num_class=6, num_leaves=200, objective=multiclass, random_state=42;, score=0.956 total time=  15.4s\n",
            "[CV 5/5; 33/54] START boosting_type=gbdt, max_depth=20, metric=multi_logloss, n_estimators=100, num_class=6, num_leaves=200, objective=multiclass, random_state=42\n",
            "[CV 5/5; 33/54] END boosting_type=gbdt, max_depth=20, metric=multi_logloss, n_estimators=100, num_class=6, num_leaves=200, objective=multiclass, random_state=42;, score=0.945 total time=  15.2s\n",
            "[CV 1/5; 34/54] START boosting_type=gbdt, max_depth=20, metric=multi_logloss, n_estimators=200, num_class=6, num_leaves=50, objective=multiclass, random_state=42\n",
            "[CV 1/5; 34/54] END boosting_type=gbdt, max_depth=20, metric=multi_logloss, n_estimators=200, num_class=6, num_leaves=50, objective=multiclass, random_state=42;, score=0.970 total time=   7.6s\n",
            "[CV 2/5; 34/54] START boosting_type=gbdt, max_depth=20, metric=multi_logloss, n_estimators=200, num_class=6, num_leaves=50, objective=multiclass, random_state=42\n",
            "[CV 2/5; 34/54] END boosting_type=gbdt, max_depth=20, metric=multi_logloss, n_estimators=200, num_class=6, num_leaves=50, objective=multiclass, random_state=42;, score=0.962 total time=   7.7s\n",
            "[CV 3/5; 34/54] START boosting_type=gbdt, max_depth=20, metric=multi_logloss, n_estimators=200, num_class=6, num_leaves=50, objective=multiclass, random_state=42\n",
            "[CV 3/5; 34/54] END boosting_type=gbdt, max_depth=20, metric=multi_logloss, n_estimators=200, num_class=6, num_leaves=50, objective=multiclass, random_state=42;, score=0.952 total time=   7.6s\n",
            "[CV 4/5; 34/54] START boosting_type=gbdt, max_depth=20, metric=multi_logloss, n_estimators=200, num_class=6, num_leaves=50, objective=multiclass, random_state=42\n",
            "[CV 4/5; 34/54] END boosting_type=gbdt, max_depth=20, metric=multi_logloss, n_estimators=200, num_class=6, num_leaves=50, objective=multiclass, random_state=42;, score=0.963 total time=   7.7s\n",
            "[CV 5/5; 34/54] START boosting_type=gbdt, max_depth=20, metric=multi_logloss, n_estimators=200, num_class=6, num_leaves=50, objective=multiclass, random_state=42\n",
            "[CV 5/5; 34/54] END boosting_type=gbdt, max_depth=20, metric=multi_logloss, n_estimators=200, num_class=6, num_leaves=50, objective=multiclass, random_state=42;, score=0.951 total time=   8.3s\n",
            "[CV 1/5; 35/54] START boosting_type=gbdt, max_depth=20, metric=multi_logloss, n_estimators=200, num_class=6, num_leaves=100, objective=multiclass, random_state=42\n",
            "[CV 1/5; 35/54] END boosting_type=gbdt, max_depth=20, metric=multi_logloss, n_estimators=200, num_class=6, num_leaves=100, objective=multiclass, random_state=42;, score=0.970 total time=  13.3s\n",
            "[CV 2/5; 35/54] START boosting_type=gbdt, max_depth=20, metric=multi_logloss, n_estimators=200, num_class=6, num_leaves=100, objective=multiclass, random_state=42\n",
            "[CV 2/5; 35/54] END boosting_type=gbdt, max_depth=20, metric=multi_logloss, n_estimators=200, num_class=6, num_leaves=100, objective=multiclass, random_state=42;, score=0.963 total time=  12.4s\n",
            "[CV 3/5; 35/54] START boosting_type=gbdt, max_depth=20, metric=multi_logloss, n_estimators=200, num_class=6, num_leaves=100, objective=multiclass, random_state=42\n",
            "[CV 3/5; 35/54] END boosting_type=gbdt, max_depth=20, metric=multi_logloss, n_estimators=200, num_class=6, num_leaves=100, objective=multiclass, random_state=42;, score=0.955 total time=  11.8s\n",
            "[CV 4/5; 35/54] START boosting_type=gbdt, max_depth=20, metric=multi_logloss, n_estimators=200, num_class=6, num_leaves=100, objective=multiclass, random_state=42\n",
            "[CV 4/5; 35/54] END boosting_type=gbdt, max_depth=20, metric=multi_logloss, n_estimators=200, num_class=6, num_leaves=100, objective=multiclass, random_state=42;, score=0.955 total time=  12.4s\n",
            "[CV 5/5; 35/54] START boosting_type=gbdt, max_depth=20, metric=multi_logloss, n_estimators=200, num_class=6, num_leaves=100, objective=multiclass, random_state=42\n",
            "[CV 5/5; 35/54] END boosting_type=gbdt, max_depth=20, metric=multi_logloss, n_estimators=200, num_class=6, num_leaves=100, objective=multiclass, random_state=42;, score=0.951 total time=  12.9s\n",
            "[CV 1/5; 36/54] START boosting_type=gbdt, max_depth=20, metric=multi_logloss, n_estimators=200, num_class=6, num_leaves=200, objective=multiclass, random_state=42\n",
            "[CV 1/5; 36/54] END boosting_type=gbdt, max_depth=20, metric=multi_logloss, n_estimators=200, num_class=6, num_leaves=200, objective=multiclass, random_state=42;, score=0.970 total time=  16.9s\n",
            "[CV 2/5; 36/54] START boosting_type=gbdt, max_depth=20, metric=multi_logloss, n_estimators=200, num_class=6, num_leaves=200, objective=multiclass, random_state=42\n",
            "[CV 2/5; 36/54] END boosting_type=gbdt, max_depth=20, metric=multi_logloss, n_estimators=200, num_class=6, num_leaves=200, objective=multiclass, random_state=42;, score=0.961 total time=  15.9s\n",
            "[CV 3/5; 36/54] START boosting_type=gbdt, max_depth=20, metric=multi_logloss, n_estimators=200, num_class=6, num_leaves=200, objective=multiclass, random_state=42\n",
            "[CV 3/5; 36/54] END boosting_type=gbdt, max_depth=20, metric=multi_logloss, n_estimators=200, num_class=6, num_leaves=200, objective=multiclass, random_state=42;, score=0.947 total time=  15.8s\n",
            "[CV 4/5; 36/54] START boosting_type=gbdt, max_depth=20, metric=multi_logloss, n_estimators=200, num_class=6, num_leaves=200, objective=multiclass, random_state=42\n",
            "[CV 4/5; 36/54] END boosting_type=gbdt, max_depth=20, metric=multi_logloss, n_estimators=200, num_class=6, num_leaves=200, objective=multiclass, random_state=42;, score=0.961 total time=  17.5s\n",
            "[CV 5/5; 36/54] START boosting_type=gbdt, max_depth=20, metric=multi_logloss, n_estimators=200, num_class=6, num_leaves=200, objective=multiclass, random_state=42\n",
            "[CV 5/5; 36/54] END boosting_type=gbdt, max_depth=20, metric=multi_logloss, n_estimators=200, num_class=6, num_leaves=200, objective=multiclass, random_state=42;, score=0.953 total time=  15.7s\n",
            "[CV 1/5; 37/54] START boosting_type=gbdt, max_depth=25, metric=multi_error, n_estimators=50, num_class=6, num_leaves=50, objective=multiclass, random_state=42\n",
            "[CV 1/5; 37/54] END boosting_type=gbdt, max_depth=25, metric=multi_error, n_estimators=50, num_class=6, num_leaves=50, objective=multiclass, random_state=42;, score=0.957 total time=   3.4s\n",
            "[CV 2/5; 37/54] START boosting_type=gbdt, max_depth=25, metric=multi_error, n_estimators=50, num_class=6, num_leaves=50, objective=multiclass, random_state=42\n",
            "[CV 2/5; 37/54] END boosting_type=gbdt, max_depth=25, metric=multi_error, n_estimators=50, num_class=6, num_leaves=50, objective=multiclass, random_state=42;, score=0.940 total time=   3.4s\n",
            "[CV 3/5; 37/54] START boosting_type=gbdt, max_depth=25, metric=multi_error, n_estimators=50, num_class=6, num_leaves=50, objective=multiclass, random_state=42\n",
            "[CV 3/5; 37/54] END boosting_type=gbdt, max_depth=25, metric=multi_error, n_estimators=50, num_class=6, num_leaves=50, objective=multiclass, random_state=42;, score=0.945 total time=   3.4s\n",
            "[CV 4/5; 37/54] START boosting_type=gbdt, max_depth=25, metric=multi_error, n_estimators=50, num_class=6, num_leaves=50, objective=multiclass, random_state=42\n",
            "[CV 4/5; 37/54] END boosting_type=gbdt, max_depth=25, metric=multi_error, n_estimators=50, num_class=6, num_leaves=50, objective=multiclass, random_state=42;, score=0.941 total time=   3.4s\n",
            "[CV 5/5; 37/54] START boosting_type=gbdt, max_depth=25, metric=multi_error, n_estimators=50, num_class=6, num_leaves=50, objective=multiclass, random_state=42\n",
            "[CV 5/5; 37/54] END boosting_type=gbdt, max_depth=25, metric=multi_error, n_estimators=50, num_class=6, num_leaves=50, objective=multiclass, random_state=42;, score=0.938 total time=   3.5s\n",
            "[CV 1/5; 38/54] START boosting_type=gbdt, max_depth=25, metric=multi_error, n_estimators=50, num_class=6, num_leaves=100, objective=multiclass, random_state=42\n",
            "[CV 1/5; 38/54] END boosting_type=gbdt, max_depth=25, metric=multi_error, n_estimators=50, num_class=6, num_leaves=100, objective=multiclass, random_state=42;, score=0.951 total time=   6.0s\n",
            "[CV 2/5; 38/54] START boosting_type=gbdt, max_depth=25, metric=multi_error, n_estimators=50, num_class=6, num_leaves=100, objective=multiclass, random_state=42\n",
            "[CV 2/5; 38/54] END boosting_type=gbdt, max_depth=25, metric=multi_error, n_estimators=50, num_class=6, num_leaves=100, objective=multiclass, random_state=42;, score=0.942 total time=   5.7s\n",
            "[CV 3/5; 38/54] START boosting_type=gbdt, max_depth=25, metric=multi_error, n_estimators=50, num_class=6, num_leaves=100, objective=multiclass, random_state=42\n",
            "[CV 3/5; 38/54] END boosting_type=gbdt, max_depth=25, metric=multi_error, n_estimators=50, num_class=6, num_leaves=100, objective=multiclass, random_state=42;, score=0.936 total time=   6.3s\n",
            "[CV 4/5; 38/54] START boosting_type=gbdt, max_depth=25, metric=multi_error, n_estimators=50, num_class=6, num_leaves=100, objective=multiclass, random_state=42\n",
            "[CV 4/5; 38/54] END boosting_type=gbdt, max_depth=25, metric=multi_error, n_estimators=50, num_class=6, num_leaves=100, objective=multiclass, random_state=42;, score=0.942 total time=   7.6s\n",
            "[CV 5/5; 38/54] START boosting_type=gbdt, max_depth=25, metric=multi_error, n_estimators=50, num_class=6, num_leaves=100, objective=multiclass, random_state=42\n",
            "[CV 5/5; 38/54] END boosting_type=gbdt, max_depth=25, metric=multi_error, n_estimators=50, num_class=6, num_leaves=100, objective=multiclass, random_state=42;, score=0.939 total time=   7.3s\n",
            "[CV 1/5; 39/54] START boosting_type=gbdt, max_depth=25, metric=multi_error, n_estimators=50, num_class=6, num_leaves=200, objective=multiclass, random_state=42\n",
            "[CV 1/5; 39/54] END boosting_type=gbdt, max_depth=25, metric=multi_error, n_estimators=50, num_class=6, num_leaves=200, objective=multiclass, random_state=42;, score=0.954 total time=   9.6s\n",
            "[CV 2/5; 39/54] START boosting_type=gbdt, max_depth=25, metric=multi_error, n_estimators=50, num_class=6, num_leaves=200, objective=multiclass, random_state=42\n",
            "[CV 2/5; 39/54] END boosting_type=gbdt, max_depth=25, metric=multi_error, n_estimators=50, num_class=6, num_leaves=200, objective=multiclass, random_state=42;, score=0.938 total time=   9.2s\n",
            "[CV 3/5; 39/54] START boosting_type=gbdt, max_depth=25, metric=multi_error, n_estimators=50, num_class=6, num_leaves=200, objective=multiclass, random_state=42\n",
            "[CV 3/5; 39/54] END boosting_type=gbdt, max_depth=25, metric=multi_error, n_estimators=50, num_class=6, num_leaves=200, objective=multiclass, random_state=42;, score=0.939 total time=   9.4s\n",
            "[CV 4/5; 39/54] START boosting_type=gbdt, max_depth=25, metric=multi_error, n_estimators=50, num_class=6, num_leaves=200, objective=multiclass, random_state=42\n",
            "[CV 4/5; 39/54] END boosting_type=gbdt, max_depth=25, metric=multi_error, n_estimators=50, num_class=6, num_leaves=200, objective=multiclass, random_state=42;, score=0.942 total time=   8.9s\n",
            "[CV 5/5; 39/54] START boosting_type=gbdt, max_depth=25, metric=multi_error, n_estimators=50, num_class=6, num_leaves=200, objective=multiclass, random_state=42\n",
            "[CV 5/5; 39/54] END boosting_type=gbdt, max_depth=25, metric=multi_error, n_estimators=50, num_class=6, num_leaves=200, objective=multiclass, random_state=42;, score=0.939 total time=   9.4s\n",
            "[CV 1/5; 40/54] START boosting_type=gbdt, max_depth=25, metric=multi_error, n_estimators=100, num_class=6, num_leaves=50, objective=multiclass, random_state=42\n",
            "[CV 1/5; 40/54] END boosting_type=gbdt, max_depth=25, metric=multi_error, n_estimators=100, num_class=6, num_leaves=50, objective=multiclass, random_state=42;, score=0.965 total time=   7.2s\n",
            "[CV 2/5; 40/54] START boosting_type=gbdt, max_depth=25, metric=multi_error, n_estimators=100, num_class=6, num_leaves=50, objective=multiclass, random_state=42\n",
            "[CV 2/5; 40/54] END boosting_type=gbdt, max_depth=25, metric=multi_error, n_estimators=100, num_class=6, num_leaves=50, objective=multiclass, random_state=42;, score=0.945 total time=   6.5s\n",
            "[CV 3/5; 40/54] START boosting_type=gbdt, max_depth=25, metric=multi_error, n_estimators=100, num_class=6, num_leaves=50, objective=multiclass, random_state=42\n",
            "[CV 3/5; 40/54] END boosting_type=gbdt, max_depth=25, metric=multi_error, n_estimators=100, num_class=6, num_leaves=50, objective=multiclass, random_state=42;, score=0.949 total time=   7.1s\n",
            "[CV 4/5; 40/54] START boosting_type=gbdt, max_depth=25, metric=multi_error, n_estimators=100, num_class=6, num_leaves=50, objective=multiclass, random_state=42\n",
            "[CV 4/5; 40/54] END boosting_type=gbdt, max_depth=25, metric=multi_error, n_estimators=100, num_class=6, num_leaves=50, objective=multiclass, random_state=42;, score=0.953 total time=   7.3s\n",
            "[CV 5/5; 40/54] START boosting_type=gbdt, max_depth=25, metric=multi_error, n_estimators=100, num_class=6, num_leaves=50, objective=multiclass, random_state=42\n",
            "[CV 5/5; 40/54] END boosting_type=gbdt, max_depth=25, metric=multi_error, n_estimators=100, num_class=6, num_leaves=50, objective=multiclass, random_state=42;, score=0.942 total time=   7.2s\n",
            "[CV 1/5; 41/54] START boosting_type=gbdt, max_depth=25, metric=multi_error, n_estimators=100, num_class=6, num_leaves=100, objective=multiclass, random_state=42\n",
            "[CV 1/5; 41/54] END boosting_type=gbdt, max_depth=25, metric=multi_error, n_estimators=100, num_class=6, num_leaves=100, objective=multiclass, random_state=42;, score=0.963 total time=  11.7s\n",
            "[CV 2/5; 41/54] START boosting_type=gbdt, max_depth=25, metric=multi_error, n_estimators=100, num_class=6, num_leaves=100, objective=multiclass, random_state=42\n",
            "[CV 2/5; 41/54] END boosting_type=gbdt, max_depth=25, metric=multi_error, n_estimators=100, num_class=6, num_leaves=100, objective=multiclass, random_state=42;, score=0.955 total time=  12.5s\n",
            "[CV 3/5; 41/54] START boosting_type=gbdt, max_depth=25, metric=multi_error, n_estimators=100, num_class=6, num_leaves=100, objective=multiclass, random_state=42\n",
            "[CV 3/5; 41/54] END boosting_type=gbdt, max_depth=25, metric=multi_error, n_estimators=100, num_class=6, num_leaves=100, objective=multiclass, random_state=42;, score=0.944 total time=  13.0s\n",
            "[CV 4/5; 41/54] START boosting_type=gbdt, max_depth=25, metric=multi_error, n_estimators=100, num_class=6, num_leaves=100, objective=multiclass, random_state=42\n",
            "[CV 4/5; 41/54] END boosting_type=gbdt, max_depth=25, metric=multi_error, n_estimators=100, num_class=6, num_leaves=100, objective=multiclass, random_state=42;, score=0.950 total time=  12.4s\n",
            "[CV 5/5; 41/54] START boosting_type=gbdt, max_depth=25, metric=multi_error, n_estimators=100, num_class=6, num_leaves=100, objective=multiclass, random_state=42\n",
            "[CV 5/5; 41/54] END boosting_type=gbdt, max_depth=25, metric=multi_error, n_estimators=100, num_class=6, num_leaves=100, objective=multiclass, random_state=42;, score=0.946 total time=  11.6s\n",
            "[CV 1/5; 42/54] START boosting_type=gbdt, max_depth=25, metric=multi_error, n_estimators=100, num_class=6, num_leaves=200, objective=multiclass, random_state=42\n",
            "[CV 1/5; 42/54] END boosting_type=gbdt, max_depth=25, metric=multi_error, n_estimators=100, num_class=6, num_leaves=200, objective=multiclass, random_state=42;, score=0.963 total time=  15.3s\n",
            "[CV 2/5; 42/54] START boosting_type=gbdt, max_depth=25, metric=multi_error, n_estimators=100, num_class=6, num_leaves=200, objective=multiclass, random_state=42\n",
            "[CV 2/5; 42/54] END boosting_type=gbdt, max_depth=25, metric=multi_error, n_estimators=100, num_class=6, num_leaves=200, objective=multiclass, random_state=42;, score=0.949 total time=  16.8s\n",
            "[CV 3/5; 42/54] START boosting_type=gbdt, max_depth=25, metric=multi_error, n_estimators=100, num_class=6, num_leaves=200, objective=multiclass, random_state=42\n",
            "[CV 3/5; 42/54] END boosting_type=gbdt, max_depth=25, metric=multi_error, n_estimators=100, num_class=6, num_leaves=200, objective=multiclass, random_state=42;, score=0.942 total time=  16.2s\n",
            "[CV 4/5; 42/54] START boosting_type=gbdt, max_depth=25, metric=multi_error, n_estimators=100, num_class=6, num_leaves=200, objective=multiclass, random_state=42\n",
            "[CV 4/5; 42/54] END boosting_type=gbdt, max_depth=25, metric=multi_error, n_estimators=100, num_class=6, num_leaves=200, objective=multiclass, random_state=42;, score=0.953 total time=  15.9s\n",
            "[CV 5/5; 42/54] START boosting_type=gbdt, max_depth=25, metric=multi_error, n_estimators=100, num_class=6, num_leaves=200, objective=multiclass, random_state=42\n",
            "[CV 5/5; 42/54] END boosting_type=gbdt, max_depth=25, metric=multi_error, n_estimators=100, num_class=6, num_leaves=200, objective=multiclass, random_state=42;, score=0.943 total time=  15.5s\n",
            "[CV 1/5; 43/54] START boosting_type=gbdt, max_depth=25, metric=multi_error, n_estimators=200, num_class=6, num_leaves=50, objective=multiclass, random_state=42\n",
            "[CV 1/5; 43/54] END boosting_type=gbdt, max_depth=25, metric=multi_error, n_estimators=200, num_class=6, num_leaves=50, objective=multiclass, random_state=42;, score=0.970 total time=   8.6s\n",
            "[CV 2/5; 43/54] START boosting_type=gbdt, max_depth=25, metric=multi_error, n_estimators=200, num_class=6, num_leaves=50, objective=multiclass, random_state=42\n",
            "[CV 2/5; 43/54] END boosting_type=gbdt, max_depth=25, metric=multi_error, n_estimators=200, num_class=6, num_leaves=50, objective=multiclass, random_state=42;, score=0.958 total time=   8.4s\n",
            "[CV 3/5; 43/54] START boosting_type=gbdt, max_depth=25, metric=multi_error, n_estimators=200, num_class=6, num_leaves=50, objective=multiclass, random_state=42\n",
            "[CV 3/5; 43/54] END boosting_type=gbdt, max_depth=25, metric=multi_error, n_estimators=200, num_class=6, num_leaves=50, objective=multiclass, random_state=42;, score=0.954 total time=   7.8s\n",
            "[CV 4/5; 43/54] START boosting_type=gbdt, max_depth=25, metric=multi_error, n_estimators=200, num_class=6, num_leaves=50, objective=multiclass, random_state=42\n",
            "[CV 4/5; 43/54] END boosting_type=gbdt, max_depth=25, metric=multi_error, n_estimators=200, num_class=6, num_leaves=50, objective=multiclass, random_state=42;, score=0.959 total time=   8.2s\n",
            "[CV 5/5; 43/54] START boosting_type=gbdt, max_depth=25, metric=multi_error, n_estimators=200, num_class=6, num_leaves=50, objective=multiclass, random_state=42\n",
            "[CV 5/5; 43/54] END boosting_type=gbdt, max_depth=25, metric=multi_error, n_estimators=200, num_class=6, num_leaves=50, objective=multiclass, random_state=42;, score=0.951 total time=   7.8s\n",
            "[CV 1/5; 44/54] START boosting_type=gbdt, max_depth=25, metric=multi_error, n_estimators=200, num_class=6, num_leaves=100, objective=multiclass, random_state=42\n",
            "[CV 1/5; 44/54] END boosting_type=gbdt, max_depth=25, metric=multi_error, n_estimators=200, num_class=6, num_leaves=100, objective=multiclass, random_state=42;, score=0.967 total time=  13.1s\n",
            "[CV 2/5; 44/54] START boosting_type=gbdt, max_depth=25, metric=multi_error, n_estimators=200, num_class=6, num_leaves=100, objective=multiclass, random_state=42\n",
            "[CV 2/5; 44/54] END boosting_type=gbdt, max_depth=25, metric=multi_error, n_estimators=200, num_class=6, num_leaves=100, objective=multiclass, random_state=42;, score=0.960 total time=  15.3s\n",
            "[CV 3/5; 44/54] START boosting_type=gbdt, max_depth=25, metric=multi_error, n_estimators=200, num_class=6, num_leaves=100, objective=multiclass, random_state=42\n",
            "[CV 3/5; 44/54] END boosting_type=gbdt, max_depth=25, metric=multi_error, n_estimators=200, num_class=6, num_leaves=100, objective=multiclass, random_state=42;, score=0.950 total time=  13.0s\n",
            "[CV 4/5; 44/54] START boosting_type=gbdt, max_depth=25, metric=multi_error, n_estimators=200, num_class=6, num_leaves=100, objective=multiclass, random_state=42\n",
            "[CV 4/5; 44/54] END boosting_type=gbdt, max_depth=25, metric=multi_error, n_estimators=200, num_class=6, num_leaves=100, objective=multiclass, random_state=42;, score=0.957 total time=  12.5s\n",
            "[CV 5/5; 44/54] START boosting_type=gbdt, max_depth=25, metric=multi_error, n_estimators=200, num_class=6, num_leaves=100, objective=multiclass, random_state=42\n",
            "[CV 5/5; 44/54] END boosting_type=gbdt, max_depth=25, metric=multi_error, n_estimators=200, num_class=6, num_leaves=100, objective=multiclass, random_state=42;, score=0.949 total time=  12.6s\n",
            "[CV 1/5; 45/54] START boosting_type=gbdt, max_depth=25, metric=multi_error, n_estimators=200, num_class=6, num_leaves=200, objective=multiclass, random_state=42\n",
            "[CV 1/5; 45/54] END boosting_type=gbdt, max_depth=25, metric=multi_error, n_estimators=200, num_class=6, num_leaves=200, objective=multiclass, random_state=42;, score=0.965 total time=  17.4s\n",
            "[CV 2/5; 45/54] START boosting_type=gbdt, max_depth=25, metric=multi_error, n_estimators=200, num_class=6, num_leaves=200, objective=multiclass, random_state=42\n",
            "[CV 2/5; 45/54] END boosting_type=gbdt, max_depth=25, metric=multi_error, n_estimators=200, num_class=6, num_leaves=200, objective=multiclass, random_state=42;, score=0.957 total time=  17.3s\n",
            "[CV 3/5; 45/54] START boosting_type=gbdt, max_depth=25, metric=multi_error, n_estimators=200, num_class=6, num_leaves=200, objective=multiclass, random_state=42\n",
            "[CV 3/5; 45/54] END boosting_type=gbdt, max_depth=25, metric=multi_error, n_estimators=200, num_class=6, num_leaves=200, objective=multiclass, random_state=42;, score=0.951 total time=  16.3s\n",
            "[CV 4/5; 45/54] START boosting_type=gbdt, max_depth=25, metric=multi_error, n_estimators=200, num_class=6, num_leaves=200, objective=multiclass, random_state=42\n",
            "[CV 4/5; 45/54] END boosting_type=gbdt, max_depth=25, metric=multi_error, n_estimators=200, num_class=6, num_leaves=200, objective=multiclass, random_state=42;, score=0.958 total time=  17.1s\n",
            "[CV 5/5; 45/54] START boosting_type=gbdt, max_depth=25, metric=multi_error, n_estimators=200, num_class=6, num_leaves=200, objective=multiclass, random_state=42\n",
            "[CV 5/5; 45/54] END boosting_type=gbdt, max_depth=25, metric=multi_error, n_estimators=200, num_class=6, num_leaves=200, objective=multiclass, random_state=42;, score=0.953 total time=  24.7s\n",
            "[CV 1/5; 46/54] START boosting_type=gbdt, max_depth=25, metric=multi_logloss, n_estimators=50, num_class=6, num_leaves=50, objective=multiclass, random_state=42\n",
            "[CV 1/5; 46/54] END boosting_type=gbdt, max_depth=25, metric=multi_logloss, n_estimators=50, num_class=6, num_leaves=50, objective=multiclass, random_state=42;, score=0.957 total time=   6.9s\n",
            "[CV 2/5; 46/54] START boosting_type=gbdt, max_depth=25, metric=multi_logloss, n_estimators=50, num_class=6, num_leaves=50, objective=multiclass, random_state=42\n",
            "[CV 2/5; 46/54] END boosting_type=gbdt, max_depth=25, metric=multi_logloss, n_estimators=50, num_class=6, num_leaves=50, objective=multiclass, random_state=42;, score=0.940 total time=   3.8s\n",
            "[CV 3/5; 46/54] START boosting_type=gbdt, max_depth=25, metric=multi_logloss, n_estimators=50, num_class=6, num_leaves=50, objective=multiclass, random_state=42\n",
            "[CV 3/5; 46/54] END boosting_type=gbdt, max_depth=25, metric=multi_logloss, n_estimators=50, num_class=6, num_leaves=50, objective=multiclass, random_state=42;, score=0.945 total time=   3.8s\n",
            "[CV 4/5; 46/54] START boosting_type=gbdt, max_depth=25, metric=multi_logloss, n_estimators=50, num_class=6, num_leaves=50, objective=multiclass, random_state=42\n",
            "[CV 4/5; 46/54] END boosting_type=gbdt, max_depth=25, metric=multi_logloss, n_estimators=50, num_class=6, num_leaves=50, objective=multiclass, random_state=42;, score=0.941 total time=   4.8s\n",
            "[CV 5/5; 46/54] START boosting_type=gbdt, max_depth=25, metric=multi_logloss, n_estimators=50, num_class=6, num_leaves=50, objective=multiclass, random_state=42\n",
            "[CV 5/5; 46/54] END boosting_type=gbdt, max_depth=25, metric=multi_logloss, n_estimators=50, num_class=6, num_leaves=50, objective=multiclass, random_state=42;, score=0.938 total time=   3.8s\n",
            "[CV 1/5; 47/54] START boosting_type=gbdt, max_depth=25, metric=multi_logloss, n_estimators=50, num_class=6, num_leaves=100, objective=multiclass, random_state=42\n",
            "[CV 1/5; 47/54] END boosting_type=gbdt, max_depth=25, metric=multi_logloss, n_estimators=50, num_class=6, num_leaves=100, objective=multiclass, random_state=42;, score=0.951 total time=   7.9s\n",
            "[CV 2/5; 47/54] START boosting_type=gbdt, max_depth=25, metric=multi_logloss, n_estimators=50, num_class=6, num_leaves=100, objective=multiclass, random_state=42\n",
            "[CV 2/5; 47/54] END boosting_type=gbdt, max_depth=25, metric=multi_logloss, n_estimators=50, num_class=6, num_leaves=100, objective=multiclass, random_state=42;, score=0.942 total time=   7.1s\n",
            "[CV 3/5; 47/54] START boosting_type=gbdt, max_depth=25, metric=multi_logloss, n_estimators=50, num_class=6, num_leaves=100, objective=multiclass, random_state=42\n",
            "[CV 3/5; 47/54] END boosting_type=gbdt, max_depth=25, metric=multi_logloss, n_estimators=50, num_class=6, num_leaves=100, objective=multiclass, random_state=42;, score=0.936 total time=   7.0s\n",
            "[CV 4/5; 47/54] START boosting_type=gbdt, max_depth=25, metric=multi_logloss, n_estimators=50, num_class=6, num_leaves=100, objective=multiclass, random_state=42\n",
            "[CV 4/5; 47/54] END boosting_type=gbdt, max_depth=25, metric=multi_logloss, n_estimators=50, num_class=6, num_leaves=100, objective=multiclass, random_state=42;, score=0.942 total time=   7.4s\n",
            "[CV 5/5; 47/54] START boosting_type=gbdt, max_depth=25, metric=multi_logloss, n_estimators=50, num_class=6, num_leaves=100, objective=multiclass, random_state=42\n",
            "[CV 5/5; 47/54] END boosting_type=gbdt, max_depth=25, metric=multi_logloss, n_estimators=50, num_class=6, num_leaves=100, objective=multiclass, random_state=42;, score=0.939 total time=   6.9s\n",
            "[CV 1/5; 48/54] START boosting_type=gbdt, max_depth=25, metric=multi_logloss, n_estimators=50, num_class=6, num_leaves=200, objective=multiclass, random_state=42\n",
            "[CV 1/5; 48/54] END boosting_type=gbdt, max_depth=25, metric=multi_logloss, n_estimators=50, num_class=6, num_leaves=200, objective=multiclass, random_state=42;, score=0.954 total time=  10.8s\n",
            "[CV 2/5; 48/54] START boosting_type=gbdt, max_depth=25, metric=multi_logloss, n_estimators=50, num_class=6, num_leaves=200, objective=multiclass, random_state=42\n",
            "[CV 2/5; 48/54] END boosting_type=gbdt, max_depth=25, metric=multi_logloss, n_estimators=50, num_class=6, num_leaves=200, objective=multiclass, random_state=42;, score=0.938 total time=   9.6s\n",
            "[CV 3/5; 48/54] START boosting_type=gbdt, max_depth=25, metric=multi_logloss, n_estimators=50, num_class=6, num_leaves=200, objective=multiclass, random_state=42\n",
            "[CV 3/5; 48/54] END boosting_type=gbdt, max_depth=25, metric=multi_logloss, n_estimators=50, num_class=6, num_leaves=200, objective=multiclass, random_state=42;, score=0.939 total time=   9.4s\n",
            "[CV 4/5; 48/54] START boosting_type=gbdt, max_depth=25, metric=multi_logloss, n_estimators=50, num_class=6, num_leaves=200, objective=multiclass, random_state=42\n",
            "[CV 4/5; 48/54] END boosting_type=gbdt, max_depth=25, metric=multi_logloss, n_estimators=50, num_class=6, num_leaves=200, objective=multiclass, random_state=42;, score=0.942 total time=  10.0s\n",
            "[CV 5/5; 48/54] START boosting_type=gbdt, max_depth=25, metric=multi_logloss, n_estimators=50, num_class=6, num_leaves=200, objective=multiclass, random_state=42\n",
            "[CV 5/5; 48/54] END boosting_type=gbdt, max_depth=25, metric=multi_logloss, n_estimators=50, num_class=6, num_leaves=200, objective=multiclass, random_state=42;, score=0.939 total time=  11.0s\n",
            "[CV 1/5; 49/54] START boosting_type=gbdt, max_depth=25, metric=multi_logloss, n_estimators=100, num_class=6, num_leaves=50, objective=multiclass, random_state=42\n",
            "[CV 1/5; 49/54] END boosting_type=gbdt, max_depth=25, metric=multi_logloss, n_estimators=100, num_class=6, num_leaves=50, objective=multiclass, random_state=42;, score=0.965 total time=   7.1s\n",
            "[CV 2/5; 49/54] START boosting_type=gbdt, max_depth=25, metric=multi_logloss, n_estimators=100, num_class=6, num_leaves=50, objective=multiclass, random_state=42\n",
            "[CV 2/5; 49/54] END boosting_type=gbdt, max_depth=25, metric=multi_logloss, n_estimators=100, num_class=6, num_leaves=50, objective=multiclass, random_state=42;, score=0.945 total time=   6.8s\n",
            "[CV 3/5; 49/54] START boosting_type=gbdt, max_depth=25, metric=multi_logloss, n_estimators=100, num_class=6, num_leaves=50, objective=multiclass, random_state=42\n",
            "[CV 3/5; 49/54] END boosting_type=gbdt, max_depth=25, metric=multi_logloss, n_estimators=100, num_class=6, num_leaves=50, objective=multiclass, random_state=42;, score=0.949 total time=   7.4s\n",
            "[CV 4/5; 49/54] START boosting_type=gbdt, max_depth=25, metric=multi_logloss, n_estimators=100, num_class=6, num_leaves=50, objective=multiclass, random_state=42\n",
            "[CV 4/5; 49/54] END boosting_type=gbdt, max_depth=25, metric=multi_logloss, n_estimators=100, num_class=6, num_leaves=50, objective=multiclass, random_state=42;, score=0.953 total time=   7.5s\n",
            "[CV 5/5; 49/54] START boosting_type=gbdt, max_depth=25, metric=multi_logloss, n_estimators=100, num_class=6, num_leaves=50, objective=multiclass, random_state=42\n",
            "[CV 5/5; 49/54] END boosting_type=gbdt, max_depth=25, metric=multi_logloss, n_estimators=100, num_class=6, num_leaves=50, objective=multiclass, random_state=42;, score=0.942 total time=   7.2s\n",
            "[CV 1/5; 50/54] START boosting_type=gbdt, max_depth=25, metric=multi_logloss, n_estimators=100, num_class=6, num_leaves=100, objective=multiclass, random_state=42\n",
            "[CV 1/5; 50/54] END boosting_type=gbdt, max_depth=25, metric=multi_logloss, n_estimators=100, num_class=6, num_leaves=100, objective=multiclass, random_state=42;, score=0.963 total time=  13.1s\n",
            "[CV 2/5; 50/54] START boosting_type=gbdt, max_depth=25, metric=multi_logloss, n_estimators=100, num_class=6, num_leaves=100, objective=multiclass, random_state=42\n",
            "[CV 2/5; 50/54] END boosting_type=gbdt, max_depth=25, metric=multi_logloss, n_estimators=100, num_class=6, num_leaves=100, objective=multiclass, random_state=42;, score=0.955 total time=  12.7s\n",
            "[CV 3/5; 50/54] START boosting_type=gbdt, max_depth=25, metric=multi_logloss, n_estimators=100, num_class=6, num_leaves=100, objective=multiclass, random_state=42\n",
            "[CV 3/5; 50/54] END boosting_type=gbdt, max_depth=25, metric=multi_logloss, n_estimators=100, num_class=6, num_leaves=100, objective=multiclass, random_state=42;, score=0.944 total time=  11.4s\n",
            "[CV 4/5; 50/54] START boosting_type=gbdt, max_depth=25, metric=multi_logloss, n_estimators=100, num_class=6, num_leaves=100, objective=multiclass, random_state=42\n",
            "[CV 4/5; 50/54] END boosting_type=gbdt, max_depth=25, metric=multi_logloss, n_estimators=100, num_class=6, num_leaves=100, objective=multiclass, random_state=42;, score=0.950 total time=  11.4s\n",
            "[CV 5/5; 50/54] START boosting_type=gbdt, max_depth=25, metric=multi_logloss, n_estimators=100, num_class=6, num_leaves=100, objective=multiclass, random_state=42\n",
            "[CV 5/5; 50/54] END boosting_type=gbdt, max_depth=25, metric=multi_logloss, n_estimators=100, num_class=6, num_leaves=100, objective=multiclass, random_state=42;, score=0.946 total time=  10.8s\n",
            "[CV 1/5; 51/54] START boosting_type=gbdt, max_depth=25, metric=multi_logloss, n_estimators=100, num_class=6, num_leaves=200, objective=multiclass, random_state=42\n",
            "[CV 1/5; 51/54] END boosting_type=gbdt, max_depth=25, metric=multi_logloss, n_estimators=100, num_class=6, num_leaves=200, objective=multiclass, random_state=42;, score=0.963 total time=  17.0s\n",
            "[CV 2/5; 51/54] START boosting_type=gbdt, max_depth=25, metric=multi_logloss, n_estimators=100, num_class=6, num_leaves=200, objective=multiclass, random_state=42\n",
            "[CV 2/5; 51/54] END boosting_type=gbdt, max_depth=25, metric=multi_logloss, n_estimators=100, num_class=6, num_leaves=200, objective=multiclass, random_state=42;, score=0.949 total time=  16.9s\n",
            "[CV 3/5; 51/54] START boosting_type=gbdt, max_depth=25, metric=multi_logloss, n_estimators=100, num_class=6, num_leaves=200, objective=multiclass, random_state=42\n",
            "[CV 3/5; 51/54] END boosting_type=gbdt, max_depth=25, metric=multi_logloss, n_estimators=100, num_class=6, num_leaves=200, objective=multiclass, random_state=42;, score=0.942 total time=  15.6s\n",
            "[CV 4/5; 51/54] START boosting_type=gbdt, max_depth=25, metric=multi_logloss, n_estimators=100, num_class=6, num_leaves=200, objective=multiclass, random_state=42\n",
            "[CV 4/5; 51/54] END boosting_type=gbdt, max_depth=25, metric=multi_logloss, n_estimators=100, num_class=6, num_leaves=200, objective=multiclass, random_state=42;, score=0.953 total time=  15.2s\n",
            "[CV 5/5; 51/54] START boosting_type=gbdt, max_depth=25, metric=multi_logloss, n_estimators=100, num_class=6, num_leaves=200, objective=multiclass, random_state=42\n",
            "[CV 5/5; 51/54] END boosting_type=gbdt, max_depth=25, metric=multi_logloss, n_estimators=100, num_class=6, num_leaves=200, objective=multiclass, random_state=42;, score=0.943 total time=  15.4s\n",
            "[CV 1/5; 52/54] START boosting_type=gbdt, max_depth=25, metric=multi_logloss, n_estimators=200, num_class=6, num_leaves=50, objective=multiclass, random_state=42\n",
            "[CV 1/5; 52/54] END boosting_type=gbdt, max_depth=25, metric=multi_logloss, n_estimators=200, num_class=6, num_leaves=50, objective=multiclass, random_state=42;, score=0.970 total time=   7.9s\n",
            "[CV 2/5; 52/54] START boosting_type=gbdt, max_depth=25, metric=multi_logloss, n_estimators=200, num_class=6, num_leaves=50, objective=multiclass, random_state=42\n",
            "[CV 2/5; 52/54] END boosting_type=gbdt, max_depth=25, metric=multi_logloss, n_estimators=200, num_class=6, num_leaves=50, objective=multiclass, random_state=42;, score=0.958 total time=   7.9s\n",
            "[CV 3/5; 52/54] START boosting_type=gbdt, max_depth=25, metric=multi_logloss, n_estimators=200, num_class=6, num_leaves=50, objective=multiclass, random_state=42\n",
            "[CV 3/5; 52/54] END boosting_type=gbdt, max_depth=25, metric=multi_logloss, n_estimators=200, num_class=6, num_leaves=50, objective=multiclass, random_state=42;, score=0.954 total time=   7.8s\n",
            "[CV 4/5; 52/54] START boosting_type=gbdt, max_depth=25, metric=multi_logloss, n_estimators=200, num_class=6, num_leaves=50, objective=multiclass, random_state=42\n",
            "[CV 4/5; 52/54] END boosting_type=gbdt, max_depth=25, metric=multi_logloss, n_estimators=200, num_class=6, num_leaves=50, objective=multiclass, random_state=42;, score=0.959 total time=   8.0s\n",
            "[CV 5/5; 52/54] START boosting_type=gbdt, max_depth=25, metric=multi_logloss, n_estimators=200, num_class=6, num_leaves=50, objective=multiclass, random_state=42\n",
            "[CV 5/5; 52/54] END boosting_type=gbdt, max_depth=25, metric=multi_logloss, n_estimators=200, num_class=6, num_leaves=50, objective=multiclass, random_state=42;, score=0.951 total time=   8.1s\n",
            "[CV 1/5; 53/54] START boosting_type=gbdt, max_depth=25, metric=multi_logloss, n_estimators=200, num_class=6, num_leaves=100, objective=multiclass, random_state=42\n",
            "[CV 1/5; 53/54] END boosting_type=gbdt, max_depth=25, metric=multi_logloss, n_estimators=200, num_class=6, num_leaves=100, objective=multiclass, random_state=42;, score=0.967 total time=  13.6s\n",
            "[CV 2/5; 53/54] START boosting_type=gbdt, max_depth=25, metric=multi_logloss, n_estimators=200, num_class=6, num_leaves=100, objective=multiclass, random_state=42\n",
            "[CV 2/5; 53/54] END boosting_type=gbdt, max_depth=25, metric=multi_logloss, n_estimators=200, num_class=6, num_leaves=100, objective=multiclass, random_state=42;, score=0.960 total time=  14.2s\n",
            "[CV 3/5; 53/54] START boosting_type=gbdt, max_depth=25, metric=multi_logloss, n_estimators=200, num_class=6, num_leaves=100, objective=multiclass, random_state=42\n",
            "[CV 3/5; 53/54] END boosting_type=gbdt, max_depth=25, metric=multi_logloss, n_estimators=200, num_class=6, num_leaves=100, objective=multiclass, random_state=42;, score=0.950 total time=  14.9s\n",
            "[CV 4/5; 53/54] START boosting_type=gbdt, max_depth=25, metric=multi_logloss, n_estimators=200, num_class=6, num_leaves=100, objective=multiclass, random_state=42\n",
            "[CV 4/5; 53/54] END boosting_type=gbdt, max_depth=25, metric=multi_logloss, n_estimators=200, num_class=6, num_leaves=100, objective=multiclass, random_state=42;, score=0.957 total time=  12.6s\n",
            "[CV 5/5; 53/54] START boosting_type=gbdt, max_depth=25, metric=multi_logloss, n_estimators=200, num_class=6, num_leaves=100, objective=multiclass, random_state=42\n",
            "[CV 5/5; 53/54] END boosting_type=gbdt, max_depth=25, metric=multi_logloss, n_estimators=200, num_class=6, num_leaves=100, objective=multiclass, random_state=42;, score=0.949 total time=  12.7s\n",
            "[CV 1/5; 54/54] START boosting_type=gbdt, max_depth=25, metric=multi_logloss, n_estimators=200, num_class=6, num_leaves=200, objective=multiclass, random_state=42\n",
            "[CV 1/5; 54/54] END boosting_type=gbdt, max_depth=25, metric=multi_logloss, n_estimators=200, num_class=6, num_leaves=200, objective=multiclass, random_state=42;, score=0.965 total time=  18.2s\n",
            "[CV 2/5; 54/54] START boosting_type=gbdt, max_depth=25, metric=multi_logloss, n_estimators=200, num_class=6, num_leaves=200, objective=multiclass, random_state=42\n",
            "[CV 2/5; 54/54] END boosting_type=gbdt, max_depth=25, metric=multi_logloss, n_estimators=200, num_class=6, num_leaves=200, objective=multiclass, random_state=42;, score=0.957 total time=  16.5s\n",
            "[CV 3/5; 54/54] START boosting_type=gbdt, max_depth=25, metric=multi_logloss, n_estimators=200, num_class=6, num_leaves=200, objective=multiclass, random_state=42\n",
            "[CV 3/5; 54/54] END boosting_type=gbdt, max_depth=25, metric=multi_logloss, n_estimators=200, num_class=6, num_leaves=200, objective=multiclass, random_state=42;, score=0.951 total time=  18.0s\n",
            "[CV 4/5; 54/54] START boosting_type=gbdt, max_depth=25, metric=multi_logloss, n_estimators=200, num_class=6, num_leaves=200, objective=multiclass, random_state=42\n",
            "[CV 4/5; 54/54] END boosting_type=gbdt, max_depth=25, metric=multi_logloss, n_estimators=200, num_class=6, num_leaves=200, objective=multiclass, random_state=42;, score=0.958 total time=  19.0s\n",
            "[CV 5/5; 54/54] START boosting_type=gbdt, max_depth=25, metric=multi_logloss, n_estimators=200, num_class=6, num_leaves=200, objective=multiclass, random_state=42\n",
            "[CV 5/5; 54/54] END boosting_type=gbdt, max_depth=25, metric=multi_logloss, n_estimators=200, num_class=6, num_leaves=200, objective=multiclass, random_state=42;, score=0.953 total time=  18.0s\n"
          ]
        }
      ]
    },
    {
      "cell_type": "code",
      "metadata": {
        "pycharm": {
          "name": "#%%\n"
        },
        "id": "x6DD6N5CPtfq",
        "outputId": "332c400b-7bbc-4c13-bcd4-15f8a20a83dc"
      },
      "source": [
        "best_model = model.best_score_\n",
        "print(\"\\nBest Accuracy: %f\"%model.best_score_)\n",
        "best_params = model.best_params_\n",
        "print(model.best_params_)"
      ],
      "execution_count": null,
      "outputs": [
        {
          "name": "stdout",
          "output_type": "stream",
          "text": [
            "\n",
            "Best Accuracy: 0.959605\n",
            "{'boosting_type': 'gbdt', 'max_depth': 20, 'metric': 'multi_error', 'n_estimators': 200, 'num_class': 6, 'num_leaves': 50, 'objective': 'multiclass', 'random_state': 42}\n"
          ]
        }
      ]
    },
    {
      "cell_type": "code",
      "metadata": {
        "ExecuteTime": {
          "end_time": "2021-11-26T18:24:19.070350Z",
          "start_time": "2021-11-26T18:24:09.994247Z"
        },
        "pycharm": {
          "name": "#%%\n"
        },
        "scrolled": false,
        "id": "N5ANFGo3Ptfr",
        "outputId": "dbaceb82-b183-4c17-eabf-b37a023a5137"
      },
      "source": [
        "lgb1 = lgbm.LGBMClassifier(**best_params)\n",
        "lgb1.fit(X=X_train_train_pca, y=y_train_train, eval_set=(X_train_val_pca, y_train_val))\n",
        "validation_metrics_2=lgb1.evals_result_"
      ],
      "execution_count": null,
      "outputs": [
        {
          "name": "stdout",
          "output_type": "stream",
          "text": [
            "[1]\tvalid_0's multi_error: 0.17871\n",
            "[2]\tvalid_0's multi_error: 0.119658\n",
            "[3]\tvalid_0's multi_error: 0.106449\n",
            "[4]\tvalid_0's multi_error: 0.0982906\n",
            "[5]\tvalid_0's multi_error: 0.0901321\n",
            "[6]\tvalid_0's multi_error: 0.0866356\n",
            "[7]\tvalid_0's multi_error: 0.0870241\n",
            "[8]\tvalid_0's multi_error: 0.0835276\n",
            "[9]\tvalid_0's multi_error: 0.0773116\n",
            "[10]\tvalid_0's multi_error: 0.0769231\n",
            "[11]\tvalid_0's multi_error: 0.0765346\n",
            "[12]\tvalid_0's multi_error: 0.0749806\n",
            "[13]\tvalid_0's multi_error: 0.0722611\n",
            "[14]\tvalid_0's multi_error: 0.0703186\n",
            "[15]\tvalid_0's multi_error: 0.0710956\n",
            "[16]\tvalid_0's multi_error: 0.0679876\n",
            "[17]\tvalid_0's multi_error: 0.0679876\n",
            "[18]\tvalid_0's multi_error: 0.0668221\n",
            "[19]\tvalid_0's multi_error: 0.0660451\n",
            "[20]\tvalid_0's multi_error: 0.0656566\n",
            "[21]\tvalid_0's multi_error: 0.0621601\n",
            "[22]\tvalid_0's multi_error: 0.0609946\n",
            "[23]\tvalid_0's multi_error: 0.0609946\n",
            "[24]\tvalid_0's multi_error: 0.0613831\n",
            "[25]\tvalid_0's multi_error: 0.0594406\n",
            "[26]\tvalid_0's multi_error: 0.0586636\n",
            "[27]\tvalid_0's multi_error: 0.0590521\n",
            "[28]\tvalid_0's multi_error: 0.0563326\n",
            "[29]\tvalid_0's multi_error: 0.0571096\n",
            "[30]\tvalid_0's multi_error: 0.0547786\n",
            "[31]\tvalid_0's multi_error: 0.0555556\n",
            "[32]\tvalid_0's multi_error: 0.0547786\n",
            "[33]\tvalid_0's multi_error: 0.0540016\n",
            "[34]\tvalid_0's multi_error: 0.0540016\n",
            "[35]\tvalid_0's multi_error: 0.0516706\n",
            "[36]\tvalid_0's multi_error: 0.0524476\n",
            "[37]\tvalid_0's multi_error: 0.0524476\n",
            "[38]\tvalid_0's multi_error: 0.0508936\n",
            "[39]\tvalid_0's multi_error: 0.0493395\n",
            "[40]\tvalid_0's multi_error: 0.0508936\n",
            "[41]\tvalid_0's multi_error: 0.0508936\n",
            "[42]\tvalid_0's multi_error: 0.0493395\n",
            "[43]\tvalid_0's multi_error: 0.0501166\n",
            "[44]\tvalid_0's multi_error: 0.0505051\n",
            "[45]\tvalid_0's multi_error: 0.048951\n",
            "[46]\tvalid_0's multi_error: 0.0493395\n",
            "[47]\tvalid_0's multi_error: 0.0501166\n",
            "[48]\tvalid_0's multi_error: 0.0493395\n",
            "[49]\tvalid_0's multi_error: 0.049728\n",
            "[50]\tvalid_0's multi_error: 0.0493395\n",
            "[51]\tvalid_0's multi_error: 0.049728\n",
            "[52]\tvalid_0's multi_error: 0.048174\n",
            "[53]\tvalid_0's multi_error: 0.0470085\n",
            "[54]\tvalid_0's multi_error: 0.0462315\n",
            "[55]\tvalid_0's multi_error: 0.048174\n",
            "[56]\tvalid_0's multi_error: 0.0477855\n",
            "[57]\tvalid_0's multi_error: 0.045066\n",
            "[58]\tvalid_0's multi_error: 0.0454545\n",
            "[59]\tvalid_0's multi_error: 0.045066\n",
            "[60]\tvalid_0's multi_error: 0.0446775\n",
            "[61]\tvalid_0's multi_error: 0.044289\n",
            "[62]\tvalid_0's multi_error: 0.0454545\n",
            "[63]\tvalid_0's multi_error: 0.043512\n",
            "[64]\tvalid_0's multi_error: 0.0423465\n",
            "[65]\tvalid_0's multi_error: 0.0423465\n",
            "[66]\tvalid_0's multi_error: 0.043512\n",
            "[67]\tvalid_0's multi_error: 0.0415695\n",
            "[68]\tvalid_0's multi_error: 0.041181\n",
            "[69]\tvalid_0's multi_error: 0.041958\n",
            "[70]\tvalid_0's multi_error: 0.0415695\n",
            "[71]\tvalid_0's multi_error: 0.0423465\n",
            "[72]\tvalid_0's multi_error: 0.042735\n",
            "[73]\tvalid_0's multi_error: 0.041958\n",
            "[74]\tvalid_0's multi_error: 0.041958\n",
            "[75]\tvalid_0's multi_error: 0.041958\n",
            "[76]\tvalid_0's multi_error: 0.041181\n",
            "[77]\tvalid_0's multi_error: 0.041181\n",
            "[78]\tvalid_0's multi_error: 0.041181\n",
            "[79]\tvalid_0's multi_error: 0.0407925\n",
            "[80]\tvalid_0's multi_error: 0.041181\n",
            "[81]\tvalid_0's multi_error: 0.040404\n",
            "[82]\tvalid_0's multi_error: 0.0415695\n",
            "[83]\tvalid_0's multi_error: 0.041181\n",
            "[84]\tvalid_0's multi_error: 0.041181\n",
            "[85]\tvalid_0's multi_error: 0.0407925\n",
            "[86]\tvalid_0's multi_error: 0.0407925\n",
            "[87]\tvalid_0's multi_error: 0.041181\n",
            "[88]\tvalid_0's multi_error: 0.040404\n",
            "[89]\tvalid_0's multi_error: 0.040404\n",
            "[90]\tvalid_0's multi_error: 0.0407925\n",
            "[91]\tvalid_0's multi_error: 0.0400155\n",
            "[92]\tvalid_0's multi_error: 0.041181\n",
            "[93]\tvalid_0's multi_error: 0.041181\n",
            "[94]\tvalid_0's multi_error: 0.041181\n",
            "[95]\tvalid_0's multi_error: 0.040404\n",
            "[96]\tvalid_0's multi_error: 0.039627\n",
            "[97]\tvalid_0's multi_error: 0.0400155\n",
            "[98]\tvalid_0's multi_error: 0.039627\n",
            "[99]\tvalid_0's multi_error: 0.039627\n",
            "[100]\tvalid_0's multi_error: 0.0392385\n",
            "[101]\tvalid_0's multi_error: 0.0384615\n",
            "[102]\tvalid_0's multi_error: 0.0384615\n",
            "[103]\tvalid_0's multi_error: 0.0384615\n",
            "[104]\tvalid_0's multi_error: 0.0384615\n",
            "[105]\tvalid_0's multi_error: 0.0376845\n",
            "[106]\tvalid_0's multi_error: 0.037296\n",
            "[107]\tvalid_0's multi_error: 0.0376845\n",
            "[108]\tvalid_0's multi_error: 0.037296\n",
            "[109]\tvalid_0's multi_error: 0.038073\n",
            "[110]\tvalid_0's multi_error: 0.0376845\n",
            "[111]\tvalid_0's multi_error: 0.0384615\n",
            "[112]\tvalid_0's multi_error: 0.038073\n",
            "[113]\tvalid_0's multi_error: 0.036519\n",
            "[114]\tvalid_0's multi_error: 0.0376845\n",
            "[115]\tvalid_0's multi_error: 0.037296\n",
            "[116]\tvalid_0's multi_error: 0.037296\n",
            "[117]\tvalid_0's multi_error: 0.037296\n",
            "[118]\tvalid_0's multi_error: 0.0369075\n",
            "[119]\tvalid_0's multi_error: 0.0376845\n",
            "[120]\tvalid_0's multi_error: 0.038073\n",
            "[121]\tvalid_0's multi_error: 0.0376845\n",
            "[122]\tvalid_0's multi_error: 0.038073\n",
            "[123]\tvalid_0's multi_error: 0.038073\n",
            "[124]\tvalid_0's multi_error: 0.0376845\n",
            "[125]\tvalid_0's multi_error: 0.038073\n",
            "[126]\tvalid_0's multi_error: 0.037296\n",
            "[127]\tvalid_0's multi_error: 0.036519\n",
            "[128]\tvalid_0's multi_error: 0.037296\n",
            "[129]\tvalid_0's multi_error: 0.037296\n",
            "[130]\tvalid_0's multi_error: 0.0369075\n",
            "[131]\tvalid_0's multi_error: 0.037296\n",
            "[132]\tvalid_0's multi_error: 0.0376845\n",
            "[133]\tvalid_0's multi_error: 0.0376845\n",
            "[134]\tvalid_0's multi_error: 0.0376845\n",
            "[135]\tvalid_0's multi_error: 0.0376845\n",
            "[136]\tvalid_0's multi_error: 0.0376845\n",
            "[137]\tvalid_0's multi_error: 0.038073\n",
            "[138]\tvalid_0's multi_error: 0.0376845\n",
            "[139]\tvalid_0's multi_error: 0.037296\n",
            "[140]\tvalid_0's multi_error: 0.0376845\n",
            "[141]\tvalid_0's multi_error: 0.038073\n",
            "[142]\tvalid_0's multi_error: 0.038073\n",
            "[143]\tvalid_0's multi_error: 0.0376845\n",
            "[144]\tvalid_0's multi_error: 0.0376845\n",
            "[145]\tvalid_0's multi_error: 0.0376845\n",
            "[146]\tvalid_0's multi_error: 0.0376845\n",
            "[147]\tvalid_0's multi_error: 0.038073\n",
            "[148]\tvalid_0's multi_error: 0.038073\n",
            "[149]\tvalid_0's multi_error: 0.038073\n",
            "[150]\tvalid_0's multi_error: 0.038073\n",
            "[151]\tvalid_0's multi_error: 0.038073\n",
            "[152]\tvalid_0's multi_error: 0.038073\n",
            "[153]\tvalid_0's multi_error: 0.0376845\n",
            "[154]\tvalid_0's multi_error: 0.0376845\n",
            "[155]\tvalid_0's multi_error: 0.037296\n",
            "[156]\tvalid_0's multi_error: 0.037296\n",
            "[157]\tvalid_0's multi_error: 0.037296\n",
            "[158]\tvalid_0's multi_error: 0.037296\n",
            "[159]\tvalid_0's multi_error: 0.037296\n",
            "[160]\tvalid_0's multi_error: 0.0369075\n",
            "[161]\tvalid_0's multi_error: 0.037296\n",
            "[162]\tvalid_0's multi_error: 0.0376845\n",
            "[163]\tvalid_0's multi_error: 0.038073\n",
            "[164]\tvalid_0's multi_error: 0.0376845\n",
            "[165]\tvalid_0's multi_error: 0.038073\n",
            "[166]\tvalid_0's multi_error: 0.0376845\n",
            "[167]\tvalid_0's multi_error: 0.0376845\n",
            "[168]\tvalid_0's multi_error: 0.0369075\n",
            "[169]\tvalid_0's multi_error: 0.0376845\n",
            "[170]\tvalid_0's multi_error: 0.0376845\n",
            "[171]\tvalid_0's multi_error: 0.0376845\n",
            "[172]\tvalid_0's multi_error: 0.037296\n",
            "[173]\tvalid_0's multi_error: 0.0376845\n",
            "[174]\tvalid_0's multi_error: 0.0376845\n",
            "[175]\tvalid_0's multi_error: 0.0376845\n",
            "[176]\tvalid_0's multi_error: 0.037296\n",
            "[177]\tvalid_0's multi_error: 0.0369075\n",
            "[178]\tvalid_0's multi_error: 0.037296\n",
            "[179]\tvalid_0's multi_error: 0.037296\n",
            "[180]\tvalid_0's multi_error: 0.0376845\n",
            "[181]\tvalid_0's multi_error: 0.037296\n",
            "[182]\tvalid_0's multi_error: 0.037296\n",
            "[183]\tvalid_0's multi_error: 0.0369075\n",
            "[184]\tvalid_0's multi_error: 0.0369075\n",
            "[185]\tvalid_0's multi_error: 0.0369075\n",
            "[186]\tvalid_0's multi_error: 0.036519\n",
            "[187]\tvalid_0's multi_error: 0.036519\n",
            "[188]\tvalid_0's multi_error: 0.036519\n",
            "[189]\tvalid_0's multi_error: 0.036519\n",
            "[190]\tvalid_0's multi_error: 0.0369075\n",
            "[191]\tvalid_0's multi_error: 0.036519\n",
            "[192]\tvalid_0's multi_error: 0.036519\n",
            "[193]\tvalid_0's multi_error: 0.036519\n",
            "[194]\tvalid_0's multi_error: 0.036519\n",
            "[195]\tvalid_0's multi_error: 0.036519\n",
            "[196]\tvalid_0's multi_error: 0.036519\n",
            "[197]\tvalid_0's multi_error: 0.036519\n",
            "[198]\tvalid_0's multi_error: 0.036519\n",
            "[199]\tvalid_0's multi_error: 0.036519\n",
            "[200]\tvalid_0's multi_error: 0.036519\n"
          ]
        }
      ]
    },
    {
      "cell_type": "code",
      "metadata": {
        "ExecuteTime": {
          "end_time": "2021-11-26T18:24:19.148324Z",
          "start_time": "2021-11-26T18:24:19.072349Z"
        },
        "pycharm": {
          "name": "#%%\n"
        },
        "id": "XBbzKmrZPtfr",
        "outputId": "c049e2cc-78c3-4216-fe65-37b260d503b4"
      },
      "source": [
        "prediction = np.rint(lgb1.predict(X_train_val_pca, num_iteration=lgb1.best_iteration_))\n",
        "print(\"accuracy\", accuracy_score(y_train_val, prediction))"
      ],
      "execution_count": null,
      "outputs": [
        {
          "name": "stdout",
          "output_type": "stream",
          "text": [
            "accuracy 0.9634809634809635\n"
          ]
        }
      ]
    },
    {
      "cell_type": "code",
      "metadata": {
        "ExecuteTime": {
          "end_time": "2021-11-26T18:25:41.899745Z",
          "start_time": "2021-11-26T18:25:41.711806Z"
        },
        "pycharm": {
          "name": "#%%\n"
        },
        "scrolled": true,
        "id": "M5SzlZ6mPtfs",
        "outputId": "cc34d4c5-1fc1-47a6-ea55-b52b19bcd208"
      },
      "source": [
        "lgbm.plot_importance(lgb1, figsize = (10,4),max_num_features=10)\n",
        "lgbm.plot_split_value_histogram(lgb1, feature = 'Column_3', figsize = (10,4))\n",
        "lgbm.plot_metric(validation_metrics_2, metric='multi_error', figsize = (10,4))"
      ],
      "execution_count": null,
      "outputs": [
        {
          "data": {
            "text/plain": "<AxesSubplot:title={'center':'Metric during training'}, xlabel='Iterations', ylabel='multi_error'>"
          },
          "execution_count": 34,
          "metadata": {},
          "output_type": "execute_result"
        },
        {
          "data": {
            "text/plain": "<Figure size 720x288 with 1 Axes>",
            "image/png": "[encoded data removed]"
          },
          "metadata": {
            "needs_background": "light"
          },
          "output_type": "display_data"
        },
        {
          "data": {
            "text/plain": "<Figure size 720x288 with 1 Axes>",
            "image/png": "[encoded data removed]"
          },
          "metadata": {
            "needs_background": "light"
          },
          "output_type": "display_data"
        },
        {
          "data": {
            "text/plain": "<Figure size 720x288 with 1 Axes>",
            "image/png": "[encoded data removed]"
          },
          "metadata": {
            "needs_background": "light"
          },
          "output_type": "display_data"
        }
      ]
    },
    {
      "cell_type": "markdown",
      "metadata": {
        "id": "v6S4ov8CbFNR"
      },
      "source": [
        "## Part 2. Use hyper parameter tuning system\n",
        "\n",
        "Use [optuna](https://optuna.org/), [hyperopt](http://hyperopt.github.io/hyperopt/) or any other zero order optimizer to find optimal hyper param set."
      ]
    },
    {
      "cell_type": "code",
      "metadata": {
        "ExecuteTime": {
          "end_time": "2021-11-26T18:53:52.228182Z",
          "start_time": "2021-11-26T18:53:52.221185Z"
        },
        "id": "l0eHQ6eBbFNR",
        "colab": {
          "referenced_widgets": [
            "0c2d45fafb234e16aef00d9abe7b6c83"
          ]
        },
        "outputId": "cfc9fcee-3530-469e-fda3-0d82f5e67670"
      },
      "source": [
        "# YOUR CODE HERE\n",
        "import optuna\n",
        "\n",
        "def step(trial):\n",
        "    param = {'boosting_type':'gbdt',\n",
        "             'learning_rate': trial.suggest_float('learning_rate',0.01, 1, log=True), #скорости обучения\n",
        "             'objective':'multiclass',\n",
        "             'num_class':[int(np.unique(y_train_train).size)],\n",
        "             'n_estimators': trial.suggest_int('n_estimators',50, 200, log=True), #Количество деревьев\n",
        "             'colsample_bytree': trial.suggest_float('colsample_bytree',0.5, 0.85, log=True), #Соотношение подвыборки столбцов при построении каждого дерева\n",
        "             'max_depth': trial.suggest_int('max_depth', 15, 50, log=True), #Максимальная глубина дерева\n",
        "             'num_leaves': trial.suggest_int('num_leaves', 50, 200,log=True), #Максимальное количество листьев дерева\n",
        "             'lambda_l1':trial.suggest_float(\"lambda_l1\", 1e-8, 10.0, log=True),\n",
        "             'lambda_l2':trial.suggest_float(\"lambda_l2\", 1e-8, 10.0, log=True),\n",
        "             'min_split_gain': trial.suggest_float('min_split_gain', 0.5, 1.5, log=True), #Минимальное снижение потерь\n",
        "             \"min_child_samples\":trial.suggest_int(\"min_child_samples\", 5, 100), #Минимальное количество данных, необходимых в дочернем (листе).\n",
        "             'subsample':trial.suggest_int('subsample', 1, 3, log=True), #Отношение подвыборки\n",
        "             'metric': 'multi_error',\n",
        "             'subsample_freq':trial.suggest_int('subsample_freq', 20, 30, log=True), #Частота подвыборки\n",
        "             \"feature_fraction\":trial.suggest_float(\"feature_fraction\", 0.4, 1.0),\n",
        "             \"bagging_fraction\":trial.suggest_float(\"bagging_fraction\", 0.4, 1.0),\n",
        "             \"bagging_freq\":trial.suggest_int(\"bagging_freq\", 1, 7),\n",
        "             \"verbose\":-1\n",
        "    }\n",
        "    lgb_optimal = lgbm.LGBMClassifier(**param)\n",
        "    lgb_optimal.fit(X_train_train_pca, y_train_train)\n",
        "    prediction = np.rint(lgb1.predict(X_train_val_pca, num_iteration=lgb1.best_iteration_))\n",
        "    accuracy = accuracy_score(y_train_val, prediction)\n",
        "    return accuracy\n",
        "\n",
        "study = optuna.create_study(direction=\"minimize\")\n",
        "study.optimize(step, n_trials=100, show_progress_bar=True)\n",
        "fig = optuna.visualization.plot_optimization_history(study)\n",
        "fig.show()"
      ],
      "execution_count": null,
      "outputs": [
        {
          "name": "stderr",
          "output_type": "stream",
          "text": [
            "\u001b[32m[I 2021-11-29 02:42:16,373]\u001b[0m A new study created in memory with name: no-name-3c33c0cc-9ece-4c67-994d-8b6bc0a01828\u001b[0m\n"
          ]
        },
        {
          "data": {
            "text/plain": "  0%|          | 0/100 [00:00<?, ?it/s]",
            "application/vnd.jupyter.widget-view+json": {
              "version_major": 2,
              "version_minor": 0,
              "model_id": "0c2d45fafb234e16aef00d9abe7b6c83"
            }
          },
          "metadata": {},
          "output_type": "display_data"
        },
        {
          "name": "stdout",
          "output_type": "stream",
          "text": [
            "[LightGBM] [Warning] feature_fraction is set=0.9926385557978826, colsample_bytree=0.6660642705413073 will be ignored. Current value: feature_fraction=0.9926385557978826\n",
            "[LightGBM] [Warning] lambda_l1 is set=3.0360851321371576e-05, reg_alpha=0.0 will be ignored. Current value: lambda_l1=3.0360851321371576e-05\n",
            "[LightGBM] [Warning] bagging_fraction is set=0.6614108224032196, subsample=1 will be ignored. Current value: bagging_fraction=0.6614108224032196\n",
            "[LightGBM] [Warning] lambda_l2 is set=3.621526039936721e-07, reg_lambda=0.0 will be ignored. Current value: lambda_l2=3.621526039936721e-07\n",
            "[LightGBM] [Warning] bagging_freq is set=7, subsample_freq=20 will be ignored. Current value: bagging_freq=7\n",
            "\u001b[32m[I 2021-11-29 02:42:18,270]\u001b[0m Trial 0 finished with value: 0.9634809634809635 and parameters: {'learning_rate': 0.5849784287296567, 'n_estimators': 63, 'colsample_bytree': 0.6660642705413073, 'max_depth': 16, 'num_leaves': 98, 'lambda_l1': 3.0360851321371576e-05, 'lambda_l2': 3.621526039936721e-07, 'min_split_gain': 0.6183531464762069, 'min_child_samples': 16, 'subsample': 1, 'subsample_freq': 20, 'feature_fraction': 0.9926385557978826, 'bagging_fraction': 0.6614108224032196, 'bagging_freq': 7}. Best is trial 0 with value: 0.9634809634809635.\u001b[0m\n",
            "[LightGBM] [Warning] feature_fraction is set=0.9905868766946834, colsample_bytree=0.5105417267032784 will be ignored. Current value: feature_fraction=0.9905868766946834\n",
            "[LightGBM] [Warning] lambda_l1 is set=0.4788976430449028, reg_alpha=0.0 will be ignored. Current value: lambda_l1=0.4788976430449028\n",
            "[LightGBM] [Warning] bagging_fraction is set=0.5735188193101567, subsample=3 will be ignored. Current value: bagging_fraction=0.5735188193101567\n",
            "[LightGBM] [Warning] lambda_l2 is set=0.22167726251657877, reg_lambda=0.0 will be ignored. Current value: lambda_l2=0.22167726251657877\n",
            "[LightGBM] [Warning] bagging_freq is set=3, subsample_freq=20 will be ignored. Current value: bagging_freq=3\n",
            "\u001b[32m[I 2021-11-29 02:42:19,621]\u001b[0m Trial 1 finished with value: 0.9634809634809635 and parameters: {'learning_rate': 0.1107811764736587, 'n_estimators': 176, 'colsample_bytree': 0.5105417267032784, 'max_depth': 20, 'num_leaves': 110, 'lambda_l1': 0.4788976430449028, 'lambda_l2': 0.22167726251657877, 'min_split_gain': 0.7425002489037877, 'min_child_samples': 64, 'subsample': 3, 'subsample_freq': 20, 'feature_fraction': 0.9905868766946834, 'bagging_fraction': 0.5735188193101567, 'bagging_freq': 3}. Best is trial 0 with value: 0.9634809634809635.\u001b[0m\n",
            "[LightGBM] [Warning] feature_fraction is set=0.8812668502551546, colsample_bytree=0.6259998651361185 will be ignored. Current value: feature_fraction=0.8812668502551546\n",
            "[LightGBM] [Warning] lambda_l1 is set=4.017221517304568e-08, reg_alpha=0.0 will be ignored. Current value: lambda_l1=4.017221517304568e-08\n",
            "[LightGBM] [Warning] bagging_fraction is set=0.7070636348475919, subsample=1 will be ignored. Current value: bagging_fraction=0.7070636348475919\n",
            "[LightGBM] [Warning] lambda_l2 is set=1.426331865564341e-05, reg_lambda=0.0 will be ignored. Current value: lambda_l2=1.426331865564341e-05\n",
            "[LightGBM] [Warning] bagging_freq is set=6, subsample_freq=24 will be ignored. Current value: bagging_freq=6\n",
            "\u001b[32m[I 2021-11-29 02:42:20,428]\u001b[0m Trial 2 finished with value: 0.9634809634809635 and parameters: {'learning_rate': 0.1556997477568759, 'n_estimators': 82, 'colsample_bytree': 0.6259998651361185, 'max_depth': 26, 'num_leaves': 56, 'lambda_l1': 4.017221517304568e-08, 'lambda_l2': 1.426331865564341e-05, 'min_split_gain': 1.2966534700721715, 'min_child_samples': 68, 'subsample': 1, 'subsample_freq': 24, 'feature_fraction': 0.8812668502551546, 'bagging_fraction': 0.7070636348475919, 'bagging_freq': 6}. Best is trial 0 with value: 0.9634809634809635.\u001b[0m\n",
            "[LightGBM] [Warning] feature_fraction is set=0.5732354338500272, colsample_bytree=0.7496175716037549 will be ignored. Current value: feature_fraction=0.5732354338500272\n",
            "[LightGBM] [Warning] lambda_l1 is set=0.05865006602590681, reg_alpha=0.0 will be ignored. Current value: lambda_l1=0.05865006602590681\n",
            "[LightGBM] [Warning] bagging_fraction is set=0.964125779939062, subsample=2 will be ignored. Current value: bagging_fraction=0.964125779939062\n",
            "[LightGBM] [Warning] lambda_l2 is set=0.5694683413423288, reg_lambda=0.0 will be ignored. Current value: lambda_l2=0.5694683413423288\n",
            "[LightGBM] [Warning] bagging_freq is set=3, subsample_freq=21 will be ignored. Current value: bagging_freq=3\n",
            "\u001b[32m[I 2021-11-29 02:42:21,790]\u001b[0m Trial 3 finished with value: 0.9634809634809635 and parameters: {'learning_rate': 0.10565236687520389, 'n_estimators': 131, 'colsample_bytree': 0.7496175716037549, 'max_depth': 22, 'num_leaves': 105, 'lambda_l1': 0.05865006602590681, 'lambda_l2': 0.5694683413423288, 'min_split_gain': 0.6896885170931957, 'min_child_samples': 13, 'subsample': 2, 'subsample_freq': 21, 'feature_fraction': 0.5732354338500272, 'bagging_fraction': 0.964125779939062, 'bagging_freq': 3}. Best is trial 0 with value: 0.9634809634809635.\u001b[0m\n",
            "[LightGBM] [Warning] feature_fraction is set=0.41763965469995623, colsample_bytree=0.7665310058094359 will be ignored. Current value: feature_fraction=0.41763965469995623\n",
            "[LightGBM] [Warning] lambda_l1 is set=6.498210426172426e-07, reg_alpha=0.0 will be ignored. Current value: lambda_l1=6.498210426172426e-07\n",
            "[LightGBM] [Warning] bagging_fraction is set=0.784353976303827, subsample=2 will be ignored. Current value: bagging_fraction=0.784353976303827\n",
            "[LightGBM] [Warning] lambda_l2 is set=0.007433002390064702, reg_lambda=0.0 will be ignored. Current value: lambda_l2=0.007433002390064702\n",
            "[LightGBM] [Warning] bagging_freq is set=1, subsample_freq=20 will be ignored. Current value: bagging_freq=1\n",
            "\u001b[32m[I 2021-11-29 02:42:22,687]\u001b[0m Trial 4 finished with value: 0.9634809634809635 and parameters: {'learning_rate': 0.032298993664998374, 'n_estimators': 56, 'colsample_bytree': 0.7665310058094359, 'max_depth': 23, 'num_leaves': 200, 'lambda_l1': 6.498210426172426e-07, 'lambda_l2': 0.007433002390064702, 'min_split_gain': 1.2972671337224007, 'min_child_samples': 78, 'subsample': 2, 'subsample_freq': 20, 'feature_fraction': 0.41763965469995623, 'bagging_fraction': 0.784353976303827, 'bagging_freq': 1}. Best is trial 0 with value: 0.9634809634809635.\u001b[0m\n",
            "[LightGBM] [Warning] feature_fraction is set=0.5103291866818526, colsample_bytree=0.6913868049761561 will be ignored. Current value: feature_fraction=0.5103291866818526\n",
            "[LightGBM] [Warning] lambda_l1 is set=0.8428316094286975, reg_alpha=0.0 will be ignored. Current value: lambda_l1=0.8428316094286975\n",
            "[LightGBM] [Warning] bagging_fraction is set=0.9091277316302177, subsample=2 will be ignored. Current value: bagging_fraction=0.9091277316302177\n",
            "[LightGBM] [Warning] lambda_l2 is set=8.091995701589195e-05, reg_lambda=0.0 will be ignored. Current value: lambda_l2=8.091995701589195e-05\n",
            "[LightGBM] [Warning] bagging_freq is set=1, subsample_freq=25 will be ignored. Current value: bagging_freq=1\n",
            "\u001b[32m[I 2021-11-29 02:42:23,249]\u001b[0m Trial 5 finished with value: 0.9634809634809635 and parameters: {'learning_rate': 0.21832432154368042, 'n_estimators': 83, 'colsample_bytree': 0.6913868049761561, 'max_depth': 29, 'num_leaves': 137, 'lambda_l1': 0.8428316094286975, 'lambda_l2': 8.091995701589195e-05, 'min_split_gain': 0.7228843769222173, 'min_child_samples': 55, 'subsample': 2, 'subsample_freq': 25, 'feature_fraction': 0.5103291866818526, 'bagging_fraction': 0.9091277316302177, 'bagging_freq': 1}. Best is trial 0 with value: 0.9634809634809635.\u001b[0m\n",
            "[LightGBM] [Warning] feature_fraction is set=0.9079738196319308, colsample_bytree=0.7046213398293381 will be ignored. Current value: feature_fraction=0.9079738196319308\n",
            "[LightGBM] [Warning] lambda_l1 is set=1.2477329462046507e-08, reg_alpha=0.0 will be ignored. Current value: lambda_l1=1.2477329462046507e-08\n",
            "[LightGBM] [Warning] bagging_fraction is set=0.7072819118033924, subsample=1 will be ignored. Current value: bagging_fraction=0.7072819118033924\n",
            "[LightGBM] [Warning] lambda_l2 is set=0.00010854122439344644, reg_lambda=0.0 will be ignored. Current value: lambda_l2=0.00010854122439344644\n",
            "[LightGBM] [Warning] bagging_freq is set=3, subsample_freq=27 will be ignored. Current value: bagging_freq=3\n",
            "\u001b[32m[I 2021-11-29 02:42:24,097]\u001b[0m Trial 6 finished with value: 0.9634809634809635 and parameters: {'learning_rate': 0.21842491979103978, 'n_estimators': 117, 'colsample_bytree': 0.7046213398293381, 'max_depth': 18, 'num_leaves': 104, 'lambda_l1': 1.2477329462046507e-08, 'lambda_l2': 0.00010854122439344644, 'min_split_gain': 0.7329363762061623, 'min_child_samples': 9, 'subsample': 1, 'subsample_freq': 27, 'feature_fraction': 0.9079738196319308, 'bagging_fraction': 0.7072819118033924, 'bagging_freq': 3}. Best is trial 0 with value: 0.9634809634809635.\u001b[0m\n",
            "[LightGBM] [Warning] feature_fraction is set=0.5512601053025509, colsample_bytree=0.5515588798293874 will be ignored. Current value: feature_fraction=0.5512601053025509\n",
            "[LightGBM] [Warning] lambda_l1 is set=0.0001866760293606857, reg_alpha=0.0 will be ignored. Current value: lambda_l1=0.0001866760293606857\n",
            "[LightGBM] [Warning] bagging_fraction is set=0.9171470879461819, subsample=1 will be ignored. Current value: bagging_fraction=0.9171470879461819\n",
            "[LightGBM] [Warning] lambda_l2 is set=1.530746259605219e-06, reg_lambda=0.0 will be ignored. Current value: lambda_l2=1.530746259605219e-06\n",
            "[LightGBM] [Warning] bagging_freq is set=4, subsample_freq=21 will be ignored. Current value: bagging_freq=4\n",
            "\u001b[32m[I 2021-11-29 02:42:25,236]\u001b[0m Trial 7 finished with value: 0.9634809634809635 and parameters: {'learning_rate': 0.07596968846940838, 'n_estimators': 109, 'colsample_bytree': 0.5515588798293874, 'max_depth': 28, 'num_leaves': 114, 'lambda_l1': 0.0001866760293606857, 'lambda_l2': 1.530746259605219e-06, 'min_split_gain': 1.4872616458322725, 'min_child_samples': 6, 'subsample': 1, 'subsample_freq': 21, 'feature_fraction': 0.5512601053025509, 'bagging_fraction': 0.9171470879461819, 'bagging_freq': 4}. Best is trial 0 with value: 0.9634809634809635.\u001b[0m\n",
            "[LightGBM] [Warning] feature_fraction is set=0.47923227217514575, colsample_bytree=0.5216227408642056 will be ignored. Current value: feature_fraction=0.47923227217514575\n",
            "[LightGBM] [Warning] lambda_l1 is set=0.9571533649524094, reg_alpha=0.0 will be ignored. Current value: lambda_l1=0.9571533649524094\n",
            "[LightGBM] [Warning] bagging_fraction is set=0.8856232323701287, subsample=1 will be ignored. Current value: bagging_fraction=0.8856232323701287\n",
            "[LightGBM] [Warning] lambda_l2 is set=1.2943363610546016e-08, reg_lambda=0.0 will be ignored. Current value: lambda_l2=1.2943363610546016e-08\n",
            "[LightGBM] [Warning] bagging_freq is set=4, subsample_freq=24 will be ignored. Current value: bagging_freq=4\n",
            "\u001b[32m[I 2021-11-29 02:42:26,003]\u001b[0m Trial 8 finished with value: 0.9634809634809635 and parameters: {'learning_rate': 0.2678866616568495, 'n_estimators': 181, 'colsample_bytree': 0.5216227408642056, 'max_depth': 21, 'num_leaves': 186, 'lambda_l1': 0.9571533649524094, 'lambda_l2': 1.2943363610546016e-08, 'min_split_gain': 1.0151304765526978, 'min_child_samples': 86, 'subsample': 1, 'subsample_freq': 24, 'feature_fraction': 0.47923227217514575, 'bagging_fraction': 0.8856232323701287, 'bagging_freq': 4}. Best is trial 0 with value: 0.9634809634809635.\u001b[0m\n",
            "[LightGBM] [Warning] feature_fraction is set=0.42427488578865435, colsample_bytree=0.6457995892531754 will be ignored. Current value: feature_fraction=0.42427488578865435\n",
            "[LightGBM] [Warning] lambda_l1 is set=2.258081110046903e-06, reg_alpha=0.0 will be ignored. Current value: lambda_l1=2.258081110046903e-06\n",
            "[LightGBM] [Warning] bagging_fraction is set=0.9032026369757424, subsample=1 will be ignored. Current value: bagging_fraction=0.9032026369757424\n",
            "[LightGBM] [Warning] lambda_l2 is set=0.00043580002591926567, reg_lambda=0.0 will be ignored. Current value: lambda_l2=0.00043580002591926567\n",
            "[LightGBM] [Warning] bagging_freq is set=1, subsample_freq=22 will be ignored. Current value: bagging_freq=1\n",
            "\u001b[32m[I 2021-11-29 02:42:27,546]\u001b[0m Trial 9 finished with value: 0.9634809634809635 and parameters: {'learning_rate': 0.03619234477526303, 'n_estimators': 75, 'colsample_bytree': 0.6457995892531754, 'max_depth': 15, 'num_leaves': 72, 'lambda_l1': 2.258081110046903e-06, 'lambda_l2': 0.00043580002591926567, 'min_split_gain': 1.309108645974776, 'min_child_samples': 24, 'subsample': 1, 'subsample_freq': 22, 'feature_fraction': 0.42427488578865435, 'bagging_fraction': 0.9032026369757424, 'bagging_freq': 1}. Best is trial 0 with value: 0.9634809634809635.\u001b[0m\n",
            "[LightGBM] [Warning] feature_fraction is set=0.7271396262598557, colsample_bytree=0.829742188743712 will be ignored. Current value: feature_fraction=0.7271396262598557\n",
            "[LightGBM] [Warning] lambda_l1 is set=0.0019187538898386102, reg_alpha=0.0 will be ignored. Current value: lambda_l1=0.0019187538898386102\n",
            "[LightGBM] [Warning] bagging_fraction is set=0.5126471281656272, subsample=3 will be ignored. Current value: bagging_fraction=0.5126471281656272\n",
            "[LightGBM] [Warning] lambda_l2 is set=1.7954551969156983e-08, reg_lambda=0.0 will be ignored. Current value: lambda_l2=1.7954551969156983e-08\n",
            "[LightGBM] [Warning] bagging_freq is set=7, subsample_freq=28 will be ignored. Current value: bagging_freq=7\n",
            "\u001b[32m[I 2021-11-29 02:42:28,205]\u001b[0m Trial 10 finished with value: 0.9634809634809635 and parameters: {'learning_rate': 0.9624786966152856, 'n_estimators': 52, 'colsample_bytree': 0.829742188743712, 'max_depth': 47, 'num_leaves': 68, 'lambda_l1': 0.0019187538898386102, 'lambda_l2': 1.7954551969156983e-08, 'min_split_gain': 0.5095604268162715, 'min_child_samples': 35, 'subsample': 3, 'subsample_freq': 28, 'feature_fraction': 0.7271396262598557, 'bagging_fraction': 0.5126471281656272, 'bagging_freq': 7}. Best is trial 0 with value: 0.9634809634809635.\u001b[0m\n",
            "[LightGBM] [Warning] feature_fraction is set=0.9605016138416227, colsample_bytree=0.5792650635681234 will be ignored. Current value: feature_fraction=0.9605016138416227\n",
            "[LightGBM] [Warning] lambda_l1 is set=8.602415626774035e-05, reg_alpha=0.0 will be ignored. Current value: lambda_l1=8.602415626774035e-05\n",
            "[LightGBM] [Warning] bagging_fraction is set=0.520910977906326, subsample=3 will be ignored. Current value: bagging_fraction=0.520910977906326\n",
            "[LightGBM] [Warning] lambda_l2 is set=9.874622667094659, reg_lambda=0.0 will be ignored. Current value: lambda_l2=9.874622667094659\n",
            "[LightGBM] [Warning] bagging_freq is set=6, subsample_freq=20 will be ignored. Current value: bagging_freq=6\n",
            "\u001b[32m[I 2021-11-29 02:42:30,746]\u001b[0m Trial 11 finished with value: 0.9634809634809635 and parameters: {'learning_rate': 0.011135886232851527, 'n_estimators': 164, 'colsample_bytree': 0.5792650635681234, 'max_depth': 15, 'num_leaves': 82, 'lambda_l1': 8.602415626774035e-05, 'lambda_l2': 9.874622667094659, 'min_split_gain': 0.5422967293893994, 'min_child_samples': 45, 'subsample': 3, 'subsample_freq': 20, 'feature_fraction': 0.9605016138416227, 'bagging_fraction': 0.520910977906326, 'bagging_freq': 6}. Best is trial 0 with value: 0.9634809634809635.\u001b[0m\n",
            "[LightGBM] [Warning] feature_fraction is set=0.7939301193099774, colsample_bytree=0.594552157623203 will be ignored. Current value: feature_fraction=0.7939301193099774\n",
            "[LightGBM] [Warning] lambda_l1 is set=0.007912004559146115, reg_alpha=0.0 will be ignored. Current value: lambda_l1=0.007912004559146115\n",
            "[LightGBM] [Warning] bagging_fraction is set=0.590775116938618, subsample=2 will be ignored. Current value: bagging_fraction=0.590775116938618\n",
            "[LightGBM] [Warning] lambda_l2 is set=0.01549148363633242, reg_lambda=0.0 will be ignored. Current value: lambda_l2=0.01549148363633242\n",
            "[LightGBM] [Warning] bagging_freq is set=5, subsample_freq=22 will be ignored. Current value: bagging_freq=5\n",
            "\u001b[32m[I 2021-11-29 02:42:31,206]\u001b[0m Trial 12 finished with value: 0.9634809634809635 and parameters: {'learning_rate': 0.8896744682239832, 'n_estimators': 65, 'colsample_bytree': 0.594552157623203, 'max_depth': 18, 'num_leaves': 136, 'lambda_l1': 0.007912004559146115, 'lambda_l2': 0.01549148363633242, 'min_split_gain': 0.6179458943581674, 'min_child_samples': 98, 'subsample': 2, 'subsample_freq': 22, 'feature_fraction': 0.7939301193099774, 'bagging_fraction': 0.590775116938618, 'bagging_freq': 5}. Best is trial 0 with value: 0.9634809634809635.\u001b[0m\n",
            "[LightGBM] [Warning] feature_fraction is set=0.9915670474635611, colsample_bytree=0.5073511682063684 will be ignored. Current value: feature_fraction=0.9915670474635611\n",
            "[LightGBM] [Warning] lambda_l1 is set=9.27704905122704e-06, reg_alpha=0.0 will be ignored. Current value: lambda_l1=9.27704905122704e-06\n",
            "[LightGBM] [Warning] bagging_fraction is set=0.42039937838851554, subsample=3 will be ignored. Current value: bagging_fraction=0.42039937838851554\n",
            "[LightGBM] [Warning] lambda_l2 is set=7.883990623393355e-07, reg_lambda=0.0 will be ignored. Current value: lambda_l2=7.883990623393355e-07\n",
            "[LightGBM] [Warning] bagging_freq is set=3, subsample_freq=30 will be ignored. Current value: bagging_freq=3\n",
            "\u001b[32m[I 2021-11-29 02:42:31,858]\u001b[0m Trial 13 finished with value: 0.9634809634809635 and parameters: {'learning_rate': 0.42447679236879604, 'n_estimators': 140, 'colsample_bytree': 0.5073511682063684, 'max_depth': 36, 'num_leaves': 83, 'lambda_l1': 9.27704905122704e-06, 'lambda_l2': 7.883990623393355e-07, 'min_split_gain': 0.8946696101239501, 'min_child_samples': 59, 'subsample': 3, 'subsample_freq': 30, 'feature_fraction': 0.9915670474635611, 'bagging_fraction': 0.42039937838851554, 'bagging_freq': 3}. Best is trial 0 with value: 0.9634809634809635.\u001b[0m\n",
            "[LightGBM] [Warning] feature_fraction is set=0.8504778599848895, colsample_bytree=0.6894214960413135 will be ignored. Current value: feature_fraction=0.8504778599848895\n",
            "[LightGBM] [Warning] lambda_l1 is set=0.01947646910658771, reg_alpha=0.0 will be ignored. Current value: lambda_l1=0.01947646910658771\n",
            "[LightGBM] [Warning] bagging_fraction is set=0.6027143778819627, subsample=2 will be ignored. Current value: bagging_fraction=0.6027143778819627\n",
            "[LightGBM] [Warning] lambda_l2 is set=0.007144063147666836, reg_lambda=0.0 will be ignored. Current value: lambda_l2=0.007144063147666836\n",
            "[LightGBM] [Warning] bagging_freq is set=7, subsample_freq=22 will be ignored. Current value: bagging_freq=7\n",
            "\u001b[32m[I 2021-11-29 02:42:32,425]\u001b[0m Trial 14 finished with value: 0.9634809634809635 and parameters: {'learning_rate': 0.4749495636233607, 'n_estimators': 95, 'colsample_bytree': 0.6894214960413135, 'max_depth': 18, 'num_leaves': 133, 'lambda_l1': 0.01947646910658771, 'lambda_l2': 0.007144063147666836, 'min_split_gain': 0.8509450081540982, 'min_child_samples': 39, 'subsample': 2, 'subsample_freq': 22, 'feature_fraction': 0.8504778599848895, 'bagging_fraction': 0.6027143778819627, 'bagging_freq': 7}. Best is trial 0 with value: 0.9634809634809635.\u001b[0m\n",
            "[LightGBM] [Warning] feature_fraction is set=0.6471391956911189, colsample_bytree=0.6105535476691134 will be ignored. Current value: feature_fraction=0.6471391956911189\n",
            "[LightGBM] [Warning] lambda_l1 is set=9.752442078574054, reg_alpha=0.0 will be ignored. Current value: lambda_l1=9.752442078574054\n",
            "[LightGBM] [Warning] bagging_fraction is set=0.6232882686014234, subsample=3 will be ignored. Current value: bagging_fraction=0.6232882686014234\n",
            "[LightGBM] [Warning] lambda_l2 is set=0.30360238366573716, reg_lambda=0.0 will be ignored. Current value: lambda_l2=0.30360238366573716\n",
            "[LightGBM] [Warning] bagging_freq is set=2, subsample_freq=20 will be ignored. Current value: bagging_freq=2\n",
            "\u001b[32m[I 2021-11-29 02:42:33,127]\u001b[0m Trial 15 finished with value: 0.9634809634809635 and parameters: {'learning_rate': 0.05323418203461186, 'n_estimators': 68, 'colsample_bytree': 0.6105535476691134, 'max_depth': 17, 'num_leaves': 91, 'lambda_l1': 9.752442078574054, 'lambda_l2': 0.30360238366573716, 'min_split_gain': 0.6155946172226008, 'min_child_samples': 67, 'subsample': 3, 'subsample_freq': 20, 'feature_fraction': 0.6471391956911189, 'bagging_fraction': 0.6232882686014234, 'bagging_freq': 2}. Best is trial 0 with value: 0.9634809634809635.\u001b[0m\n",
            "[LightGBM] [Warning] feature_fraction is set=0.7811983635934803, colsample_bytree=0.5593444601126606 will be ignored. Current value: feature_fraction=0.7811983635934803\n",
            "[LightGBM] [Warning] lambda_l1 is set=3.8797398331106755e-05, reg_alpha=0.0 will be ignored. Current value: lambda_l1=3.8797398331106755e-05\n",
            "[LightGBM] [Warning] bagging_fraction is set=0.7974577752225774, subsample=2 will be ignored. Current value: bagging_fraction=0.7974577752225774\n",
            "[LightGBM] [Warning] lambda_l2 is set=3.7388170476051705e-07, reg_lambda=0.0 will be ignored. Current value: lambda_l2=3.7388170476051705e-07\n",
            "[LightGBM] [Warning] bagging_freq is set=5, subsample_freq=23 will be ignored. Current value: bagging_freq=5\n",
            "\u001b[32m[I 2021-11-29 02:42:37,126]\u001b[0m Trial 16 finished with value: 0.9634809634809635 and parameters: {'learning_rate': 0.013214095171173031, 'n_estimators': 154, 'colsample_bytree': 0.5593444601126606, 'max_depth': 20, 'num_leaves': 51, 'lambda_l1': 3.8797398331106755e-05, 'lambda_l2': 3.7388170476051705e-07, 'min_split_gain': 0.8410187899587791, 'min_child_samples': 26, 'subsample': 2, 'subsample_freq': 23, 'feature_fraction': 0.7811983635934803, 'bagging_fraction': 0.7974577752225774, 'bagging_freq': 5}. Best is trial 0 with value: 0.9634809634809635.\u001b[0m\n",
            "[LightGBM] [Warning] feature_fraction is set=0.8606500691159038, colsample_bytree=0.6784402331829135 will be ignored. Current value: feature_fraction=0.8606500691159038\n",
            "[LightGBM] [Warning] lambda_l1 is set=0.0021529423991449564, reg_alpha=0.0 will be ignored. Current value: lambda_l1=0.0021529423991449564\n",
            "[LightGBM] [Warning] bagging_fraction is set=0.6652877578188239, subsample=2 will be ignored. Current value: bagging_fraction=0.6652877578188239\n",
            "[LightGBM] [Warning] lambda_l2 is set=0.01097116003625719, reg_lambda=0.0 will be ignored. Current value: lambda_l2=0.01097116003625719\n",
            "[LightGBM] [Warning] bagging_freq is set=7, subsample_freq=22 will be ignored. Current value: bagging_freq=7\n",
            "\u001b[32m[I 2021-11-29 02:42:37,780]\u001b[0m Trial 17 finished with value: 0.9634809634809635 and parameters: {'learning_rate': 0.5010740390693352, 'n_estimators': 90, 'colsample_bytree': 0.6784402331829135, 'max_depth': 15, 'num_leaves': 153, 'lambda_l1': 0.0021529423991449564, 'lambda_l2': 0.01097116003625719, 'min_split_gain': 0.9979733869117795, 'min_child_samples': 43, 'subsample': 2, 'subsample_freq': 22, 'feature_fraction': 0.8606500691159038, 'bagging_fraction': 0.6652877578188239, 'bagging_freq': 7}. Best is trial 0 with value: 0.9634809634809635.\u001b[0m\n",
            "[LightGBM] [Warning] feature_fraction is set=0.6515312681931036, colsample_bytree=0.6158328888863566 will be ignored. Current value: feature_fraction=0.6515312681931036\n",
            "[LightGBM] [Warning] lambda_l1 is set=9.763375576942988, reg_alpha=0.0 will be ignored. Current value: lambda_l1=9.763375576942988\n",
            "[LightGBM] [Warning] bagging_fraction is set=0.7886644428193368, subsample=1 will be ignored. Current value: bagging_fraction=0.7886644428193368\n",
            "[LightGBM] [Warning] lambda_l2 is set=4.328823482723149, reg_lambda=0.0 will be ignored. Current value: lambda_l2=4.328823482723149\n",
            "[LightGBM] [Warning] bagging_freq is set=2, subsample_freq=26 will be ignored. Current value: bagging_freq=2\n",
            "\u001b[32m[I 2021-11-29 02:42:38,496]\u001b[0m Trial 18 finished with value: 0.9634809634809635 and parameters: {'learning_rate': 0.055189348048618365, 'n_estimators': 65, 'colsample_bytree': 0.6158328888863566, 'max_depth': 34, 'num_leaves': 89, 'lambda_l1': 9.763375576942988, 'lambda_l2': 4.328823482723149, 'min_split_gain': 0.601573794885996, 'min_child_samples': 74, 'subsample': 1, 'subsample_freq': 26, 'feature_fraction': 0.6515312681931036, 'bagging_fraction': 0.7886644428193368, 'bagging_freq': 2}. Best is trial 0 with value: 0.9634809634809635.\u001b[0m\n",
            "[LightGBM] [Warning] feature_fraction is set=0.7918245311091496, colsample_bytree=0.5534528370082998 will be ignored. Current value: feature_fraction=0.7918245311091496\n",
            "[LightGBM] [Warning] lambda_l1 is set=2.2957226890399352e-05, reg_alpha=0.0 will be ignored. Current value: lambda_l1=2.2957226890399352e-05\n",
            "[LightGBM] [Warning] bagging_fraction is set=0.7933149484975448, subsample=2 will be ignored. Current value: bagging_fraction=0.7933149484975448\n",
            "[LightGBM] [Warning] lambda_l2 is set=2.2675837086036383e-07, reg_lambda=0.0 will be ignored. Current value: lambda_l2=2.2675837086036383e-07\n",
            "[LightGBM] [Warning] bagging_freq is set=5, subsample_freq=24 will be ignored. Current value: bagging_freq=5\n",
            "\u001b[32m[I 2021-11-29 02:42:43,204]\u001b[0m Trial 19 finished with value: 0.9634809634809635 and parameters: {'learning_rate': 0.010453519078386065, 'n_estimators': 200, 'colsample_bytree': 0.5534528370082998, 'max_depth': 24, 'num_leaves': 53, 'lambda_l1': 2.2957226890399352e-05, 'lambda_l2': 2.2675837086036383e-07, 'min_split_gain': 0.847436142614094, 'min_child_samples': 25, 'subsample': 2, 'subsample_freq': 24, 'feature_fraction': 0.7918245311091496, 'bagging_fraction': 0.7933149484975448, 'bagging_freq': 5}. Best is trial 0 with value: 0.9634809634809635.\u001b[0m\n",
            "[LightGBM] [Warning] feature_fraction is set=0.9207117660730294, colsample_bytree=0.7444255150485972 will be ignored. Current value: feature_fraction=0.9207117660730294\n",
            "[LightGBM] [Warning] lambda_l1 is set=0.0015397140761269725, reg_alpha=0.0 will be ignored. Current value: lambda_l1=0.0015397140761269725\n",
            "[LightGBM] [Warning] bagging_fraction is set=0.6573805875688367, subsample=1 will be ignored. Current value: bagging_fraction=0.6573805875688367\n",
            "[LightGBM] [Warning] lambda_l2 is set=0.0007252875042079478, reg_lambda=0.0 will be ignored. Current value: lambda_l2=0.0007252875042079478\n",
            "[LightGBM] [Warning] bagging_freq is set=6, subsample_freq=21 will be ignored. Current value: bagging_freq=6\n",
            "\u001b[32m[I 2021-11-29 02:42:43,920]\u001b[0m Trial 20 finished with value: 0.9634809634809635 and parameters: {'learning_rate': 0.5151491476198147, 'n_estimators': 92, 'colsample_bytree': 0.7444255150485972, 'max_depth': 15, 'num_leaves': 172, 'lambda_l1': 0.0015397140761269725, 'lambda_l2': 0.0007252875042079478, 'min_split_gain': 1.0216969548918295, 'min_child_samples': 48, 'subsample': 1, 'subsample_freq': 21, 'feature_fraction': 0.9207117660730294, 'bagging_fraction': 0.6573805875688367, 'bagging_freq': 6}. Best is trial 0 with value: 0.9634809634809635.\u001b[0m\n",
            "[LightGBM] [Warning] feature_fraction is set=0.652079816938021, colsample_bytree=0.6471276417136412 will be ignored. Current value: feature_fraction=0.652079816938021\n",
            "[LightGBM] [Warning] lambda_l1 is set=3.9684664103470543e-07, reg_alpha=0.0 will be ignored. Current value: lambda_l1=3.9684664103470543e-07\n",
            "[LightGBM] [Warning] bagging_fraction is set=0.7304829012226485, subsample=1 will be ignored. Current value: bagging_fraction=0.7304829012226485\n",
            "[LightGBM] [Warning] lambda_l2 is set=1.478611225564896, reg_lambda=0.0 will be ignored. Current value: lambda_l2=1.478611225564896\n",
            "[LightGBM] [Warning] bagging_freq is set=7, subsample_freq=26 will be ignored. Current value: bagging_freq=7\n",
            "\u001b[32m[I 2021-11-29 02:42:45,091]\u001b[0m Trial 21 finished with value: 0.9634809634809635 and parameters: {'learning_rate': 0.024124117080400874, 'n_estimators': 61, 'colsample_bytree': 0.6471276417136412, 'max_depth': 32, 'num_leaves': 158, 'lambda_l1': 3.9684664103470543e-07, 'lambda_l2': 1.478611225564896, 'min_split_gain': 0.5937759053696566, 'min_child_samples': 74, 'subsample': 1, 'subsample_freq': 26, 'feature_fraction': 0.652079816938021, 'bagging_fraction': 0.7304829012226485, 'bagging_freq': 7}. Best is trial 0 with value: 0.9634809634809635.\u001b[0m\n",
            "[LightGBM] [Warning] feature_fraction is set=0.6642010466970562, colsample_bytree=0.5521587450874054 will be ignored. Current value: feature_fraction=0.6642010466970562\n",
            "[LightGBM] [Warning] lambda_l1 is set=1.195528566586502e-05, reg_alpha=0.0 will be ignored. Current value: lambda_l1=1.195528566586502e-05\n",
            "[LightGBM] [Warning] bagging_fraction is set=0.8195943559630541, subsample=1 will be ignored. Current value: bagging_fraction=0.8195943559630541\n",
            "[LightGBM] [Warning] lambda_l2 is set=1.0481850873068463e-07, reg_lambda=0.0 will be ignored. Current value: lambda_l2=1.0481850873068463e-07\n",
            "[LightGBM] [Warning] bagging_freq is set=5, subsample_freq=29 will be ignored. Current value: bagging_freq=5\n",
            "\u001b[32m[I 2021-11-29 02:42:47,025]\u001b[0m Trial 22 finished with value: 0.9634809634809635 and parameters: {'learning_rate': 0.020443151773097516, 'n_estimators': 50, 'colsample_bytree': 0.5521587450874054, 'max_depth': 40, 'num_leaves': 70, 'lambda_l1': 1.195528566586502e-05, 'lambda_l2': 1.0481850873068463e-07, 'min_split_gain': 0.558732567197502, 'min_child_samples': 20, 'subsample': 1, 'subsample_freq': 29, 'feature_fraction': 0.6642010466970562, 'bagging_fraction': 0.8195943559630541, 'bagging_freq': 5}. Best is trial 0 with value: 0.9634809634809635.\u001b[0m\n",
            "[LightGBM] [Warning] feature_fraction is set=0.9396835179820925, colsample_bytree=0.7708513212532558 will be ignored. Current value: feature_fraction=0.9396835179820925\n",
            "[LightGBM] [Warning] lambda_l1 is set=0.001069552593629051, reg_alpha=0.0 will be ignored. Current value: lambda_l1=0.001069552593629051\n",
            "[LightGBM] [Warning] bagging_fraction is set=0.6508198335054947, subsample=1 will be ignored. Current value: bagging_fraction=0.6508198335054947\n",
            "[LightGBM] [Warning] lambda_l2 is set=6.047539337745815e-06, reg_lambda=0.0 will be ignored. Current value: lambda_l2=6.047539337745815e-06\n",
            "[LightGBM] [Warning] bagging_freq is set=6, subsample_freq=21 will be ignored. Current value: bagging_freq=6\n",
            "\u001b[32m[I 2021-11-29 02:42:47,624]\u001b[0m Trial 23 finished with value: 0.9634809634809635 and parameters: {'learning_rate': 0.6033495042336227, 'n_estimators': 118, 'colsample_bytree': 0.7708513212532558, 'max_depth': 25, 'num_leaves': 61, 'lambda_l1': 0.001069552593629051, 'lambda_l2': 6.047539337745815e-06, 'min_split_gain': 1.0811763402827133, 'min_child_samples': 32, 'subsample': 1, 'subsample_freq': 21, 'feature_fraction': 0.9396835179820925, 'bagging_fraction': 0.6508198335054947, 'bagging_freq': 6}. Best is trial 0 with value: 0.9634809634809635.\u001b[0m\n",
            "[LightGBM] [Warning] feature_fraction is set=0.6107026749127933, colsample_bytree=0.7398686466146188 will be ignored. Current value: feature_fraction=0.6107026749127933\n",
            "[LightGBM] [Warning] lambda_l1 is set=5.751511059998107e-07, reg_alpha=0.0 will be ignored. Current value: lambda_l1=5.751511059998107e-07\n",
            "[LightGBM] [Warning] bagging_fraction is set=0.7279493365864843, subsample=1 will be ignored. Current value: bagging_fraction=0.7279493365864843\n",
            "[LightGBM] [Warning] lambda_l2 is set=0.000689596036140615, reg_lambda=0.0 will be ignored. Current value: lambda_l2=0.000689596036140615\n",
            "[LightGBM] [Warning] bagging_freq is set=7, subsample_freq=26 will be ignored. Current value: bagging_freq=7\n",
            "\u001b[32m[I 2021-11-29 02:42:48,046]\u001b[0m Trial 24 finished with value: 0.9634809634809635 and parameters: {'learning_rate': 0.7434694071346312, 'n_estimators': 60, 'colsample_bytree': 0.7398686466146188, 'max_depth': 30, 'num_leaves': 165, 'lambda_l1': 5.751511059998107e-07, 'lambda_l2': 0.000689596036140615, 'min_split_gain': 1.1314586430103133, 'min_child_samples': 86, 'subsample': 1, 'subsample_freq': 26, 'feature_fraction': 0.6107026749127933, 'bagging_fraction': 0.7279493365864843, 'bagging_freq': 7}. Best is trial 0 with value: 0.9634809634809635.\u001b[0m\n",
            "[LightGBM] [Warning] feature_fraction is set=0.699787026375059, colsample_bytree=0.6520144682676214 will be ignored. Current value: feature_fraction=0.699787026375059\n",
            "[LightGBM] [Warning] lambda_l1 is set=1.8734364900711075e-07, reg_alpha=0.0 will be ignored. Current value: lambda_l1=1.8734364900711075e-07\n",
            "[LightGBM] [Warning] bagging_fraction is set=0.8635568876127695, subsample=1 will be ignored. Current value: bagging_fraction=0.8635568876127695\n",
            "[LightGBM] [Warning] lambda_l2 is set=8.704080152884174e-08, reg_lambda=0.0 will be ignored. Current value: lambda_l2=8.704080152884174e-08\n",
            "[LightGBM] [Warning] bagging_freq is set=6, subsample_freq=30 will be ignored. Current value: bagging_freq=6\n",
            "\u001b[32m[I 2021-11-29 02:42:50,241]\u001b[0m Trial 25 finished with value: 0.9634809634809635 and parameters: {'learning_rate': 0.019452538819536576, 'n_estimators': 52, 'colsample_bytree': 0.6520144682676214, 'max_depth': 44, 'num_leaves': 72, 'lambda_l1': 1.8734364900711075e-07, 'lambda_l2': 8.704080152884174e-08, 'min_split_gain': 0.5709290696488936, 'min_child_samples': 16, 'subsample': 1, 'subsample_freq': 30, 'feature_fraction': 0.699787026375059, 'bagging_fraction': 0.8635568876127695, 'bagging_freq': 6}. Best is trial 0 with value: 0.9634809634809635.\u001b[0m\n",
            "[LightGBM] [Warning] feature_fraction is set=0.9402503498504983, colsample_bytree=0.8294630548087357 will be ignored. Current value: feature_fraction=0.9402503498504983\n",
            "[LightGBM] [Warning] lambda_l1 is set=5.873894037123372e-06, reg_alpha=0.0 will be ignored. Current value: lambda_l1=5.873894037123372e-06\n",
            "[LightGBM] [Warning] bagging_fraction is set=0.5219742235701563, subsample=1 will be ignored. Current value: bagging_fraction=0.5219742235701563\n",
            "[LightGBM] [Warning] lambda_l2 is set=8.977777756600763e-06, reg_lambda=0.0 will be ignored. Current value: lambda_l2=8.977777756600763e-06\n",
            "[LightGBM] [Warning] bagging_freq is set=5, subsample_freq=28 will be ignored. Current value: bagging_freq=5\n",
            "\u001b[32m[I 2021-11-29 02:42:51,074]\u001b[0m Trial 26 finished with value: 0.9634809634809635 and parameters: {'learning_rate': 0.31017969490543734, 'n_estimators': 110, 'colsample_bytree': 0.8294630548087357, 'max_depth': 39, 'num_leaves': 62, 'lambda_l1': 5.873894037123372e-06, 'lambda_l2': 8.977777756600763e-06, 'min_split_gain': 0.6518543868029588, 'min_child_samples': 32, 'subsample': 1, 'subsample_freq': 28, 'feature_fraction': 0.9402503498504983, 'bagging_fraction': 0.5219742235701563, 'bagging_freq': 5}. Best is trial 0 with value: 0.9634809634809635.\u001b[0m\n",
            "[LightGBM] [Warning] feature_fraction is set=0.6062348364701518, colsample_bytree=0.790887651034667 will be ignored. Current value: feature_fraction=0.6062348364701518\n",
            "[LightGBM] [Warning] lambda_l1 is set=0.0003189585766792648, reg_alpha=0.0 will be ignored. Current value: lambda_l1=0.0003189585766792648\n",
            "[LightGBM] [Warning] bagging_fraction is set=0.7391513700249297, subsample=1 will be ignored. Current value: bagging_fraction=0.7391513700249297\n",
            "[LightGBM] [Warning] lambda_l2 is set=4.501363123451402e-06, reg_lambda=0.0 will be ignored. Current value: lambda_l2=4.501363123451402e-06\n",
            "[LightGBM] [Warning] bagging_freq is set=7, subsample_freq=23 will be ignored. Current value: bagging_freq=7\n",
            "\u001b[32m[I 2021-11-29 02:42:51,567]\u001b[0m Trial 27 finished with value: 0.9634809634809635 and parameters: {'learning_rate': 0.7048919013054361, 'n_estimators': 72, 'colsample_bytree': 0.790887651034667, 'max_depth': 31, 'num_leaves': 126, 'lambda_l1': 0.0003189585766792648, 'lambda_l2': 4.501363123451402e-06, 'min_split_gain': 1.148348006227935, 'min_child_samples': 92, 'subsample': 1, 'subsample_freq': 23, 'feature_fraction': 0.6062348364701518, 'bagging_fraction': 0.7391513700249297, 'bagging_freq': 7}. Best is trial 0 with value: 0.9634809634809635.\u001b[0m\n",
            "[LightGBM] [Warning] feature_fraction is set=0.7147377036819444, colsample_bytree=0.7262239142872262 will be ignored. Current value: feature_fraction=0.7147377036819444\n",
            "[LightGBM] [Warning] lambda_l1 is set=1.487264379082456e-07, reg_alpha=0.0 will be ignored. Current value: lambda_l1=1.487264379082456e-07\n",
            "[LightGBM] [Warning] bagging_fraction is set=0.8453349621640416, subsample=1 will be ignored. Current value: bagging_fraction=0.8453349621640416\n",
            "[LightGBM] [Warning] lambda_l2 is set=7.979662031459493e-08, reg_lambda=0.0 will be ignored. Current value: lambda_l2=7.979662031459493e-08\n",
            "[LightGBM] [Warning] bagging_freq is set=6, subsample_freq=25 will be ignored. Current value: bagging_freq=6\n",
            "\u001b[32m[I 2021-11-29 02:42:52,262]\u001b[0m Trial 28 finished with value: 0.9634809634809635 and parameters: {'learning_rate': 0.3396794760608403, 'n_estimators': 56, 'colsample_bytree': 0.7262239142872262, 'max_depth': 50, 'num_leaves': 75, 'lambda_l1': 1.487264379082456e-07, 'lambda_l2': 7.979662031459493e-08, 'min_split_gain': 0.517802117893288, 'min_child_samples': 17, 'subsample': 1, 'subsample_freq': 25, 'feature_fraction': 0.7147377036819444, 'bagging_fraction': 0.8453349621640416, 'bagging_freq': 6}. Best is trial 0 with value: 0.9634809634809635.\u001b[0m\n",
            "[LightGBM] [Warning] feature_fraction is set=0.7473304732385473, colsample_bytree=0.8499546018461128 will be ignored. Current value: feature_fraction=0.7473304732385473\n",
            "[LightGBM] [Warning] lambda_l1 is set=4.295227953717001e-06, reg_alpha=0.0 will be ignored. Current value: lambda_l1=4.295227953717001e-06\n",
            "[LightGBM] [Warning] bagging_fraction is set=0.5360493726529945, subsample=1 will be ignored. Current value: bagging_fraction=0.5360493726529945\n",
            "[LightGBM] [Warning] lambda_l2 is set=2.3867479251753744e-05, reg_lambda=0.0 will be ignored. Current value: lambda_l2=2.3867479251753744e-05\n",
            "[LightGBM] [Warning] bagging_freq is set=5, subsample_freq=30 will be ignored. Current value: bagging_freq=5\n",
            "\u001b[32m[I 2021-11-29 02:42:53,213]\u001b[0m Trial 29 finished with value: 0.9634809634809635 and parameters: {'learning_rate': 0.18022917270502706, 'n_estimators': 110, 'colsample_bytree': 0.8499546018461128, 'max_depth': 43, 'num_leaves': 60, 'lambda_l1': 4.295227953717001e-06, 'lambda_l2': 2.3867479251753744e-05, 'min_split_gain': 0.6695458314706138, 'min_child_samples': 32, 'subsample': 1, 'subsample_freq': 30, 'feature_fraction': 0.7473304732385473, 'bagging_fraction': 0.5360493726529945, 'bagging_freq': 5}. Best is trial 0 with value: 0.9634809634809635.\u001b[0m\n",
            "[LightGBM] [Warning] feature_fraction is set=0.9649746477030375, colsample_bytree=0.8120156250697125 will be ignored. Current value: feature_fraction=0.9649746477030375\n",
            "[LightGBM] [Warning] lambda_l1 is set=8.958421803656832e-05, reg_alpha=0.0 will be ignored. Current value: lambda_l1=8.958421803656832e-05\n",
            "[LightGBM] [Warning] bagging_fraction is set=0.4176551381717053, subsample=1 will be ignored. Current value: bagging_fraction=0.4176551381717053\n",
            "[LightGBM] [Warning] lambda_l2 is set=3.823509542965185e-06, reg_lambda=0.0 will be ignored. Current value: lambda_l2=3.823509542965185e-06\n",
            "[LightGBM] [Warning] bagging_freq is set=7, subsample_freq=23 will be ignored. Current value: bagging_freq=7\n",
            "\u001b[32m[I 2021-11-29 02:42:53,790]\u001b[0m Trial 30 finished with value: 0.9634809634809635 and parameters: {'learning_rate': 0.36810704703748554, 'n_estimators': 77, 'colsample_bytree': 0.8120156250697125, 'max_depth': 36, 'num_leaves': 119, 'lambda_l1': 8.958421803656832e-05, 'lambda_l2': 3.823509542965185e-06, 'min_split_gain': 0.7958937793831683, 'min_child_samples': 54, 'subsample': 1, 'subsample_freq': 23, 'feature_fraction': 0.9649746477030375, 'bagging_fraction': 0.4176551381717053, 'bagging_freq': 7}. Best is trial 0 with value: 0.9634809634809635.\u001b[0m\n",
            "[LightGBM] [Warning] feature_fraction is set=0.9956475560979465, colsample_bytree=0.791912750990296 will be ignored. Current value: feature_fraction=0.9956475560979465\n",
            "[LightGBM] [Warning] lambda_l1 is set=9.433264848687329e-08, reg_alpha=0.0 will be ignored. Current value: lambda_l1=9.433264848687329e-08\n",
            "[LightGBM] [Warning] bagging_fraction is set=0.4617784011731565, subsample=1 will be ignored. Current value: bagging_fraction=0.4617784011731565\n",
            "[LightGBM] [Warning] lambda_l2 is set=1.6384203276769746e-06, reg_lambda=0.0 will be ignored. Current value: lambda_l2=1.6384203276769746e-06\n",
            "[LightGBM] [Warning] bagging_freq is set=6, subsample_freq=25 will be ignored. Current value: bagging_freq=6\n",
            "\u001b[32m[I 2021-11-29 02:42:54,431]\u001b[0m Trial 31 finished with value: 0.9634809634809635 and parameters: {'learning_rate': 0.2929587666442931, 'n_estimators': 72, 'colsample_bytree': 0.791912750990296, 'max_depth': 49, 'num_leaves': 95, 'lambda_l1': 9.433264848687329e-08, 'lambda_l2': 1.6384203276769746e-06, 'min_split_gain': 0.6544484592123406, 'min_child_samples': 15, 'subsample': 1, 'subsample_freq': 25, 'feature_fraction': 0.9956475560979465, 'bagging_fraction': 0.4617784011731565, 'bagging_freq': 6}. Best is trial 0 with value: 0.9634809634809635.\u001b[0m\n",
            "[LightGBM] [Warning] feature_fraction is set=0.7413058653390711, colsample_bytree=0.7219236933581348 will be ignored. Current value: feature_fraction=0.7413058653390711\n",
            "[LightGBM] [Warning] lambda_l1 is set=2.2553737750593007e-06, reg_alpha=0.0 will be ignored. Current value: lambda_l1=2.2553737750593007e-06\n",
            "[LightGBM] [Warning] bagging_fraction is set=0.7533732022169041, subsample=1 will be ignored. Current value: bagging_fraction=0.7533732022169041\n",
            "[LightGBM] [Warning] lambda_l2 is set=4.837292937853362e-08, reg_lambda=0.0 will be ignored. Current value: lambda_l2=4.837292937853362e-08\n",
            "[LightGBM] [Warning] bagging_freq is set=6, subsample_freq=23 will be ignored. Current value: bagging_freq=6\n",
            "\u001b[32m[I 2021-11-29 02:42:55,381]\u001b[0m Trial 32 finished with value: 0.9634809634809635 and parameters: {'learning_rate': 0.1376763255155243, 'n_estimators': 57, 'colsample_bytree': 0.7219236933581348, 'max_depth': 44, 'num_leaves': 121, 'lambda_l1': 2.2553737750593007e-06, 'lambda_l2': 4.837292937853362e-08, 'min_split_gain': 0.5021621593861668, 'min_child_samples': 20, 'subsample': 1, 'subsample_freq': 23, 'feature_fraction': 0.7413058653390711, 'bagging_fraction': 0.7533732022169041, 'bagging_freq': 6}. Best is trial 0 with value: 0.9634809634809635.\u001b[0m\n",
            "[LightGBM] [Warning] feature_fraction is set=0.8301724997063709, colsample_bytree=0.8494724347296573 will be ignored. Current value: feature_fraction=0.8301724997063709\n",
            "[LightGBM] [Warning] lambda_l1 is set=2.218899701751747e-06, reg_alpha=0.0 will be ignored. Current value: lambda_l1=2.218899701751747e-06\n",
            "[LightGBM] [Warning] bagging_fraction is set=0.4026367971237205, subsample=1 will be ignored. Current value: bagging_fraction=0.4026367971237205\n",
            "[LightGBM] [Warning] lambda_l2 is set=2.9729322694533505e-05, reg_lambda=0.0 will be ignored. Current value: lambda_l2=2.9729322694533505e-05\n",
            "[LightGBM] [Warning] bagging_freq is set=6, subsample_freq=27 will be ignored. Current value: bagging_freq=6\n",
            "\u001b[32m[I 2021-11-29 02:42:56,084]\u001b[0m Trial 33 finished with value: 0.9634809634809635 and parameters: {'learning_rate': 0.15721699002382947, 'n_estimators': 79, 'colsample_bytree': 0.8494724347296573, 'max_depth': 40, 'num_leaves': 77, 'lambda_l1': 2.218899701751747e-06, 'lambda_l2': 2.9729322694533505e-05, 'min_split_gain': 0.7861771693624712, 'min_child_samples': 52, 'subsample': 1, 'subsample_freq': 27, 'feature_fraction': 0.8301724997063709, 'bagging_fraction': 0.4026367971237205, 'bagging_freq': 6}. Best is trial 0 with value: 0.9634809634809635.\u001b[0m\n",
            "[LightGBM] [Warning] feature_fraction is set=0.9962226092349554, colsample_bytree=0.8108940007890445 will be ignored. Current value: feature_fraction=0.9962226092349554\n",
            "[LightGBM] [Warning] lambda_l1 is set=5.919612097300157e-05, reg_alpha=0.0 will be ignored. Current value: lambda_l1=5.919612097300157e-05\n",
            "[LightGBM] [Warning] bagging_fraction is set=0.4510636039453016, subsample=1 will be ignored. Current value: bagging_fraction=0.4510636039453016\n",
            "[LightGBM] [Warning] lambda_l2 is set=1.6933449053217771e-06, reg_lambda=0.0 will be ignored. Current value: lambda_l2=1.6933449053217771e-06\n",
            "[LightGBM] [Warning] bagging_freq is set=7, subsample_freq=25 will be ignored. Current value: bagging_freq=7\n",
            "\u001b[32m[I 2021-11-29 02:42:56,949]\u001b[0m Trial 34 finished with value: 0.9634809634809635 and parameters: {'learning_rate': 0.20358728731582762, 'n_estimators': 83, 'colsample_bytree': 0.8108940007890445, 'max_depth': 44, 'num_leaves': 111, 'lambda_l1': 5.919612097300157e-05, 'lambda_l2': 1.6933449053217771e-06, 'min_split_gain': 0.6637441048234239, 'min_child_samples': 10, 'subsample': 1, 'subsample_freq': 25, 'feature_fraction': 0.9962226092349554, 'bagging_fraction': 0.4510636039453016, 'bagging_freq': 7}. Best is trial 0 with value: 0.9634809634809635.\u001b[0m\n",
            "[LightGBM] [Warning] feature_fraction is set=0.8939744659297126, colsample_bytree=0.6574161452040963 will be ignored. Current value: feature_fraction=0.8939744659297126\n",
            "[LightGBM] [Warning] lambda_l1 is set=0.0006815826817784778, reg_alpha=0.0 will be ignored. Current value: lambda_l1=0.0006815826817784778\n",
            "[LightGBM] [Warning] bagging_fraction is set=0.661923915626101, subsample=2 will be ignored. Current value: bagging_fraction=0.661923915626101\n",
            "[LightGBM] [Warning] lambda_l2 is set=0.08245842945293663, reg_lambda=0.0 will be ignored. Current value: lambda_l2=0.08245842945293663\n",
            "[LightGBM] [Warning] bagging_freq is set=6, subsample_freq=21 will be ignored. Current value: bagging_freq=6\n",
            "\u001b[32m[I 2021-11-29 02:42:59,784]\u001b[0m Trial 35 finished with value: 0.9634809634809635 and parameters: {'learning_rate': 0.017795791155131836, 'n_estimators': 132, 'colsample_bytree': 0.6574161452040963, 'max_depth': 24, 'num_leaves': 159, 'lambda_l1': 0.0006815826817784778, 'lambda_l2': 0.08245842945293663, 'min_split_gain': 0.9620677409348283, 'min_child_samples': 48, 'subsample': 2, 'subsample_freq': 21, 'feature_fraction': 0.8939744659297126, 'bagging_fraction': 0.661923915626101, 'bagging_freq': 6}. Best is trial 0 with value: 0.9634809634809635.\u001b[0m\n",
            "[LightGBM] [Warning] feature_fraction is set=0.6756328616835663, colsample_bytree=0.5268715626781217 will be ignored. Current value: feature_fraction=0.6756328616835663\n",
            "[LightGBM] [Warning] lambda_l1 is set=6.406068645940703e-07, reg_alpha=0.0 will be ignored. Current value: lambda_l1=6.406068645940703e-07\n",
            "[LightGBM] [Warning] bagging_fraction is set=0.6898161378442639, subsample=1 will be ignored. Current value: bagging_fraction=0.6898161378442639\n",
            "[LightGBM] [Warning] lambda_l2 is set=0.0023932610479315227, reg_lambda=0.0 will be ignored. Current value: lambda_l2=0.0023932610479315227\n",
            "[LightGBM] [Warning] bagging_freq is set=5, subsample_freq=29 will be ignored. Current value: bagging_freq=5\n",
            "\u001b[32m[I 2021-11-29 02:43:01,130]\u001b[0m Trial 36 finished with value: 0.9634809634809635 and parameters: {'learning_rate': 0.026511804943183462, 'n_estimators': 60, 'colsample_bytree': 0.5268715626781217, 'max_depth': 33, 'num_leaves': 175, 'lambda_l1': 6.406068645940703e-07, 'lambda_l2': 0.0023932610479315227, 'min_split_gain': 0.539288625605315, 'min_child_samples': 72, 'subsample': 1, 'subsample_freq': 29, 'feature_fraction': 0.6756328616835663, 'bagging_fraction': 0.6898161378442639, 'bagging_freq': 5}. Best is trial 0 with value: 0.9634809634809635.\u001b[0m\n",
            "[LightGBM] [Warning] feature_fraction is set=0.6257908048156274, colsample_bytree=0.6360691547025679 will be ignored. Current value: feature_fraction=0.6257908048156274\n",
            "[LightGBM] [Warning] lambda_l1 is set=2.431899315431415e-08, reg_alpha=0.0 will be ignored. Current value: lambda_l1=2.431899315431415e-08\n",
            "[LightGBM] [Warning] bagging_fraction is set=0.9954944649411112, subsample=1 will be ignored. Current value: bagging_fraction=0.9954944649411112\n",
            "[LightGBM] [Warning] lambda_l2 is set=0.00011855969304535005, reg_lambda=0.0 will be ignored. Current value: lambda_l2=0.00011855969304535005\n",
            "[LightGBM] [Warning] bagging_freq is set=4, subsample_freq=26 will be ignored. Current value: bagging_freq=4\n",
            "\u001b[32m[I 2021-11-29 02:43:02,352]\u001b[0m Trial 37 finished with value: 0.9634809634809635 and parameters: {'learning_rate': 0.08340265132479555, 'n_estimators': 50, 'colsample_bytree': 0.6360691547025679, 'max_depth': 16, 'num_leaves': 198, 'lambda_l1': 2.431899315431415e-08, 'lambda_l2': 0.00011855969304535005, 'min_split_gain': 0.5786294127086629, 'min_child_samples': 62, 'subsample': 1, 'subsample_freq': 26, 'feature_fraction': 0.6257908048156274, 'bagging_fraction': 0.9954944649411112, 'bagging_freq': 4}. Best is trial 0 with value: 0.9634809634809635.\u001b[0m\n",
            "[LightGBM] [Warning] feature_fraction is set=0.5677055807618001, colsample_bytree=0.6690694491800477 will be ignored. Current value: feature_fraction=0.5677055807618001\n",
            "[LightGBM] [Warning] lambda_l1 is set=0.00022594838500491633, reg_alpha=0.0 will be ignored. Current value: lambda_l1=0.00022594838500491633\n",
            "[LightGBM] [Warning] bagging_fraction is set=0.8292025652173655, subsample=1 will be ignored. Current value: bagging_fraction=0.8292025652173655\n",
            "[LightGBM] [Warning] lambda_l2 is set=4.200741240045662e-07, reg_lambda=0.0 will be ignored. Current value: lambda_l2=4.200741240045662e-07\n",
            "[LightGBM] [Warning] bagging_freq is set=7, subsample_freq=29 will be ignored. Current value: bagging_freq=7\n",
            "\u001b[32m[I 2021-11-29 02:43:05,187]\u001b[0m Trial 38 finished with value: 0.9634809634809635 and parameters: {'learning_rate': 0.026064509372339235, 'n_estimators': 119, 'colsample_bytree': 0.6690694491800477, 'max_depth': 27, 'num_leaves': 61, 'lambda_l1': 0.00022594838500491633, 'lambda_l2': 4.200741240045662e-07, 'min_split_gain': 0.7121956132239848, 'min_child_samples': 29, 'subsample': 1, 'subsample_freq': 29, 'feature_fraction': 0.5677055807618001, 'bagging_fraction': 0.8292025652173655, 'bagging_freq': 7}. Best is trial 0 with value: 0.9634809634809635.\u001b[0m\n",
            "[LightGBM] [Warning] feature_fraction is set=0.5130592110962439, colsample_bytree=0.7670295720263983 will be ignored. Current value: feature_fraction=0.5130592110962439\n",
            "[LightGBM] [Warning] lambda_l1 is set=1.6020075057768912e-05, reg_alpha=0.0 will be ignored. Current value: lambda_l1=1.6020075057768912e-05\n",
            "[LightGBM] [Warning] bagging_fraction is set=0.6314043260016977, subsample=1 will be ignored. Current value: bagging_fraction=0.6314043260016977\n",
            "[LightGBM] [Warning] lambda_l2 is set=1.3905580552536166e-07, reg_lambda=0.0 will be ignored. Current value: lambda_l2=1.3905580552536166e-07\n",
            "[LightGBM] [Warning] bagging_freq is set=7, subsample_freq=27 will be ignored. Current value: bagging_freq=7\n",
            "\u001b[32m[I 2021-11-29 02:43:06,658]\u001b[0m Trial 39 finished with value: 0.9634809634809635 and parameters: {'learning_rate': 0.05188038546330461, 'n_estimators': 61, 'colsample_bytree': 0.7670295720263983, 'max_depth': 25, 'num_leaves': 65, 'lambda_l1': 1.6020075057768912e-05, 'lambda_l2': 1.3905580552536166e-07, 'min_split_gain': 1.1641582671803723, 'min_child_samples': 5, 'subsample': 1, 'subsample_freq': 27, 'feature_fraction': 0.5130592110962439, 'bagging_fraction': 0.6314043260016977, 'bagging_freq': 7}. Best is trial 0 with value: 0.9634809634809635.\u001b[0m\n",
            "[LightGBM] [Warning] feature_fraction is set=0.6081691539015273, colsample_bytree=0.7075714656231997 will be ignored. Current value: feature_fraction=0.6081691539015273\n",
            "[LightGBM] [Warning] lambda_l1 is set=0.030600205863420243, reg_alpha=0.0 will be ignored. Current value: lambda_l1=0.030600205863420243\n",
            "[LightGBM] [Warning] bagging_fraction is set=0.7021707261292588, subsample=1 will be ignored. Current value: bagging_fraction=0.7021707261292588\n",
            "[LightGBM] [Warning] lambda_l2 is set=2.6882483342386947e-08, reg_lambda=0.0 will be ignored. Current value: lambda_l2=2.6882483342386947e-08\n",
            "[LightGBM] [Warning] bagging_freq is set=4, subsample_freq=28 will be ignored. Current value: bagging_freq=4\n",
            "\u001b[32m[I 2021-11-29 02:43:07,108]\u001b[0m Trial 40 finished with value: 0.9634809634809635 and parameters: {'learning_rate': 0.624185569595151, 'n_estimators': 55, 'colsample_bytree': 0.7075714656231997, 'max_depth': 30, 'num_leaves': 57, 'lambda_l1': 0.030600205863420243, 'lambda_l2': 2.6882483342386947e-08, 'min_split_gain': 1.0949665662214998, 'min_child_samples': 83, 'subsample': 1, 'subsample_freq': 28, 'feature_fraction': 0.6081691539015273, 'bagging_fraction': 0.7021707261292588, 'bagging_freq': 4}. Best is trial 0 with value: 0.9634809634809635.\u001b[0m\n",
            "[LightGBM] [Warning] feature_fraction is set=0.6918730871024454, colsample_bytree=0.7533720876239054 will be ignored. Current value: feature_fraction=0.6918730871024454\n",
            "[LightGBM] [Warning] lambda_l1 is set=2.3539548013284025e-07, reg_alpha=0.0 will be ignored. Current value: lambda_l1=2.3539548013284025e-07\n",
            "[LightGBM] [Warning] bagging_fraction is set=0.8339865251504566, subsample=1 will be ignored. Current value: bagging_fraction=0.8339865251504566\n",
            "[LightGBM] [Warning] lambda_l2 is set=7.333402505460366e-08, reg_lambda=0.0 will be ignored. Current value: lambda_l2=7.333402505460366e-08\n",
            "[LightGBM] [Warning] bagging_freq is set=6, subsample_freq=30 will be ignored. Current value: bagging_freq=6\n",
            "\u001b[32m[I 2021-11-29 02:43:07,958]\u001b[0m Trial 41 finished with value: 0.9634809634809635 and parameters: {'learning_rate': 0.745678451901044, 'n_estimators': 50, 'colsample_bytree': 0.7533720876239054, 'max_depth': 22, 'num_leaves': 69, 'lambda_l1': 2.3539548013284025e-07, 'lambda_l2': 7.333402505460366e-08, 'min_split_gain': 1.3978848073676167, 'min_child_samples': 20, 'subsample': 1, 'subsample_freq': 30, 'feature_fraction': 0.6918730871024454, 'bagging_fraction': 0.8339865251504566, 'bagging_freq': 6}. Best is trial 0 with value: 0.9634809634809635.\u001b[0m\n",
            "[LightGBM] [Warning] feature_fraction is set=0.9362827304852888, colsample_bytree=0.7814606151112207 will be ignored. Current value: feature_fraction=0.9362827304852888\n",
            "[LightGBM] [Warning] lambda_l1 is set=1.3413797876546453e-06, reg_alpha=0.0 will be ignored. Current value: lambda_l1=1.3413797876546453e-06\n",
            "[LightGBM] [Warning] bagging_fraction is set=0.5516953279428216, subsample=1 will be ignored. Current value: bagging_fraction=0.5516953279428216\n",
            "[LightGBM] [Warning] lambda_l2 is set=1.0809825804613733e-05, reg_lambda=0.0 will be ignored. Current value: lambda_l2=1.0809825804613733e-05\n",
            "[LightGBM] [Warning] bagging_freq is set=6, subsample_freq=28 will be ignored. Current value: bagging_freq=6\n",
            "\u001b[32m[I 2021-11-29 02:43:08,680]\u001b[0m Trial 42 finished with value: 0.9634809634809635 and parameters: {'learning_rate': 0.6010376967878185, 'n_estimators': 111, 'colsample_bytree': 0.7814606151112207, 'max_depth': 41, 'num_leaves': 63, 'lambda_l1': 1.3413797876546453e-06, 'lambda_l2': 1.0809825804613733e-05, 'min_split_gain': 1.2282126603949797, 'min_child_samples': 39, 'subsample': 1, 'subsample_freq': 28, 'feature_fraction': 0.9362827304852888, 'bagging_fraction': 0.5516953279428216, 'bagging_freq': 6}. Best is trial 0 with value: 0.9634809634809635.\u001b[0m\n",
            "[LightGBM] [Warning] feature_fraction is set=0.9489938498516223, colsample_bytree=0.7310673100674896 will be ignored. Current value: feature_fraction=0.9489938498516223\n",
            "[LightGBM] [Warning] lambda_l1 is set=7.633803299213135e-08, reg_alpha=0.0 will be ignored. Current value: lambda_l1=7.633803299213135e-08\n",
            "[LightGBM] [Warning] bagging_fraction is set=0.94095320253681, subsample=1 will be ignored. Current value: bagging_fraction=0.94095320253681\n",
            "[LightGBM] [Warning] lambda_l2 is set=6.841008580648471e-06, reg_lambda=0.0 will be ignored. Current value: lambda_l2=6.841008580648471e-06\n",
            "[LightGBM] [Warning] bagging_freq is set=6, subsample_freq=20 will be ignored. Current value: bagging_freq=6\n",
            "\u001b[32m[I 2021-11-29 02:43:09,985]\u001b[0m Trial 43 finished with value: 0.9634809634809635 and parameters: {'learning_rate': 0.9985985568818497, 'n_estimators': 102, 'colsample_bytree': 0.7310673100674896, 'max_depth': 20, 'num_leaves': 58, 'lambda_l1': 7.633803299213135e-08, 'lambda_l2': 6.841008580648471e-06, 'min_split_gain': 0.9269369638960955, 'min_child_samples': 11, 'subsample': 1, 'subsample_freq': 20, 'feature_fraction': 0.9489938498516223, 'bagging_fraction': 0.94095320253681, 'bagging_freq': 6}. Best is trial 0 with value: 0.9634809634809635.\u001b[0m\n",
            "[LightGBM] [Warning] feature_fraction is set=0.607402369003962, colsample_bytree=0.8074840740284474 will be ignored. Current value: feature_fraction=0.607402369003962\n",
            "[LightGBM] [Warning] lambda_l1 is set=4.4685128280093225e-06, reg_alpha=0.0 will be ignored. Current value: lambda_l1=4.4685128280093225e-06\n",
            "[LightGBM] [Warning] bagging_fraction is set=0.7463435110299583, subsample=1 will be ignored. Current value: bagging_fraction=0.7463435110299583\n",
            "[LightGBM] [Warning] lambda_l2 is set=5.2350758280293386e-05, reg_lambda=0.0 will be ignored. Current value: lambda_l2=5.2350758280293386e-05\n",
            "[LightGBM] [Warning] bagging_freq is set=7, subsample_freq=28 will be ignored. Current value: bagging_freq=7\n",
            "\u001b[32m[I 2021-11-29 02:43:10,560]\u001b[0m Trial 44 finished with value: 0.9634809634809635 and parameters: {'learning_rate': 0.7129100241866336, 'n_estimators': 69, 'colsample_bytree': 0.8074840740284474, 'max_depth': 31, 'num_leaves': 143, 'lambda_l1': 4.4685128280093225e-06, 'lambda_l2': 5.2350758280293386e-05, 'min_split_gain': 0.6363646401608319, 'min_child_samples': 96, 'subsample': 1, 'subsample_freq': 28, 'feature_fraction': 0.607402369003962, 'bagging_fraction': 0.7463435110299583, 'bagging_freq': 7}. Best is trial 0 with value: 0.9634809634809635.\u001b[0m\n",
            "[LightGBM] [Warning] feature_fraction is set=0.5217345391915313, colsample_bytree=0.8277957316557258 will be ignored. Current value: feature_fraction=0.5217345391915313\n",
            "[LightGBM] [Warning] lambda_l1 is set=3.953020300031527e-08, reg_alpha=0.0 will be ignored. Current value: lambda_l1=3.953020300031527e-08\n",
            "[LightGBM] [Warning] bagging_fraction is set=0.8563180610510377, subsample=1 will be ignored. Current value: bagging_fraction=0.8563180610510377\n",
            "[LightGBM] [Warning] lambda_l2 is set=0.0001954750397550478, reg_lambda=0.0 will be ignored. Current value: lambda_l2=0.0001954750397550478\n",
            "[LightGBM] [Warning] bagging_freq is set=7, subsample_freq=27 will be ignored. Current value: bagging_freq=7\n",
            "\u001b[32m[I 2021-11-29 02:43:11,092]\u001b[0m Trial 45 finished with value: 0.9634809634809635 and parameters: {'learning_rate': 0.7967759676968668, 'n_estimators': 87, 'colsample_bytree': 0.8277957316557258, 'max_depth': 37, 'num_leaves': 105, 'lambda_l1': 3.953020300031527e-08, 'lambda_l2': 0.0001954750397550478, 'min_split_gain': 1.139051750690525, 'min_child_samples': 90, 'subsample': 1, 'subsample_freq': 27, 'feature_fraction': 0.5217345391915313, 'bagging_fraction': 0.8563180610510377, 'bagging_freq': 7}. Best is trial 0 with value: 0.9634809634809635.\u001b[0m\n",
            "[LightGBM] [Warning] feature_fraction is set=0.7046080637814979, colsample_bytree=0.7098680005662885 will be ignored. Current value: feature_fraction=0.7046080637814979\n",
            "[LightGBM] [Warning] lambda_l1 is set=1.0886792290495883e-08, reg_alpha=0.0 will be ignored. Current value: lambda_l1=1.0886792290495883e-08\n",
            "[LightGBM] [Warning] bagging_fraction is set=0.8898756515597703, subsample=1 will be ignored. Current value: bagging_fraction=0.8898756515597703\n",
            "[LightGBM] [Warning] lambda_l2 is set=6.423671097911119e-07, reg_lambda=0.0 will be ignored. Current value: lambda_l2=6.423671097911119e-07\n",
            "[LightGBM] [Warning] bagging_freq is set=5, subsample_freq=29 will be ignored. Current value: bagging_freq=5\n",
            "\u001b[32m[I 2021-11-29 02:43:11,848]\u001b[0m Trial 46 finished with value: 0.9634809634809635 and parameters: {'learning_rate': 0.3453031992572101, 'n_estimators': 55, 'colsample_bytree': 0.7098680005662885, 'max_depth': 50, 'num_leaves': 75, 'lambda_l1': 1.0886792290495883e-08, 'lambda_l2': 6.423671097911119e-07, 'min_split_gain': 0.5239906963701297, 'min_child_samples': 15, 'subsample': 1, 'subsample_freq': 29, 'feature_fraction': 0.7046080637814979, 'bagging_fraction': 0.8898756515597703, 'bagging_freq': 5}. Best is trial 0 with value: 0.9634809634809635.\u001b[0m\n",
            "[LightGBM] [Warning] feature_fraction is set=0.4629884757727742, colsample_bytree=0.6261784844907636 will be ignored. Current value: feature_fraction=0.4629884757727742\n",
            "[LightGBM] [Warning] lambda_l1 is set=1.8998066495515595e-07, reg_alpha=0.0 will be ignored. Current value: lambda_l1=1.8998066495515595e-07\n",
            "[LightGBM] [Warning] bagging_fraction is set=0.8741379401014628, subsample=1 will be ignored. Current value: bagging_fraction=0.8741379401014628\n",
            "[LightGBM] [Warning] lambda_l2 is set=3.4600040737279624e-08, reg_lambda=0.0 will be ignored. Current value: lambda_l2=3.4600040737279624e-08\n",
            "[LightGBM] [Warning] bagging_freq is set=6, subsample_freq=24 will be ignored. Current value: bagging_freq=6\n",
            "\u001b[32m[I 2021-11-29 02:43:12,579]\u001b[0m Trial 47 finished with value: 0.9634809634809635 and parameters: {'learning_rate': 0.2612162092016453, 'n_estimators': 54, 'colsample_bytree': 0.6261784844907636, 'max_depth': 46, 'num_leaves': 82, 'lambda_l1': 1.8998066495515595e-07, 'lambda_l2': 3.4600040737279624e-08, 'min_split_gain': 0.55406429681174, 'min_child_samples': 16, 'subsample': 1, 'subsample_freq': 24, 'feature_fraction': 0.4629884757727742, 'bagging_fraction': 0.8741379401014628, 'bagging_freq': 6}. Best is trial 0 with value: 0.9634809634809635.\u001b[0m\n",
            "[LightGBM] [Warning] feature_fraction is set=0.7457578607829934, colsample_bytree=0.8486186371345341 will be ignored. Current value: feature_fraction=0.7457578607829934\n",
            "[LightGBM] [Warning] lambda_l1 is set=0.00015846457431114888, reg_alpha=0.0 will be ignored. Current value: lambda_l1=0.00015846457431114888\n",
            "[LightGBM] [Warning] bagging_fraction is set=0.5456786420972656, subsample=1 will be ignored. Current value: bagging_fraction=0.5456786420972656\n",
            "[LightGBM] [Warning] lambda_l2 is set=2.2656550363159202e-05, reg_lambda=0.0 will be ignored. Current value: lambda_l2=2.2656550363159202e-05\n",
            "[LightGBM] [Warning] bagging_freq is set=4, subsample_freq=23 will be ignored. Current value: bagging_freq=4\n",
            "\u001b[32m[I 2021-11-29 02:43:13,483]\u001b[0m Trial 48 finished with value: 0.9634809634809635 and parameters: {'learning_rate': 0.19263496134594502, 'n_estimators': 105, 'colsample_bytree': 0.8486186371345341, 'max_depth': 38, 'num_leaves': 54, 'lambda_l1': 0.00015846457431114888, 'lambda_l2': 2.2656550363159202e-05, 'min_split_gain': 0.6908206473297418, 'min_child_samples': 36, 'subsample': 1, 'subsample_freq': 23, 'feature_fraction': 0.7457578607829934, 'bagging_fraction': 0.5456786420972656, 'bagging_freq': 4}. Best is trial 0 with value: 0.9634809634809635.\u001b[0m\n",
            "[LightGBM] [Warning] feature_fraction is set=0.8317080009557881, colsample_bytree=0.7953196754386316 will be ignored. Current value: feature_fraction=0.8317080009557881\n",
            "[LightGBM] [Warning] lambda_l1 is set=4.34765581099393e-06, reg_alpha=0.0 will be ignored. Current value: lambda_l1=4.34765581099393e-06\n",
            "[LightGBM] [Warning] bagging_fraction is set=0.5096985352197471, subsample=1 will be ignored. Current value: bagging_fraction=0.5096985352197471\n",
            "[LightGBM] [Warning] lambda_l2 is set=3.3336367053781936e-06, reg_lambda=0.0 will be ignored. Current value: lambda_l2=3.3336367053781936e-06\n",
            "[LightGBM] [Warning] bagging_freq is set=5, subsample_freq=25 will be ignored. Current value: bagging_freq=5\n",
            "\u001b[32m[I 2021-11-29 02:43:14,235]\u001b[0m Trial 49 finished with value: 0.9634809634809635 and parameters: {'learning_rate': 0.38942335690820906, 'n_estimators': 97, 'colsample_bytree': 0.7953196754386316, 'max_depth': 41, 'num_leaves': 98, 'lambda_l1': 4.34765581099393e-06, 'lambda_l2': 3.3336367053781936e-06, 'min_split_gain': 0.7684118604230666, 'min_child_samples': 32, 'subsample': 1, 'subsample_freq': 25, 'feature_fraction': 0.8317080009557881, 'bagging_fraction': 0.5096985352197471, 'bagging_freq': 5}. Best is trial 0 with value: 0.9634809634809635.\u001b[0m\n",
            "[LightGBM] [Warning] feature_fraction is set=0.7610605814987372, colsample_bytree=0.811140237124572 will be ignored. Current value: feature_fraction=0.7610605814987372\n",
            "[LightGBM] [Warning] lambda_l1 is set=0.000101771435787638, reg_alpha=0.0 will be ignored. Current value: lambda_l1=0.000101771435787638\n",
            "[LightGBM] [Warning] bagging_fraction is set=0.4594586578587367, subsample=1 will be ignored. Current value: bagging_fraction=0.4594586578587367\n",
            "[LightGBM] [Warning] lambda_l2 is set=3.940087635471489e-06, reg_lambda=0.0 will be ignored. Current value: lambda_l2=3.940087635471489e-06\n",
            "[LightGBM] [Warning] bagging_freq is set=7, subsample_freq=23 will be ignored. Current value: bagging_freq=7\n",
            "\u001b[32m[I 2021-11-29 02:43:14,831]\u001b[0m Trial 50 finished with value: 0.9634809634809635 and parameters: {'learning_rate': 0.39803669307536504, 'n_estimators': 76, 'colsample_bytree': 0.811140237124572, 'max_depth': 36, 'num_leaves': 128, 'lambda_l1': 0.000101771435787638, 'lambda_l2': 3.940087635471489e-06, 'min_split_gain': 0.8107817972096093, 'min_child_samples': 54, 'subsample': 1, 'subsample_freq': 23, 'feature_fraction': 0.7610605814987372, 'bagging_fraction': 0.4594586578587367, 'bagging_freq': 7}. Best is trial 0 with value: 0.9634809634809635.\u001b[0m\n",
            "[LightGBM] [Warning] feature_fraction is set=0.9682123151613343, colsample_bytree=0.7852520778449784 will be ignored. Current value: feature_fraction=0.9682123151613343\n",
            "[LightGBM] [Warning] lambda_l1 is set=0.004524182250027172, reg_alpha=0.0 will be ignored. Current value: lambda_l1=0.004524182250027172\n",
            "[LightGBM] [Warning] bagging_fraction is set=0.4729883085825412, subsample=1 will be ignored. Current value: bagging_fraction=0.4729883085825412\n",
            "[LightGBM] [Warning] lambda_l2 is set=1.0949510125497084e-06, reg_lambda=0.0 will be ignored. Current value: lambda_l2=1.0949510125497084e-06\n",
            "[LightGBM] [Warning] bagging_freq is set=7, subsample_freq=24 will be ignored. Current value: bagging_freq=7\n",
            "\u001b[32m[I 2021-11-29 02:43:15,729]\u001b[0m Trial 51 finished with value: 0.9634809634809635 and parameters: {'learning_rate': 0.2637624937375099, 'n_estimators': 75, 'colsample_bytree': 0.7852520778449784, 'max_depth': 50, 'num_leaves': 120, 'lambda_l1': 0.004524182250027172, 'lambda_l2': 1.0949510125497084e-06, 'min_split_gain': 0.7193897958725676, 'min_child_samples': 21, 'subsample': 1, 'subsample_freq': 24, 'feature_fraction': 0.9682123151613343, 'bagging_fraction': 0.4729883085825412, 'bagging_freq': 7}. Best is trial 0 with value: 0.9634809634809635.\u001b[0m\n",
            "[LightGBM] [Warning] feature_fraction is set=0.7385650547820705, colsample_bytree=0.7262143389657263 will be ignored. Current value: feature_fraction=0.7385650547820705\n",
            "[LightGBM] [Warning] lambda_l1 is set=9.134821752356636e-08, reg_alpha=0.0 will be ignored. Current value: lambda_l1=9.134821752356636e-08\n",
            "[LightGBM] [Warning] bagging_fraction is set=0.4791378573970284, subsample=1 will be ignored. Current value: bagging_fraction=0.4791378573970284\n",
            "[LightGBM] [Warning] lambda_l2 is set=4.571665752748737e-08, reg_lambda=0.0 will be ignored. Current value: lambda_l2=4.571665752748737e-08\n",
            "[LightGBM] [Warning] bagging_freq is set=6, subsample_freq=25 will be ignored. Current value: bagging_freq=6\n",
            "\u001b[32m[I 2021-11-29 02:43:16,945]\u001b[0m Trial 52 finished with value: 0.9634809634809635 and parameters: {'learning_rate': 0.11676399789123386, 'n_estimators': 64, 'colsample_bytree': 0.7262143389657263, 'max_depth': 47, 'num_leaves': 95, 'lambda_l1': 9.134821752356636e-08, 'lambda_l2': 4.571665752748737e-08, 'min_split_gain': 0.5191161107040894, 'min_child_samples': 21, 'subsample': 1, 'subsample_freq': 25, 'feature_fraction': 0.7385650547820705, 'bagging_fraction': 0.4791378573970284, 'bagging_freq': 6}. Best is trial 0 with value: 0.9634809634809635.\u001b[0m\n",
            "[LightGBM] [Warning] feature_fraction is set=0.9747347875603307, colsample_bytree=0.7216444810610442 will be ignored. Current value: feature_fraction=0.9747347875603307\n",
            "[LightGBM] [Warning] lambda_l1 is set=1.6511862731920533e-06, reg_alpha=0.0 will be ignored. Current value: lambda_l1=1.6511862731920533e-06\n",
            "[LightGBM] [Warning] bagging_fraction is set=0.4374126808799735, subsample=1 will be ignored. Current value: bagging_fraction=0.4374126808799735\n",
            "[LightGBM] [Warning] lambda_l2 is set=1.3609800491515408e-08, reg_lambda=0.0 will be ignored. Current value: lambda_l2=1.3609800491515408e-08\n",
            "[LightGBM] [Warning] bagging_freq is set=6, subsample_freq=22 will be ignored. Current value: bagging_freq=6\n",
            "\u001b[32m[I 2021-11-29 02:43:18,062]\u001b[0m Trial 53 finished with value: 0.9634809634809635 and parameters: {'learning_rate': 0.13891761264664923, 'n_estimators': 58, 'colsample_bytree': 0.7216444810610442, 'max_depth': 43, 'num_leaves': 121, 'lambda_l1': 1.6511862731920533e-06, 'lambda_l2': 1.3609800491515408e-08, 'min_split_gain': 0.6816256356014919, 'min_child_samples': 9, 'subsample': 1, 'subsample_freq': 22, 'feature_fraction': 0.9747347875603307, 'bagging_fraction': 0.4374126808799735, 'bagging_freq': 6}. Best is trial 0 with value: 0.9634809634809635.\u001b[0m\n",
            "[LightGBM] [Warning] feature_fraction is set=0.835685195188621, colsample_bytree=0.8483058287490386 will be ignored. Current value: feature_fraction=0.835685195188621\n",
            "[LightGBM] [Warning] lambda_l1 is set=3.340044297299207e-05, reg_alpha=0.0 will be ignored. Current value: lambda_l1=3.340044297299207e-05\n",
            "[LightGBM] [Warning] bagging_fraction is set=0.4106878946196991, subsample=1 will be ignored. Current value: bagging_fraction=0.4106878946196991\n",
            "[LightGBM] [Warning] lambda_l2 is set=2.6964040337995796e-05, reg_lambda=0.0 will be ignored. Current value: lambda_l2=2.6964040337995796e-05\n",
            "[LightGBM] [Warning] bagging_freq is set=6, subsample_freq=27 will be ignored. Current value: bagging_freq=6\n",
            "\u001b[32m[I 2021-11-29 02:43:18,966]\u001b[0m Trial 54 finished with value: 0.9634809634809635 and parameters: {'learning_rate': 0.15981032336897175, 'n_estimators': 79, 'colsample_bytree': 0.8483058287490386, 'max_depth': 35, 'num_leaves': 107, 'lambda_l1': 3.340044297299207e-05, 'lambda_l2': 2.6964040337995796e-05, 'min_split_gain': 0.783934605909697, 'min_child_samples': 58, 'subsample': 1, 'subsample_freq': 27, 'feature_fraction': 0.835685195188621, 'bagging_fraction': 0.4106878946196991, 'bagging_freq': 6}. Best is trial 0 with value: 0.9634809634809635.\u001b[0m\n",
            "[LightGBM] [Warning] feature_fraction is set=0.8191008222070829, colsample_bytree=0.819104655513166 will be ignored. Current value: feature_fraction=0.8191008222070829\n",
            "[LightGBM] [Warning] lambda_l1 is set=2.3228266828075854e-06, reg_alpha=0.0 will be ignored. Current value: lambda_l1=2.3228266828075854e-06\n",
            "[LightGBM] [Warning] bagging_fraction is set=0.4264478861571436, subsample=1 will be ignored. Current value: bagging_fraction=0.4264478861571436\n",
            "[LightGBM] [Warning] lambda_l2 is set=1.7485313006703193e-06, reg_lambda=0.0 will be ignored. Current value: lambda_l2=1.7485313006703193e-06\n",
            "[LightGBM] [Warning] bagging_freq is set=5, subsample_freq=23 will be ignored. Current value: bagging_freq=5\n",
            "\u001b[32m[I 2021-11-29 02:43:19,873]\u001b[0m Trial 55 finished with value: 0.9634809634809635 and parameters: {'learning_rate': 0.11916052472745522, 'n_estimators': 69, 'colsample_bytree': 0.819104655513166, 'max_depth': 47, 'num_leaves': 88, 'lambda_l1': 2.3228266828075854e-06, 'lambda_l2': 1.7485313006703193e-06, 'min_split_gain': 0.752399317717308, 'min_child_samples': 50, 'subsample': 1, 'subsample_freq': 23, 'feature_fraction': 0.8191008222070829, 'bagging_fraction': 0.4264478861571436, 'bagging_freq': 5}. Best is trial 0 with value: 0.9634809634809635.\u001b[0m\n",
            "[LightGBM] [Warning] feature_fraction is set=0.9913124181603816, colsample_bytree=0.8026409604600473 will be ignored. Current value: feature_fraction=0.9913124181603816\n",
            "[LightGBM] [Warning] lambda_l1 is set=5.673146672809197e-05, reg_alpha=0.0 will be ignored. Current value: lambda_l1=5.673146672809197e-05\n",
            "[LightGBM] [Warning] bagging_fraction is set=0.45017030123343604, subsample=1 will be ignored. Current value: bagging_fraction=0.45017030123343604\n",
            "[LightGBM] [Warning] lambda_l2 is set=1.905688772869191e-06, reg_lambda=0.0 will be ignored. Current value: lambda_l2=1.905688772869191e-06\n",
            "[LightGBM] [Warning] bagging_freq is set=7, subsample_freq=25 will be ignored. Current value: bagging_freq=7\n",
            "\u001b[32m[I 2021-11-29 02:43:21,243]\u001b[0m Trial 56 finished with value: 0.9634809634809635 and parameters: {'learning_rate': 0.24530550804881743, 'n_estimators': 84, 'colsample_bytree': 0.8026409604600473, 'max_depth': 45, 'num_leaves': 113, 'lambda_l1': 5.673146672809197e-05, 'lambda_l2': 1.905688772869191e-06, 'min_split_gain': 0.8011523032128907, 'min_child_samples': 10, 'subsample': 1, 'subsample_freq': 25, 'feature_fraction': 0.9913124181603816, 'bagging_fraction': 0.45017030123343604, 'bagging_freq': 7}. Best is trial 0 with value: 0.9634809634809635.\u001b[0m\n",
            "[LightGBM] [Warning] feature_fraction is set=0.9995713685120924, colsample_bytree=0.7592242173616089 will be ignored. Current value: feature_fraction=0.9995713685120924\n",
            "[LightGBM] [Warning] lambda_l1 is set=0.20099259930189592, reg_alpha=0.0 will be ignored. Current value: lambda_l1=0.20099259930189592\n",
            "[LightGBM] [Warning] bagging_fraction is set=0.4049682113808801, subsample=1 will be ignored. Current value: bagging_fraction=0.4049682113808801\n",
            "[LightGBM] [Warning] lambda_l2 is set=2.1264519062178477e-07, reg_lambda=0.0 will be ignored. Current value: lambda_l2=2.1264519062178477e-07\n",
            "[LightGBM] [Warning] bagging_freq is set=7, subsample_freq=24 will be ignored. Current value: bagging_freq=7\n",
            "\u001b[32m[I 2021-11-29 02:43:22,854]\u001b[0m Trial 57 finished with value: 0.9634809634809635 and parameters: {'learning_rate': 0.21177509912264875, 'n_estimators': 79, 'colsample_bytree': 0.7592242173616089, 'max_depth': 42, 'num_leaves': 101, 'lambda_l1': 0.20099259930189592, 'lambda_l2': 2.1264519062178477e-07, 'min_split_gain': 0.634638567520728, 'min_child_samples': 7, 'subsample': 1, 'subsample_freq': 24, 'feature_fraction': 0.9995713685120924, 'bagging_fraction': 0.4049682113808801, 'bagging_freq': 7}. Best is trial 0 with value: 0.9634809634809635.\u001b[0m\n",
            "[LightGBM] [Warning] feature_fraction is set=0.8845608306646691, colsample_bytree=0.6689740698319663 will be ignored. Current value: feature_fraction=0.8845608306646691\n",
            "[LightGBM] [Warning] lambda_l1 is set=0.0005993753485885165, reg_alpha=0.0 will be ignored. Current value: lambda_l1=0.0005993753485885165\n",
            "[LightGBM] [Warning] bagging_fraction is set=0.5740675128466538, subsample=3 will be ignored. Current value: bagging_fraction=0.5740675128466538\n",
            "[LightGBM] [Warning] lambda_l2 is set=0.11564353145827914, reg_lambda=0.0 will be ignored. Current value: lambda_l2=0.11564353145827914\n",
            "[LightGBM] [Warning] bagging_freq is set=6, subsample_freq=21 will be ignored. Current value: bagging_freq=6\n",
            "\u001b[32m[I 2021-11-29 02:43:24,243]\u001b[0m Trial 58 finished with value: 0.9634809634809635 and parameters: {'learning_rate': 0.08999796650041715, 'n_estimators': 130, 'colsample_bytree': 0.6689740698319663, 'max_depth': 48, 'num_leaves': 85, 'lambda_l1': 0.0005993753485885165, 'lambda_l2': 0.11564353145827914, 'min_split_gain': 0.8942007127300011, 'min_child_samples': 13, 'subsample': 3, 'subsample_freq': 21, 'feature_fraction': 0.8845608306646691, 'bagging_fraction': 0.5740675128466538, 'bagging_freq': 6}. Best is trial 0 with value: 0.9634809634809635.\u001b[0m\n",
            "[LightGBM] [Warning] feature_fraction is set=0.9089174022750981, colsample_bytree=0.6816992930140897 will be ignored. Current value: feature_fraction=0.9089174022750981\n",
            "[LightGBM] [Warning] lambda_l1 is set=0.0004178976983326464, reg_alpha=0.0 will be ignored. Current value: lambda_l1=0.0004178976983326464\n",
            "[LightGBM] [Warning] bagging_fraction is set=0.4931070987459027, subsample=2 will be ignored. Current value: bagging_fraction=0.4931070987459027\n",
            "[LightGBM] [Warning] lambda_l2 is set=3.350341512422085e-07, reg_lambda=0.0 will be ignored. Current value: lambda_l2=3.350341512422085e-07\n",
            "[LightGBM] [Warning] bagging_freq is set=6, subsample_freq=20 will be ignored. Current value: bagging_freq=6\n",
            "\u001b[32m[I 2021-11-29 02:43:24,994]\u001b[0m Trial 59 finished with value: 0.9634809634809635 and parameters: {'learning_rate': 0.1383233663094634, 'n_estimators': 72, 'colsample_bytree': 0.6816992930140897, 'max_depth': 20, 'num_leaves': 146, 'lambda_l1': 0.0004178976983326464, 'lambda_l2': 3.350341512422085e-07, 'min_split_gain': 0.9733118053574201, 'min_child_samples': 44, 'subsample': 2, 'subsample_freq': 20, 'feature_fraction': 0.9089174022750981, 'bagging_fraction': 0.4931070987459027, 'bagging_freq': 6}. Best is trial 0 with value: 0.9634809634809635.\u001b[0m\n",
            "[LightGBM] [Warning] feature_fraction is set=0.8981333932847065, colsample_bytree=0.5000570583202185 will be ignored. Current value: feature_fraction=0.8981333932847065\n",
            "[LightGBM] [Warning] lambda_l1 is set=8.876646008408532e-07, reg_alpha=0.0 will be ignored. Current value: lambda_l1=8.876646008408532e-07\n",
            "[LightGBM] [Warning] bagging_fraction is set=0.681688401263205, subsample=2 will be ignored. Current value: bagging_fraction=0.681688401263205\n",
            "[LightGBM] [Warning] lambda_l2 is set=0.03638876905960629, reg_lambda=0.0 will be ignored. Current value: lambda_l2=0.03638876905960629\n",
            "[LightGBM] [Warning] bagging_freq is set=5, subsample_freq=22 will be ignored. Current value: bagging_freq=5\n",
            "\u001b[32m[I 2021-11-29 02:43:28,331]\u001b[0m Trial 60 finished with value: 0.9634809634809635 and parameters: {'learning_rate': 0.013866496859352168, 'n_estimators': 145, 'colsample_bytree': 0.5000570583202185, 'max_depth': 34, 'num_leaves': 179, 'lambda_l1': 8.876646008408532e-07, 'lambda_l2': 0.03638876905960629, 'min_split_gain': 0.5055847588591678, 'min_child_samples': 70, 'subsample': 2, 'subsample_freq': 22, 'feature_fraction': 0.8981333932847065, 'bagging_fraction': 0.681688401263205, 'bagging_freq': 5}. Best is trial 0 with value: 0.9634809634809635.\u001b[0m\n",
            "[LightGBM] [Warning] feature_fraction is set=0.6735427220430029, colsample_bytree=0.5263951754505851 will be ignored. Current value: feature_fraction=0.6735427220430029\n",
            "[LightGBM] [Warning] lambda_l1 is set=2.5128917684466628e-08, reg_alpha=0.0 will be ignored. Current value: lambda_l1=2.5128917684466628e-08\n",
            "[LightGBM] [Warning] bagging_fraction is set=0.9600786526233955, subsample=3 will be ignored. Current value: bagging_fraction=0.9600786526233955\n",
            "[LightGBM] [Warning] lambda_l2 is set=0.005577552023620284, reg_lambda=0.0 will be ignored. Current value: lambda_l2=0.005577552023620284\n",
            "[LightGBM] [Warning] bagging_freq is set=4, subsample_freq=26 will be ignored. Current value: bagging_freq=4\n",
            "\u001b[32m[I 2021-11-29 02:43:29,580]\u001b[0m Trial 61 finished with value: 0.9634809634809635 and parameters: {'learning_rate': 0.08190947818535452, 'n_estimators': 58, 'colsample_bytree': 0.5263951754505851, 'max_depth': 18, 'num_leaves': 198, 'lambda_l1': 2.5128917684466628e-08, 'lambda_l2': 0.005577552023620284, 'min_split_gain': 0.5950684127746072, 'min_child_samples': 63, 'subsample': 3, 'subsample_freq': 26, 'feature_fraction': 0.6735427220430029, 'bagging_fraction': 0.9600786526233955, 'bagging_freq': 4}. Best is trial 0 with value: 0.9634809634809635.\u001b[0m\n",
            "[LightGBM] [Warning] feature_fraction is set=0.5619931348273215, colsample_bytree=0.6641917607806948 will be ignored. Current value: feature_fraction=0.5619931348273215\n",
            "[LightGBM] [Warning] lambda_l1 is set=0.00016955271283305168, reg_alpha=0.0 will be ignored. Current value: lambda_l1=0.00016955271283305168\n",
            "[LightGBM] [Warning] bagging_fraction is set=0.989840435676995, subsample=3 will be ignored. Current value: bagging_fraction=0.989840435676995\n",
            "[LightGBM] [Warning] lambda_l2 is set=0.0016226520713739543, reg_lambda=0.0 will be ignored. Current value: lambda_l2=0.0016226520713739543\n",
            "[LightGBM] [Warning] bagging_freq is set=3, subsample_freq=29 will be ignored. Current value: bagging_freq=3\n",
            "\u001b[32m[I 2021-11-29 02:43:31,954]\u001b[0m Trial 62 finished with value: 0.9634809634809635 and parameters: {'learning_rate': 0.033708107975657, 'n_estimators': 127, 'colsample_bytree': 0.6641917607806948, 'max_depth': 16, 'num_leaves': 195, 'lambda_l1': 0.00016955271283305168, 'lambda_l2': 0.0016226520713739543, 'min_split_gain': 0.5779955328324567, 'min_child_samples': 60, 'subsample': 3, 'subsample_freq': 29, 'feature_fraction': 0.5619931348273215, 'bagging_fraction': 0.989840435676995, 'bagging_freq': 3}. Best is trial 0 with value: 0.9634809634809635.\u001b[0m\n",
            "[LightGBM] [Warning] feature_fraction is set=0.6307437128710671, colsample_bytree=0.5776529949060988 will be ignored. Current value: feature_fraction=0.6307437128710671\n",
            "[LightGBM] [Warning] lambda_l1 is set=0.0007413304276286727, reg_alpha=0.0 will be ignored. Current value: lambda_l1=0.0007413304276286727\n",
            "[LightGBM] [Warning] bagging_fraction is set=0.7642919962438477, subsample=2 will be ignored. Current value: bagging_fraction=0.7642919962438477\n",
            "[LightGBM] [Warning] lambda_l2 is set=0.00012370714976530294, reg_lambda=0.0 will be ignored. Current value: lambda_l2=0.00012370714976530294\n",
            "[LightGBM] [Warning] bagging_freq is set=4, subsample_freq=29 will be ignored. Current value: bagging_freq=4\n",
            "\u001b[32m[I 2021-11-29 02:43:34,492]\u001b[0m Trial 63 finished with value: 0.9634809634809635 and parameters: {'learning_rate': 0.027763257423187877, 'n_estimators': 163, 'colsample_bytree': 0.5776529949060988, 'max_depth': 27, 'num_leaves': 184, 'lambda_l1': 0.0007413304276286727, 'lambda_l2': 0.00012370714976530294, 'min_split_gain': 0.719197200206484, 'min_child_samples': 68, 'subsample': 2, 'subsample_freq': 29, 'feature_fraction': 0.6307437128710671, 'bagging_fraction': 0.7642919962438477, 'bagging_freq': 4}. Best is trial 0 with value: 0.9634809634809635.\u001b[0m\n",
            "[LightGBM] [Warning] feature_fraction is set=0.5338811423143797, colsample_bytree=0.5968320467313067 will be ignored. Current value: feature_fraction=0.5338811423143797\n",
            "[LightGBM] [Warning] lambda_l1 is set=1.975648554225712e-05, reg_alpha=0.0 will be ignored. Current value: lambda_l1=1.975648554225712e-05\n",
            "[LightGBM] [Warning] bagging_fraction is set=0.6155705272481126, subsample=1 will be ignored. Current value: bagging_fraction=0.6155705272481126\n",
            "[LightGBM] [Warning] lambda_l2 is set=0.0033221482732228966, reg_lambda=0.0 will be ignored. Current value: lambda_l2=0.0033221482732228966\n",
            "[LightGBM] [Warning] bagging_freq is set=7, subsample_freq=26 will be ignored. Current value: bagging_freq=7\n",
            "\u001b[32m[I 2021-11-29 02:43:37,187]\u001b[0m Trial 64 finished with value: 0.9634809634809635 and parameters: {'learning_rate': 0.04265687371742172, 'n_estimators': 61, 'colsample_bytree': 0.5968320467313067, 'max_depth': 25, 'num_leaves': 170, 'lambda_l1': 1.975648554225712e-05, 'lambda_l2': 0.0033221482732228966, 'min_split_gain': 0.5477946017994378, 'min_child_samples': 5, 'subsample': 1, 'subsample_freq': 26, 'feature_fraction': 0.5338811423143797, 'bagging_fraction': 0.6155705272481126, 'bagging_freq': 7}. Best is trial 0 with value: 0.9634809634809635.\u001b[0m\n",
            "[LightGBM] [Warning] feature_fraction is set=0.4887112569790048, colsample_bytree=0.6344188005411144 will be ignored. Current value: feature_fraction=0.4887112569790048\n",
            "[LightGBM] [Warning] lambda_l1 is set=1.1728426890845263e-05, reg_alpha=0.0 will be ignored. Current value: lambda_l1=1.1728426890845263e-05\n",
            "[LightGBM] [Warning] bagging_fraction is set=0.6422686712032677, subsample=1 will be ignored. Current value: bagging_fraction=0.6422686712032677\n",
            "[LightGBM] [Warning] lambda_l2 is set=0.08117749869016501, reg_lambda=0.0 will be ignored. Current value: lambda_l2=0.08117749869016501\n",
            "[LightGBM] [Warning] bagging_freq is set=7, subsample_freq=29 will be ignored. Current value: bagging_freq=7\n",
            "\u001b[32m[I 2021-11-29 02:43:39,265]\u001b[0m Trial 65 finished with value: 0.9634809634809635 and parameters: {'learning_rate': 0.04476553339158105, 'n_estimators': 140, 'colsample_bytree': 0.6344188005411144, 'max_depth': 28, 'num_leaves': 66, 'lambda_l1': 1.1728426890845263e-05, 'lambda_l2': 0.08117749869016501, 'min_split_gain': 0.614655422930384, 'min_child_samples': 26, 'subsample': 1, 'subsample_freq': 29, 'feature_fraction': 0.4887112569790048, 'bagging_fraction': 0.6422686712032677, 'bagging_freq': 7}. Best is trial 0 with value: 0.9634809634809635.\u001b[0m\n",
            "[LightGBM] [Warning] feature_fraction is set=0.5862128066852864, colsample_bytree=0.7025130428462398 will be ignored. Current value: feature_fraction=0.5862128066852864\n",
            "[LightGBM] [Warning] lambda_l1 is set=0.08165361291098182, reg_alpha=0.0 will be ignored. Current value: lambda_l1=0.08165361291098182\n",
            "[LightGBM] [Warning] bagging_fraction is set=0.7052318608890673, subsample=1 will be ignored. Current value: bagging_fraction=0.7052318608890673\n",
            "[LightGBM] [Warning] lambda_l2 is set=1.4744521952690773e-07, reg_lambda=0.0 will be ignored. Current value: lambda_l2=1.4744521952690773e-07\n",
            "[LightGBM] [Warning] bagging_freq is set=4, subsample_freq=28 will be ignored. Current value: bagging_freq=4\n",
            "\u001b[32m[I 2021-11-29 02:43:40,062]\u001b[0m Trial 66 finished with value: 0.9634809634809635 and parameters: {'learning_rate': 0.06372410573194799, 'n_estimators': 52, 'colsample_bytree': 0.7025130428462398, 'max_depth': 29, 'num_leaves': 57, 'lambda_l1': 0.08165361291098182, 'lambda_l2': 1.4744521952690773e-07, 'min_split_gain': 1.0361354684501178, 'min_child_samples': 80, 'subsample': 1, 'subsample_freq': 28, 'feature_fraction': 0.5862128066852864, 'bagging_fraction': 0.7052318608890673, 'bagging_freq': 4}. Best is trial 0 with value: 0.9634809634809635.\u001b[0m\n",
            "[LightGBM] [Warning] feature_fraction is set=0.5810334321208573, colsample_bytree=0.6579223430069097 will be ignored. Current value: feature_fraction=0.5810334321208573\n",
            "[LightGBM] [Warning] lambda_l1 is set=0.028913293103841012, reg_alpha=0.0 will be ignored. Current value: lambda_l1=0.028913293103841012\n",
            "[LightGBM] [Warning] bagging_fraction is set=0.6786408167837663, subsample=2 will be ignored. Current value: bagging_fraction=0.6786408167837663\n",
            "[LightGBM] [Warning] lambda_l2 is set=0.9411377542057082, reg_lambda=0.0 will be ignored. Current value: lambda_l2=0.9411377542057082\n",
            "[LightGBM] [Warning] bagging_freq is set=4, subsample_freq=27 will be ignored. Current value: bagging_freq=4\n",
            "\u001b[32m[I 2021-11-29 02:43:41,169]\u001b[0m Trial 67 finished with value: 0.9634809634809635 and parameters: {'learning_rate': 0.019297329675451974, 'n_estimators': 65, 'colsample_bytree': 0.6579223430069097, 'max_depth': 26, 'num_leaves': 158, 'lambda_l1': 0.028913293103841012, 'lambda_l2': 0.9411377542057082, 'min_split_gain': 1.1991028321263317, 'min_child_samples': 71, 'subsample': 2, 'subsample_freq': 27, 'feature_fraction': 0.5810334321208573, 'bagging_fraction': 0.6786408167837663, 'bagging_freq': 4}. Best is trial 0 with value: 0.9634809634809635.\u001b[0m\n",
            "[LightGBM] [Warning] feature_fraction is set=0.6895516445042715, colsample_bytree=0.699203176330912 will be ignored. Current value: feature_fraction=0.6895516445042715\n",
            "[LightGBM] [Warning] lambda_l1 is set=2.888034214427666, reg_alpha=0.0 will be ignored. Current value: lambda_l1=2.888034214427666\n",
            "[LightGBM] [Warning] bagging_fraction is set=0.8209111369451858, subsample=1 will be ignored. Current value: bagging_fraction=0.8209111369451858\n",
            "[LightGBM] [Warning] lambda_l2 is set=2.6944530700034664e-08, reg_lambda=0.0 will be ignored. Current value: lambda_l2=2.6944530700034664e-08\n",
            "[LightGBM] [Warning] bagging_freq is set=3, subsample_freq=30 will be ignored. Current value: bagging_freq=3\n",
            "\u001b[32m[I 2021-11-29 02:43:41,996]\u001b[0m Trial 68 finished with value: 0.9634809634809635 and parameters: {'learning_rate': 0.06462971821160493, 'n_estimators': 50, 'colsample_bytree': 0.699203176330912, 'max_depth': 16, 'num_leaves': 50, 'lambda_l1': 2.888034214427666, 'lambda_l2': 2.6944530700034664e-08, 'min_split_gain': 1.3643637274975968, 'min_child_samples': 28, 'subsample': 1, 'subsample_freq': 30, 'feature_fraction': 0.6895516445042715, 'bagging_fraction': 0.8209111369451858, 'bagging_freq': 3}. Best is trial 0 with value: 0.9634809634809635.\u001b[0m\n",
            "[LightGBM] [Warning] feature_fraction is set=0.6318459448490432, colsample_bytree=0.7570404314918148 will be ignored. Current value: feature_fraction=0.6318459448490432\n",
            "[LightGBM] [Warning] lambda_l1 is set=3.0313925301859104e-07, reg_alpha=0.0 will be ignored. Current value: lambda_l1=3.0313925301859104e-07\n",
            "[LightGBM] [Warning] bagging_fraction is set=0.6358900159821981, subsample=1 will be ignored. Current value: bagging_fraction=0.6358900159821981\n",
            "[LightGBM] [Warning] lambda_l2 is set=5.038843744098056e-07, reg_lambda=0.0 will be ignored. Current value: lambda_l2=5.038843744098056e-07\n",
            "[LightGBM] [Warning] bagging_freq is set=4, subsample_freq=30 will be ignored. Current value: bagging_freq=4\n",
            "\u001b[32m[I 2021-11-29 02:43:43,031]\u001b[0m Trial 69 finished with value: 0.9634809634809635 and parameters: {'learning_rate': 0.0265521660613342, 'n_estimators': 53, 'colsample_bytree': 0.7570404314918148, 'max_depth': 22, 'num_leaves': 67, 'lambda_l1': 3.0313925301859104e-07, 'lambda_l2': 5.038843744098056e-07, 'min_split_gain': 1.4642785298581973, 'min_child_samples': 78, 'subsample': 1, 'subsample_freq': 30, 'feature_fraction': 0.6318459448490432, 'bagging_fraction': 0.6358900159821981, 'bagging_freq': 4}. Best is trial 0 with value: 0.9634809634809635.\u001b[0m\n",
            "[LightGBM] [Warning] feature_fraction is set=0.5385698509031082, colsample_bytree=0.7781179905491002 will be ignored. Current value: feature_fraction=0.5385698509031082\n",
            "[LightGBM] [Warning] lambda_l1 is set=2.388852559880834e-08, reg_alpha=0.0 will be ignored. Current value: lambda_l1=2.388852559880834e-08\n",
            "[LightGBM] [Warning] bagging_fraction is set=0.5952581611956888, subsample=1 will be ignored. Current value: bagging_fraction=0.5952581611956888\n",
            "[LightGBM] [Warning] lambda_l2 is set=1.979436604324597e-08, reg_lambda=0.0 will be ignored. Current value: lambda_l2=1.979436604324597e-08\n",
            "[LightGBM] [Warning] bagging_freq is set=2, subsample_freq=28 will be ignored. Current value: bagging_freq=2\n",
            "\u001b[32m[I 2021-11-29 02:43:44,206]\u001b[0m Trial 70 finished with value: 0.9634809634809635 and parameters: {'learning_rate': 0.5747338131604459, 'n_estimators': 122, 'colsample_bytree': 0.7781179905491002, 'max_depth': 21, 'num_leaves': 64, 'lambda_l1': 2.388852559880834e-08, 'lambda_l2': 1.979436604324597e-08, 'min_split_gain': 1.1991730437885126, 'min_child_samples': 38, 'subsample': 1, 'subsample_freq': 28, 'feature_fraction': 0.5385698509031082, 'bagging_fraction': 0.5952581611956888, 'bagging_freq': 2}. Best is trial 0 with value: 0.9634809634809635.\u001b[0m\n",
            "[LightGBM] [Warning] feature_fraction is set=0.44796071887001077, colsample_bytree=0.8255610716505521 will be ignored. Current value: feature_fraction=0.44796071887001077\n",
            "[LightGBM] [Warning] lambda_l1 is set=1.5539911269873168e-08, reg_alpha=0.0 will be ignored. Current value: lambda_l1=1.5539911269873168e-08\n",
            "[LightGBM] [Warning] bagging_fraction is set=0.8676918198850894, subsample=1 will be ignored. Current value: bagging_fraction=0.8676918198850894\n",
            "[LightGBM] [Warning] lambda_l2 is set=6.898463469259071e-07, reg_lambda=0.0 will be ignored. Current value: lambda_l2=6.898463469259071e-07\n",
            "[LightGBM] [Warning] bagging_freq is set=7, subsample_freq=24 will be ignored. Current value: bagging_freq=7\n",
            "\u001b[32m[I 2021-11-29 02:43:44,823]\u001b[0m Trial 71 finished with value: 0.9634809634809635 and parameters: {'learning_rate': 0.41721430678162996, 'n_estimators': 87, 'colsample_bytree': 0.8255610716505521, 'max_depth': 39, 'num_leaves': 128, 'lambda_l1': 1.5539911269873168e-08, 'lambda_l2': 6.898463469259071e-07, 'min_split_gain': 0.762181373827715, 'min_child_samples': 23, 'subsample': 1, 'subsample_freq': 24, 'feature_fraction': 0.44796071887001077, 'bagging_fraction': 0.8676918198850894, 'bagging_freq': 7}. Best is trial 0 with value: 0.9634809634809635.\u001b[0m\n",
            "[LightGBM] [Warning] feature_fraction is set=0.7635051302195698, colsample_bytree=0.7975129521372231 will be ignored. Current value: feature_fraction=0.7635051302195698\n",
            "[LightGBM] [Warning] lambda_l1 is set=0.0039842491008431485, reg_alpha=0.0 will be ignored. Current value: lambda_l1=0.0039842491008431485\n",
            "[LightGBM] [Warning] bagging_fraction is set=0.47996774834566014, subsample=1 will be ignored. Current value: bagging_fraction=0.47996774834566014\n",
            "[LightGBM] [Warning] lambda_l2 is set=1.0441278596740633e-06, reg_lambda=0.0 will be ignored. Current value: lambda_l2=1.0441278596740633e-06\n",
            "[LightGBM] [Warning] bagging_freq is set=5, subsample_freq=24 will be ignored. Current value: bagging_freq=5\n",
            "\u001b[32m[I 2021-11-29 02:43:45,573]\u001b[0m Trial 72 finished with value: 0.9634809634809635 and parameters: {'learning_rate': 0.24663052650455672, 'n_estimators': 63, 'colsample_bytree': 0.7975129521372231, 'max_depth': 46, 'num_leaves': 100, 'lambda_l1': 0.0039842491008431485, 'lambda_l2': 1.0441278596740633e-06, 'min_split_gain': 0.5325178070899188, 'min_child_samples': 18, 'subsample': 1, 'subsample_freq': 24, 'feature_fraction': 0.7635051302195698, 'bagging_fraction': 0.47996774834566014, 'bagging_freq': 5}. Best is trial 0 with value: 0.9634809634809635.\u001b[0m\n",
            "[LightGBM] [Warning] feature_fraction is set=0.7965259831082643, colsample_bytree=0.8388360387277041 will be ignored. Current value: feature_fraction=0.7965259831082643\n",
            "[LightGBM] [Warning] lambda_l1 is set=0.00010928133394806821, reg_alpha=0.0 will be ignored. Current value: lambda_l1=0.00010928133394806821\n",
            "[LightGBM] [Warning] bagging_fraction is set=0.4925345757872217, subsample=1 will be ignored. Current value: bagging_fraction=0.4925345757872217\n",
            "[LightGBM] [Warning] lambda_l2 is set=3.1583756607833805e-06, reg_lambda=0.0 will be ignored. Current value: lambda_l2=3.1583756607833805e-06\n",
            "[LightGBM] [Warning] bagging_freq is set=5, subsample_freq=24 will be ignored. Current value: bagging_freq=5\n",
            "\u001b[32m[I 2021-11-29 02:43:46,764]\u001b[0m Trial 73 finished with value: 0.9634809634809635 and parameters: {'learning_rate': 0.3956790287787033, 'n_estimators': 100, 'colsample_bytree': 0.8388360387277041, 'max_depth': 50, 'num_leaves': 95, 'lambda_l1': 0.00010928133394806821, 'lambda_l2': 3.1583756607833805e-06, 'min_split_gain': 0.6972848072169548, 'min_child_samples': 23, 'subsample': 1, 'subsample_freq': 24, 'feature_fraction': 0.7965259831082643, 'bagging_fraction': 0.4925345757872217, 'bagging_freq': 5}. Best is trial 0 with value: 0.9634809634809635.\u001b[0m\n",
            "[LightGBM] [Warning] feature_fraction is set=0.9617750267452141, colsample_bytree=0.7866122636260845 will be ignored. Current value: feature_fraction=0.9617750267452141\n",
            "[LightGBM] [Warning] lambda_l1 is set=3.60557597032623e-05, reg_alpha=0.0 will be ignored. Current value: lambda_l1=3.60557597032623e-05\n",
            "[LightGBM] [Warning] bagging_fraction is set=0.5071501137129413, subsample=1 will be ignored. Current value: bagging_fraction=0.5071501137129413\n",
            "[LightGBM] [Warning] lambda_l2 is set=1.047057795090645e-08, reg_lambda=0.0 will be ignored. Current value: lambda_l2=1.047057795090645e-08\n",
            "[LightGBM] [Warning] bagging_freq is set=6, subsample_freq=23 will be ignored. Current value: bagging_freq=6\n",
            "\u001b[32m[I 2021-11-29 02:43:48,341]\u001b[0m Trial 74 finished with value: 0.9634809634809635 and parameters: {'learning_rate': 0.10369887689666311, 'n_estimators': 94, 'colsample_bytree': 0.7866122636260845, 'max_depth': 37, 'num_leaves': 119, 'lambda_l1': 3.60557597032623e-05, 'lambda_l2': 1.047057795090645e-08, 'min_split_gain': 0.8275978894200987, 'min_child_samples': 36, 'subsample': 1, 'subsample_freq': 23, 'feature_fraction': 0.9617750267452141, 'bagging_fraction': 0.5071501137129413, 'bagging_freq': 6}. Best is trial 0 with value: 0.9634809634809635.\u001b[0m\n",
            "[LightGBM] [Warning] feature_fraction is set=0.7617522300294065, colsample_bytree=0.7400312316253456 will be ignored. Current value: feature_fraction=0.7617522300294065\n",
            "[LightGBM] [Warning] lambda_l1 is set=7.2678634209102514e-06, reg_alpha=0.0 will be ignored. Current value: lambda_l1=7.2678634209102514e-06\n",
            "[LightGBM] [Warning] bagging_fraction is set=0.5442884784310641, subsample=1 will be ignored. Current value: bagging_fraction=0.5442884784310641\n",
            "[LightGBM] [Warning] lambda_l2 is set=2.5434567806158717e-07, reg_lambda=0.0 will be ignored. Current value: lambda_l2=2.5434567806158717e-07\n",
            "[LightGBM] [Warning] bagging_freq is set=6, subsample_freq=25 will be ignored. Current value: bagging_freq=6\n",
            "\u001b[32m[I 2021-11-29 02:43:49,966]\u001b[0m Trial 75 finished with value: 0.9634809634809635 and parameters: {'learning_rate': 0.47735719761202555, 'n_estimators': 105, 'colsample_bytree': 0.7400312316253456, 'max_depth': 42, 'num_leaves': 96, 'lambda_l1': 7.2678634209102514e-06, 'lambda_l2': 2.5434567806158717e-07, 'min_split_gain': 0.7315664220303072, 'min_child_samples': 21, 'subsample': 1, 'subsample_freq': 25, 'feature_fraction': 0.7617522300294065, 'bagging_fraction': 0.5442884784310641, 'bagging_freq': 6}. Best is trial 0 with value: 0.9634809634809635.\u001b[0m\n",
            "[LightGBM] [Warning] feature_fraction is set=0.851356766398563, colsample_bytree=0.8452973099568158 will be ignored. Current value: feature_fraction=0.851356766398563\n",
            "[LightGBM] [Warning] lambda_l1 is set=3.537703359510178e-05, reg_alpha=0.0 will be ignored. Current value: lambda_l1=3.537703359510178e-05\n",
            "[LightGBM] [Warning] bagging_fraction is set=0.4400547057304944, subsample=1 will be ignored. Current value: bagging_fraction=0.4400547057304944\n",
            "[LightGBM] [Warning] lambda_l2 is set=1.9228066284890462e-05, reg_lambda=0.0 will be ignored. Current value: lambda_l2=1.9228066284890462e-05\n",
            "[LightGBM] [Warning] bagging_freq is set=7, subsample_freq=22 will be ignored. Current value: bagging_freq=7\n",
            "\u001b[32m[I 2021-11-29 02:43:51,927]\u001b[0m Trial 76 finished with value: 0.9634809634809635 and parameters: {'learning_rate': 0.18330794463858427, 'n_estimators': 75, 'colsample_bytree': 0.8452973099568158, 'max_depth': 38, 'num_leaves': 131, 'lambda_l1': 3.537703359510178e-05, 'lambda_l2': 1.9228066284890462e-05, 'min_split_gain': 0.7744905535014845, 'min_child_samples': 57, 'subsample': 1, 'subsample_freq': 22, 'feature_fraction': 0.851356766398563, 'bagging_fraction': 0.4400547057304944, 'bagging_freq': 7}. Best is trial 0 with value: 0.9634809634809635.\u001b[0m\n",
            "[LightGBM] [Warning] feature_fraction is set=0.9777207759946478, colsample_bytree=0.8374854617830788 will be ignored. Current value: feature_fraction=0.9777207759946478\n",
            "[LightGBM] [Warning] lambda_l1 is set=0.00011911948644785684, reg_alpha=0.0 will be ignored. Current value: lambda_l1=0.00011911948644785684\n",
            "[LightGBM] [Warning] bagging_fraction is set=0.4665569332817179, subsample=1 will be ignored. Current value: bagging_fraction=0.4665569332817179\n",
            "[LightGBM] [Warning] lambda_l2 is set=4.745971350037801e-05, reg_lambda=0.0 will be ignored. Current value: lambda_l2=4.745971350037801e-05\n",
            "[LightGBM] [Warning] bagging_freq is set=7, subsample_freq=23 will be ignored. Current value: bagging_freq=7\n",
            "\u001b[32m[I 2021-11-29 02:43:53,360]\u001b[0m Trial 77 finished with value: 0.9634809634809635 and parameters: {'learning_rate': 0.12388681271536538, 'n_estimators': 64, 'colsample_bytree': 0.8374854617830788, 'max_depth': 34, 'num_leaves': 107, 'lambda_l1': 0.00011911948644785684, 'lambda_l2': 4.745971350037801e-05, 'min_split_gain': 0.6780497390428523, 'min_child_samples': 31, 'subsample': 1, 'subsample_freq': 23, 'feature_fraction': 0.9777207759946478, 'bagging_fraction': 0.4665569332817179, 'bagging_freq': 7}. Best is trial 0 with value: 0.9634809634809635.\u001b[0m\n",
            "[LightGBM] [Warning] feature_fraction is set=0.811357518264045, colsample_bytree=0.774122743547619 will be ignored. Current value: feature_fraction=0.811357518264045\n",
            "[LightGBM] [Warning] lambda_l1 is set=1.4256072242029115e-06, reg_alpha=0.0 will be ignored. Current value: lambda_l1=1.4256072242029115e-06\n",
            "[LightGBM] [Warning] bagging_fraction is set=0.4299379055339724, subsample=1 will be ignored. Current value: bagging_fraction=0.4299379055339724\n",
            "[LightGBM] [Warning] lambda_l2 is set=2.6196376350926986e-06, reg_lambda=0.0 will be ignored. Current value: lambda_l2=2.6196376350926986e-06\n",
            "[LightGBM] [Warning] bagging_freq is set=5, subsample_freq=25 will be ignored. Current value: bagging_freq=5\n",
            "\u001b[32m[I 2021-11-29 02:43:54,337]\u001b[0m Trial 78 finished with value: 0.9634809634809635 and parameters: {'learning_rate': 0.16510121297024152, 'n_estimators': 68, 'colsample_bytree': 0.774122743547619, 'max_depth': 47, 'num_leaves': 89, 'lambda_l1': 1.4256072242029115e-06, 'lambda_l2': 2.6196376350926986e-06, 'min_split_gain': 0.7467958650659352, 'min_child_samples': 48, 'subsample': 1, 'subsample_freq': 25, 'feature_fraction': 0.811357518264045, 'bagging_fraction': 0.4299379055339724, 'bagging_freq': 5}. Best is trial 0 with value: 0.9634809634809635.\u001b[0m\n",
            "[LightGBM] [Warning] feature_fraction is set=0.9205362179666237, colsample_bytree=0.8164963934992752 will be ignored. Current value: feature_fraction=0.9205362179666237\n",
            "[LightGBM] [Warning] lambda_l1 is set=6.344336997713578e-05, reg_alpha=0.0 will be ignored. Current value: lambda_l1=6.344336997713578e-05\n",
            "[LightGBM] [Warning] bagging_fraction is set=0.4429002811836605, subsample=1 will be ignored. Current value: bagging_fraction=0.4429002811836605\n",
            "[LightGBM] [Warning] lambda_l2 is set=1.2701857779435122e-06, reg_lambda=0.0 will be ignored. Current value: lambda_l2=1.2701857779435122e-06\n",
            "[LightGBM] [Warning] bagging_freq is set=7, subsample_freq=23 will be ignored. Current value: bagging_freq=7\n",
            "\u001b[32m[I 2021-11-29 02:43:55,507]\u001b[0m Trial 79 finished with value: 0.9634809634809635 and parameters: {'learning_rate': 0.11329160723102878, 'n_estimators': 81, 'colsample_bytree': 0.8164963934992752, 'max_depth': 45, 'num_leaves': 114, 'lambda_l1': 6.344336997713578e-05, 'lambda_l2': 1.2701857779435122e-06, 'min_split_gain': 0.8132469951525513, 'min_child_samples': 9, 'subsample': 1, 'subsample_freq': 23, 'feature_fraction': 0.9205362179666237, 'bagging_fraction': 0.4429002811836605, 'bagging_freq': 7}. Best is trial 0 with value: 0.9634809634809635.\u001b[0m\n",
            "[LightGBM] [Warning] feature_fraction is set=0.9779836307452865, colsample_bytree=0.7612234771981067 will be ignored. Current value: feature_fraction=0.9779836307452865\n",
            "[LightGBM] [Warning] lambda_l1 is set=0.006028180327214731, reg_alpha=0.0 will be ignored. Current value: lambda_l1=0.006028180327214731\n",
            "[LightGBM] [Warning] bagging_fraction is set=0.40374164545959623, subsample=1 will be ignored. Current value: bagging_fraction=0.40374164545959623\n",
            "[LightGBM] [Warning] lambda_l2 is set=4.986566620728787e-08, reg_lambda=0.0 will be ignored. Current value: lambda_l2=4.986566620728787e-08\n",
            "[LightGBM] [Warning] bagging_freq is set=7, subsample_freq=24 will be ignored. Current value: bagging_freq=7\n",
            "\u001b[32m[I 2021-11-29 02:43:56,467]\u001b[0m Trial 80 finished with value: 0.9634809634809635 and parameters: {'learning_rate': 0.14002134549261802, 'n_estimators': 70, 'colsample_bytree': 0.7612234771981067, 'max_depth': 43, 'num_leaves': 101, 'lambda_l1': 0.006028180327214731, 'lambda_l2': 4.986566620728787e-08, 'min_split_gain': 0.6341455563545463, 'min_child_samples': 7, 'subsample': 1, 'subsample_freq': 24, 'feature_fraction': 0.9779836307452865, 'bagging_fraction': 0.40374164545959623, 'bagging_freq': 7}. Best is trial 0 with value: 0.9634809634809635.\u001b[0m\n",
            "[LightGBM] [Warning] feature_fraction is set=0.8760379663772557, colsample_bytree=0.716545583628454 will be ignored. Current value: feature_fraction=0.8760379663772557\n",
            "[LightGBM] [Warning] lambda_l1 is set=0.1039379496907039, reg_alpha=0.0 will be ignored. Current value: lambda_l1=0.1039379496907039\n",
            "[LightGBM] [Warning] bagging_fraction is set=0.5682111579227854, subsample=3 will be ignored. Current value: bagging_fraction=0.5682111579227854\n",
            "[LightGBM] [Warning] lambda_l2 is set=1.9488652522851982e-07, reg_lambda=0.0 will be ignored. Current value: lambda_l2=1.9488652522851982e-07\n",
            "[LightGBM] [Warning] bagging_freq is set=6, subsample_freq=21 will be ignored. Current value: bagging_freq=6\n",
            "\u001b[32m[I 2021-11-29 02:43:57,663]\u001b[0m Trial 81 finished with value: 0.9634809634809635 and parameters: {'learning_rate': 0.08669951755922051, 'n_estimators': 82, 'colsample_bytree': 0.716545583628454, 'max_depth': 48, 'num_leaves': 92, 'lambda_l1': 0.1039379496907039, 'lambda_l2': 1.9488652522851982e-07, 'min_split_gain': 0.8670620707115202, 'min_child_samples': 13, 'subsample': 3, 'subsample_freq': 21, 'feature_fraction': 0.8760379663772557, 'bagging_fraction': 0.5682111579227854, 'bagging_freq': 6}. Best is trial 0 with value: 0.9634809634809635.\u001b[0m\n",
            "[LightGBM] [Warning] feature_fraction is set=0.870239462957982, colsample_bytree=0.6928913952223806 will be ignored. Current value: feature_fraction=0.870239462957982\n",
            "[LightGBM] [Warning] lambda_l1 is set=0.0004400034891846461, reg_alpha=0.0 will be ignored. Current value: lambda_l1=0.0004400034891846461\n",
            "[LightGBM] [Warning] bagging_fraction is set=0.4209533190782271, subsample=3 will be ignored. Current value: bagging_fraction=0.4209533190782271\n",
            "[LightGBM] [Warning] lambda_l2 is set=3.491193081097616e-07, reg_lambda=0.0 will be ignored. Current value: lambda_l2=3.491193081097616e-07\n",
            "[LightGBM] [Warning] bagging_freq is set=6, subsample_freq=20 will be ignored. Current value: bagging_freq=6\n",
            "\u001b[32m[I 2021-11-29 02:43:58,712]\u001b[0m Trial 82 finished with value: 0.9634809634809635 and parameters: {'learning_rate': 0.0961213404662282, 'n_estimators': 67, 'colsample_bytree': 0.6928913952223806, 'max_depth': 48, 'num_leaves': 88, 'lambda_l1': 0.0004400034891846461, 'lambda_l2': 3.491193081097616e-07, 'min_split_gain': 0.8951684309417185, 'min_child_samples': 13, 'subsample': 3, 'subsample_freq': 20, 'feature_fraction': 0.870239462957982, 'bagging_fraction': 0.4209533190782271, 'bagging_freq': 6}. Best is trial 0 with value: 0.9634809634809635.\u001b[0m\n",
            "[LightGBM] [Warning] feature_fraction is set=0.9992840011947941, colsample_bytree=0.680726904122664 will be ignored. Current value: feature_fraction=0.9992840011947941\n",
            "[LightGBM] [Warning] lambda_l1 is set=2.4327808577265577e-05, reg_alpha=0.0 will be ignored. Current value: lambda_l1=2.4327808577265577e-05\n",
            "[LightGBM] [Warning] bagging_fraction is set=0.4902596804106234, subsample=2 will be ignored. Current value: bagging_fraction=0.4902596804106234\n",
            "[LightGBM] [Warning] lambda_l2 is set=6.641959444287105e-08, reg_lambda=0.0 will be ignored. Current value: lambda_l2=6.641959444287105e-08\n",
            "[LightGBM] [Warning] bagging_freq is set=6, subsample_freq=20 will be ignored. Current value: bagging_freq=6\n",
            "\u001b[32m[I 2021-11-29 02:43:59,703]\u001b[0m Trial 83 finished with value: 0.9634809634809635 and parameters: {'learning_rate': 0.14533969541931493, 'n_estimators': 73, 'colsample_bytree': 0.680726904122664, 'max_depth': 19, 'num_leaves': 84, 'lambda_l1': 2.4327808577265577e-05, 'lambda_l2': 6.641959444287105e-08, 'min_split_gain': 0.8749582058010309, 'min_child_samples': 9, 'subsample': 2, 'subsample_freq': 20, 'feature_fraction': 0.9992840011947941, 'bagging_fraction': 0.4902596804106234, 'bagging_freq': 6}. Best is trial 0 with value: 0.9634809634809635.\u001b[0m\n",
            "[LightGBM] [Warning] feature_fraction is set=0.895834399891472, colsample_bytree=0.6816511959512467 will be ignored. Current value: feature_fraction=0.895834399891472\n",
            "[LightGBM] [Warning] lambda_l1 is set=0.17658243669545784, reg_alpha=0.0 will be ignored. Current value: lambda_l1=0.17658243669545784\n",
            "[LightGBM] [Warning] bagging_fraction is set=0.40172699428803194, subsample=2 will be ignored. Current value: bagging_fraction=0.40172699428803194\n",
            "[LightGBM] [Warning] lambda_l2 is set=0.062374885637649, reg_lambda=0.0 will be ignored. Current value: lambda_l2=0.062374885637649\n",
            "[LightGBM] [Warning] bagging_freq is set=6, subsample_freq=22 will be ignored. Current value: bagging_freq=6\n",
            "\u001b[32m[I 2021-11-29 02:44:00,386]\u001b[0m Trial 84 finished with value: 0.9634809634809635 and parameters: {'learning_rate': 0.22759573241847608, 'n_estimators': 79, 'colsample_bytree': 0.6816511959512467, 'max_depth': 42, 'num_leaves': 114, 'lambda_l1': 0.17658243669545784, 'lambda_l2': 0.062374885637649, 'min_split_gain': 0.9611411424172494, 'min_child_samples': 43, 'subsample': 2, 'subsample_freq': 22, 'feature_fraction': 0.895834399891472, 'bagging_fraction': 0.40172699428803194, 'bagging_freq': 6}. Best is trial 0 with value: 0.9634809634809635.\u001b[0m\n",
            "[LightGBM] [Warning] feature_fraction is set=0.9138365994859923, colsample_bytree=0.645018723432647 will be ignored. Current value: feature_fraction=0.9138365994859923\n",
            "[LightGBM] [Warning] lambda_l1 is set=1.0093009572709366e-06, reg_alpha=0.0 will be ignored. Current value: lambda_l1=1.0093009572709366e-06\n",
            "[LightGBM] [Warning] bagging_fraction is set=0.42345307441455127, subsample=3 will be ignored. Current value: bagging_fraction=0.42345307441455127\n",
            "[LightGBM] [Warning] lambda_l2 is set=0.22024185928638804, reg_lambda=0.0 will be ignored. Current value: lambda_l2=0.22024185928638804\n",
            "[LightGBM] [Warning] bagging_freq is set=5, subsample_freq=21 will be ignored. Current value: bagging_freq=5\n",
            "\u001b[32m[I 2021-11-29 02:44:01,478]\u001b[0m Trial 85 finished with value: 0.9634809634809635 and parameters: {'learning_rate': 0.1292841033936468, 'n_estimators': 153, 'colsample_bytree': 0.645018723432647, 'max_depth': 17, 'num_leaves': 142, 'lambda_l1': 1.0093009572709366e-06, 'lambda_l2': 0.22024185928638804, 'min_split_gain': 0.9126551503365281, 'min_child_samples': 50, 'subsample': 3, 'subsample_freq': 21, 'feature_fraction': 0.9138365994859923, 'bagging_fraction': 0.42345307441455127, 'bagging_freq': 5}. Best is trial 0 with value: 0.9634809634809635.\u001b[0m\n",
            "[LightGBM] [Warning] feature_fraction is set=0.8962624586938273, colsample_bytree=0.5158670585121542 will be ignored. Current value: feature_fraction=0.8962624586938273\n",
            "[LightGBM] [Warning] lambda_l1 is set=0.0003268701188925462, reg_alpha=0.0 will be ignored. Current value: lambda_l1=0.0003268701188925462\n",
            "[LightGBM] [Warning] bagging_fraction is set=0.5711799566782604, subsample=3 will be ignored. Current value: bagging_fraction=0.5711799566782604\n",
            "[LightGBM] [Warning] lambda_l2 is set=0.029974902257394104, reg_lambda=0.0 will be ignored. Current value: lambda_l2=0.029974902257394104\n",
            "[LightGBM] [Warning] bagging_freq is set=5, subsample_freq=26 will be ignored. Current value: bagging_freq=5\n",
            "\u001b[32m[I 2021-11-29 02:44:02,475]\u001b[0m Trial 86 finished with value: 0.9634809634809635 and parameters: {'learning_rate': 0.16246509342725085, 'n_estimators': 86, 'colsample_bytree': 0.5158670585121542, 'max_depth': 17, 'num_leaves': 185, 'lambda_l1': 0.0003268701188925462, 'lambda_l2': 0.029974902257394104, 'min_split_gain': 0.5986860803457581, 'min_child_samples': 66, 'subsample': 3, 'subsample_freq': 26, 'feature_fraction': 0.8962624586938273, 'bagging_fraction': 0.5711799566782604, 'bagging_freq': 5}. Best is trial 0 with value: 0.9634809634809635.\u001b[0m\n",
            "[LightGBM] [Warning] feature_fraction is set=0.9338211469252957, colsample_bytree=0.5328150943650981 will be ignored. Current value: feature_fraction=0.9338211469252957\n",
            "[LightGBM] [Warning] lambda_l1 is set=0.0006684297242394036, reg_alpha=0.0 will be ignored. Current value: lambda_l1=0.0006684297242394036\n",
            "[LightGBM] [Warning] bagging_fraction is set=0.9740683033705906, subsample=3 will be ignored. Current value: bagging_fraction=0.9740683033705906\n",
            "[LightGBM] [Warning] lambda_l2 is set=0.006349062300874215, reg_lambda=0.0 will be ignored. Current value: lambda_l2=0.006349062300874215\n",
            "[LightGBM] [Warning] bagging_freq is set=3, subsample_freq=20 will be ignored. Current value: bagging_freq=3\n",
            "\u001b[32m[I 2021-11-29 02:44:04,398]\u001b[0m Trial 87 finished with value: 0.9634809634809635 and parameters: {'learning_rate': 0.07264922357255807, 'n_estimators': 125, 'colsample_bytree': 0.5328150943650981, 'max_depth': 16, 'num_leaves': 196, 'lambda_l1': 0.0006684297242394036, 'lambda_l2': 0.006349062300874215, 'min_split_gain': 0.5892843845378076, 'min_child_samples': 61, 'subsample': 3, 'subsample_freq': 20, 'feature_fraction': 0.9338211469252957, 'bagging_fraction': 0.9740683033705906, 'bagging_freq': 3}. Best is trial 0 with value: 0.9634809634809635.\u001b[0m\n",
            "[LightGBM] [Warning] feature_fraction is set=0.9468341657797461, colsample_bytree=0.5020699773133199 will be ignored. Current value: feature_fraction=0.9468341657797461\n",
            "[LightGBM] [Warning] lambda_l1 is set=0.002056896296073277, reg_alpha=0.0 will be ignored. Current value: lambda_l1=0.002056896296073277\n",
            "[LightGBM] [Warning] bagging_fraction is set=0.7699155366021526, subsample=3 will be ignored. Current value: bagging_fraction=0.7699155366021526\n",
            "[LightGBM] [Warning] lambda_l2 is set=0.001331178366757273, reg_lambda=0.0 will be ignored. Current value: lambda_l2=0.001331178366757273\n",
            "[LightGBM] [Warning] bagging_freq is set=2, subsample_freq=20 will be ignored. Current value: bagging_freq=2\n",
            "\u001b[32m[I 2021-11-29 02:44:08,667]\u001b[0m Trial 88 finished with value: 0.9634809634809635 and parameters: {'learning_rate': 0.014378208028145314, 'n_estimators': 177, 'colsample_bytree': 0.5020699773133199, 'max_depth': 19, 'num_leaves': 189, 'lambda_l1': 0.002056896296073277, 'lambda_l2': 0.001331178366757273, 'min_split_gain': 0.6312355262632802, 'min_child_samples': 69, 'subsample': 3, 'subsample_freq': 20, 'feature_fraction': 0.9468341657797461, 'bagging_fraction': 0.7699155366021526, 'bagging_freq': 2}. Best is trial 0 with value: 0.9634809634809635.\u001b[0m\n",
            "[LightGBM] [Warning] feature_fraction is set=0.9834199931888336, colsample_bytree=0.5718302581439186 will be ignored. Current value: feature_fraction=0.9834199931888336\n",
            "[LightGBM] [Warning] lambda_l1 is set=0.0012875539074116925, reg_alpha=0.0 will be ignored. Current value: lambda_l1=0.0012875539074116925\n",
            "[LightGBM] [Warning] bagging_fraction is set=0.9297580829081115, subsample=2 will be ignored. Current value: bagging_fraction=0.9297580829081115\n",
            "[LightGBM] [Warning] lambda_l2 is set=0.01614106295304149, reg_lambda=0.0 will be ignored. Current value: lambda_l2=0.01614106295304149\n",
            "[LightGBM] [Warning] bagging_freq is set=3, subsample_freq=21 will be ignored. Current value: bagging_freq=3\n",
            "\u001b[32m[I 2021-11-29 02:44:12,002]\u001b[0m Trial 89 finished with value: 0.9634809634809635 and parameters: {'learning_rate': 0.03026665590015412, 'n_estimators': 167, 'colsample_bytree': 0.5718302581439186, 'max_depth': 18, 'num_leaves': 176, 'lambda_l1': 0.0012875539074116925, 'lambda_l2': 0.01614106295304149, 'min_split_gain': 0.9574754896363316, 'min_child_samples': 65, 'subsample': 2, 'subsample_freq': 21, 'feature_fraction': 0.9834199931888336, 'bagging_fraction': 0.9297580829081115, 'bagging_freq': 3}. Best is trial 0 with value: 0.9634809634809635.\u001b[0m\n",
            "[LightGBM] [Warning] feature_fraction is set=0.5428158652069159, colsample_bytree=0.5990493687097214 will be ignored. Current value: feature_fraction=0.5428158652069159\n",
            "[LightGBM] [Warning] lambda_l1 is set=0.011779406640970425, reg_alpha=0.0 will be ignored. Current value: lambda_l1=0.011779406640970425\n",
            "[LightGBM] [Warning] bagging_fraction is set=0.6152245606271131, subsample=2 will be ignored. Current value: bagging_fraction=0.6152245606271131\n",
            "[LightGBM] [Warning] lambda_l2 is set=0.004043001808960511, reg_lambda=0.0 will be ignored. Current value: lambda_l2=0.004043001808960511\n",
            "[LightGBM] [Warning] bagging_freq is set=4, subsample_freq=26 will be ignored. Current value: bagging_freq=4\n",
            "\u001b[32m[I 2021-11-29 02:44:14,001]\u001b[0m Trial 90 finished with value: 0.9634809634809635 and parameters: {'learning_rate': 0.04290082743545564, 'n_estimators': 152, 'colsample_bytree': 0.5990493687097214, 'max_depth': 19, 'num_leaves': 168, 'lambda_l1': 0.011779406640970425, 'lambda_l2': 0.004043001808960511, 'min_split_gain': 0.5603577006408708, 'min_child_samples': 63, 'subsample': 2, 'subsample_freq': 26, 'feature_fraction': 0.5428158652069159, 'bagging_fraction': 0.6152245606271131, 'bagging_freq': 4}. Best is trial 0 with value: 0.9634809634809635.\u001b[0m\n",
            "[LightGBM] [Warning] feature_fraction is set=0.5066444992771876, colsample_bytree=0.5377645216681798 will be ignored. Current value: feature_fraction=0.5066444992771876\n",
            "[LightGBM] [Warning] lambda_l1 is set=1.288289353636203e-05, reg_alpha=0.0 will be ignored. Current value: lambda_l1=1.288289353636203e-05\n",
            "[LightGBM] [Warning] bagging_fraction is set=0.6515411569327516, subsample=3 will be ignored. Current value: bagging_fraction=0.6515411569327516\n",
            "[LightGBM] [Warning] lambda_l2 is set=0.13115953270546074, reg_lambda=0.0 will be ignored. Current value: lambda_l2=0.13115953270546074\n",
            "[LightGBM] [Warning] bagging_freq is set=4, subsample_freq=29 will be ignored. Current value: bagging_freq=4\n",
            "\u001b[32m[I 2021-11-29 02:44:17,186]\u001b[0m Trial 91 finished with value: 0.9634809634809635 and parameters: {'learning_rate': 0.039727619697903185, 'n_estimators': 143, 'colsample_bytree': 0.5377645216681798, 'max_depth': 27, 'num_leaves': 182, 'lambda_l1': 1.288289353636203e-05, 'lambda_l2': 0.13115953270546074, 'min_split_gain': 0.5441556532067335, 'min_child_samples': 6, 'subsample': 3, 'subsample_freq': 29, 'feature_fraction': 0.5066444992771876, 'bagging_fraction': 0.6515411569327516, 'bagging_freq': 4}. Best is trial 0 with value: 0.9634809634809635.\u001b[0m\n",
            "[LightGBM] [Warning] feature_fraction is set=0.5704038769901012, colsample_bytree=0.582865550293309 will be ignored. Current value: feature_fraction=0.5704038769901012\n",
            "[LightGBM] [Warning] lambda_l1 is set=0.0007417641578011185, reg_alpha=0.0 will be ignored. Current value: lambda_l1=0.0007417641578011185\n",
            "[LightGBM] [Warning] bagging_fraction is set=0.7172791622516523, subsample=3 will be ignored. Current value: bagging_fraction=0.7172791622516523\n",
            "[LightGBM] [Warning] lambda_l2 is set=0.02880809461025356, reg_lambda=0.0 will be ignored. Current value: lambda_l2=0.02880809461025356\n",
            "[LightGBM] [Warning] bagging_freq is set=3, subsample_freq=29 will be ignored. Current value: bagging_freq=3\n",
            "\u001b[32m[I 2021-11-29 02:44:19,184]\u001b[0m Trial 92 finished with value: 0.9634809634809635 and parameters: {'learning_rate': 0.047656670289621055, 'n_estimators': 137, 'colsample_bytree': 0.582865550293309, 'max_depth': 26, 'num_leaves': 191, 'lambda_l1': 0.0007417641578011185, 'lambda_l2': 0.02880809461025356, 'min_split_gain': 0.575619509535473, 'min_child_samples': 81, 'subsample': 3, 'subsample_freq': 29, 'feature_fraction': 0.5704038769901012, 'bagging_fraction': 0.7172791622516523, 'bagging_freq': 3}. Best is trial 0 with value: 0.9634809634809635.\u001b[0m\n",
            "[LightGBM] [Warning] feature_fraction is set=0.4952240870923692, colsample_bytree=0.6714372243558485 will be ignored. Current value: feature_fraction=0.4952240870923692\n",
            "[LightGBM] [Warning] lambda_l1 is set=2.119399135644323e-05, reg_alpha=0.0 will be ignored. Current value: lambda_l1=2.119399135644323e-05\n",
            "[LightGBM] [Warning] bagging_fraction is set=0.6767840964221745, subsample=3 will be ignored. Current value: bagging_fraction=0.6767840964221745\n",
            "[LightGBM] [Warning] lambda_l2 is set=0.002043388681792877, reg_lambda=0.0 will be ignored. Current value: lambda_l2=0.002043388681792877\n",
            "[LightGBM] [Warning] bagging_freq is set=4, subsample_freq=29 will be ignored. Current value: bagging_freq=4\n",
            "\u001b[32m[I 2021-11-29 02:44:20,786]\u001b[0m Trial 93 finished with value: 0.9634809634809635 and parameters: {'learning_rate': 0.06372527436630154, 'n_estimators': 147, 'colsample_bytree': 0.6714372243558485, 'max_depth': 29, 'num_leaves': 200, 'lambda_l1': 2.119399135644323e-05, 'lambda_l2': 0.002043388681792877, 'min_split_gain': 0.6139386312813936, 'min_child_samples': 76, 'subsample': 3, 'subsample_freq': 29, 'feature_fraction': 0.4952240870923692, 'bagging_fraction': 0.6767840964221745, 'bagging_freq': 4}. Best is trial 0 with value: 0.9634809634809635.\u001b[0m\n",
            "[LightGBM] [Warning] feature_fraction is set=0.5955384028164457, colsample_bytree=0.6599630252920804 will be ignored. Current value: feature_fraction=0.5955384028164457\n",
            "[LightGBM] [Warning] lambda_l1 is set=0.00021577107918582138, reg_alpha=0.0 will be ignored. Current value: lambda_l1=0.00021577107918582138\n",
            "[LightGBM] [Warning] bagging_fraction is set=0.6879679037062031, subsample=2 will be ignored. Current value: bagging_fraction=0.6879679037062031\n",
            "[LightGBM] [Warning] lambda_l2 is set=1.4174513567123026, reg_lambda=0.0 will be ignored. Current value: lambda_l2=1.4174513567123026\n",
            "[LightGBM] [Warning] bagging_freq is set=4, subsample_freq=27 will be ignored. Current value: bagging_freq=4\n",
            "\u001b[32m[I 2021-11-29 02:44:22,647]\u001b[0m Trial 94 finished with value: 0.9634809634809635 and parameters: {'learning_rate': 0.035625615508494114, 'n_estimators': 167, 'colsample_bytree': 0.6599630252920804, 'max_depth': 26, 'num_leaves': 155, 'lambda_l1': 0.00021577107918582138, 'lambda_l2': 1.4174513567123026, 'min_split_gain': 1.0562437172625543, 'min_child_samples': 70, 'subsample': 2, 'subsample_freq': 27, 'feature_fraction': 0.5955384028164457, 'bagging_fraction': 0.6879679037062031, 'bagging_freq': 4}. Best is trial 0 with value: 0.9634809634809635.\u001b[0m\n",
            "[LightGBM] [Warning] feature_fraction is set=0.6775350543830586, colsample_bytree=0.6976212791077074 will be ignored. Current value: feature_fraction=0.6775350543830586\n",
            "[LightGBM] [Warning] lambda_l1 is set=0.3719762928283522, reg_alpha=0.0 will be ignored. Current value: lambda_l1=0.3719762928283522\n",
            "[LightGBM] [Warning] bagging_fraction is set=0.9607334502673744, subsample=2 will be ignored. Current value: bagging_fraction=0.9607334502673744\n",
            "[LightGBM] [Warning] lambda_l2 is set=0.0005107618233080336, reg_lambda=0.0 will be ignored. Current value: lambda_l2=0.0005107618233080336\n",
            "[LightGBM] [Warning] bagging_freq is set=3, subsample_freq=30 will be ignored. Current value: bagging_freq=3\n",
            "\u001b[32m[I 2021-11-29 02:44:24,161]\u001b[0m Trial 95 finished with value: 0.9634809634809635 and parameters: {'learning_rate': 0.06140421019095141, 'n_estimators': 197, 'colsample_bytree': 0.6976212791077074, 'max_depth': 16, 'num_leaves': 50, 'lambda_l1': 0.3719762928283522, 'lambda_l2': 0.0005107618233080336, 'min_split_gain': 1.3734160720145003, 'min_child_samples': 73, 'subsample': 2, 'subsample_freq': 30, 'feature_fraction': 0.6775350543830586, 'bagging_fraction': 0.9607334502673744, 'bagging_freq': 3}. Best is trial 0 with value: 0.9634809634809635.\u001b[0m\n",
            "[LightGBM] [Warning] feature_fraction is set=0.641962211335379, colsample_bytree=0.6213138985780626 will be ignored. Current value: feature_fraction=0.641962211335379\n",
            "[LightGBM] [Warning] lambda_l1 is set=5.316947627760042, reg_alpha=0.0 will be ignored. Current value: lambda_l1=5.316947627760042\n",
            "[LightGBM] [Warning] bagging_fraction is set=0.6351462350709836, subsample=3 will be ignored. Current value: bagging_fraction=0.6351462350709836\n",
            "[LightGBM] [Warning] lambda_l2 is set=0.9181899474925999, reg_lambda=0.0 will be ignored. Current value: lambda_l2=0.9181899474925999\n",
            "[LightGBM] [Warning] bagging_freq is set=4, subsample_freq=30 will be ignored. Current value: bagging_freq=4\n",
            "\u001b[32m[I 2021-11-29 02:44:24,821]\u001b[0m Trial 96 finished with value: 0.9634809634809635 and parameters: {'learning_rate': 0.022636380193818455, 'n_estimators': 52, 'colsample_bytree': 0.6213138985780626, 'max_depth': 28, 'num_leaves': 55, 'lambda_l1': 5.316947627760042, 'lambda_l2': 0.9181899474925999, 'min_split_gain': 1.4858243709131076, 'min_child_samples': 79, 'subsample': 3, 'subsample_freq': 30, 'feature_fraction': 0.641962211335379, 'bagging_fraction': 0.6351462350709836, 'bagging_freq': 4}. Best is trial 0 with value: 0.9634809634809635.\u001b[0m\n",
            "[LightGBM] [Warning] feature_fraction is set=0.5848242248164061, colsample_bytree=0.6385473089330488 will be ignored. Current value: feature_fraction=0.5848242248164061\n",
            "[LightGBM] [Warning] lambda_l1 is set=1.6908588651441068, reg_alpha=0.0 will be ignored. Current value: lambda_l1=1.6908588651441068\n",
            "[LightGBM] [Warning] bagging_fraction is set=0.6393427047013541, subsample=3 will be ignored. Current value: bagging_fraction=0.6393427047013541\n",
            "[LightGBM] [Warning] lambda_l2 is set=5.092776652840123, reg_lambda=0.0 will be ignored. Current value: lambda_l2=5.092776652840123\n",
            "[LightGBM] [Warning] bagging_freq is set=3, subsample_freq=28 will be ignored. Current value: bagging_freq=3\n",
            "\u001b[32m[I 2021-11-29 02:44:25,770]\u001b[0m Trial 97 finished with value: 0.9634809634809635 and parameters: {'learning_rate': 0.02942297039446437, 'n_estimators': 58, 'colsample_bytree': 0.6385473089330488, 'max_depth': 23, 'num_leaves': 53, 'lambda_l1': 1.6908588651441068, 'lambda_l2': 5.092776652840123, 'min_split_gain': 1.2805792209916735, 'min_child_samples': 27, 'subsample': 3, 'subsample_freq': 28, 'feature_fraction': 0.5848242248164061, 'bagging_fraction': 0.6393427047013541, 'bagging_freq': 3}. Best is trial 0 with value: 0.9634809634809635.\u001b[0m\n",
            "[LightGBM] [Warning] feature_fraction is set=0.548045647003884, colsample_bytree=0.6013880004177538 will be ignored. Current value: feature_fraction=0.548045647003884\n",
            "[LightGBM] [Warning] lambda_l1 is set=0.05520367416009939, reg_alpha=0.0 will be ignored. Current value: lambda_l1=0.05520367416009939\n",
            "[LightGBM] [Warning] bagging_fraction is set=0.5932774079963041, subsample=1 will be ignored. Current value: bagging_fraction=0.5932774079963041\n",
            "[LightGBM] [Warning] lambda_l2 is set=2.4596589034095998e-08, reg_lambda=0.0 will be ignored. Current value: lambda_l2=2.4596589034095998e-08\n",
            "[LightGBM] [Warning] bagging_freq is set=1, subsample_freq=28 will be ignored. Current value: bagging_freq=1\n",
            "\u001b[32m[I 2021-11-29 02:44:26,556]\u001b[0m Trial 98 finished with value: 0.9634809634809635 and parameters: {'learning_rate': 0.034949404290333205, 'n_estimators': 52, 'colsample_bytree': 0.6013880004177538, 'max_depth': 25, 'num_leaves': 68, 'lambda_l1': 0.05520367416009939, 'lambda_l2': 2.4596589034095998e-08, 'min_split_gain': 1.2519121548198158, 'min_child_samples': 86, 'subsample': 1, 'subsample_freq': 28, 'feature_fraction': 0.548045647003884, 'bagging_fraction': 0.5932774079963041, 'bagging_freq': 1}. Best is trial 0 with value: 0.9634809634809635.\u001b[0m\n",
            "[LightGBM] [Warning] feature_fraction is set=0.4422496955277611, colsample_bytree=0.5868503830460305 will be ignored. Current value: feature_fraction=0.4422496955277611\n",
            "[LightGBM] [Warning] lambda_l1 is set=2.209783829924944e-08, reg_alpha=0.0 will be ignored. Current value: lambda_l1=2.209783829924944e-08\n",
            "[LightGBM] [Warning] bagging_fraction is set=0.6068256288741092, subsample=1 will be ignored. Current value: bagging_fraction=0.6068256288741092\n",
            "[LightGBM] [Warning] lambda_l2 is set=6.252149213625867e-07, reg_lambda=0.0 will be ignored. Current value: lambda_l2=6.252149213625867e-07\n",
            "[LightGBM] [Warning] bagging_freq is set=2, subsample_freq=30 will be ignored. Current value: bagging_freq=2\n",
            "\u001b[32m[I 2021-11-29 02:44:27,481]\u001b[0m Trial 99 finished with value: 0.9634809634809635 and parameters: {'learning_rate': 0.017328585855781647, 'n_estimators': 60, 'colsample_bytree': 0.5868503830460305, 'max_depth': 21, 'num_leaves': 59, 'lambda_l1': 2.209783829924944e-08, 'lambda_l2': 6.252149213625867e-07, 'min_split_gain': 1.34582140899918, 'min_child_samples': 76, 'subsample': 1, 'subsample_freq': 30, 'feature_fraction': 0.4422496955277611, 'bagging_fraction': 0.6068256288741092, 'bagging_freq': 2}. Best is trial 0 with value: 0.9634809634809635.\u001b[0m\n",
            "{'learning_rate': 0.5849784287296567, 'n_estimators': 63, 'colsample_bytree': 0.6660642705413073, 'max_depth': 16, 'num_leaves': 98, 'lambda_l1': 3.0360851321371576e-05, 'lambda_l2': 3.621526039936721e-07, 'min_split_gain': 0.6183531464762069, 'min_child_samples': 16, 'subsample': 1, 'subsample_freq': 20, 'feature_fraction': 0.9926385557978826, 'bagging_fraction': 0.6614108224032196, 'bagging_freq': 7}\n"
          ]
        },
        {
          "data": {
            "application/vnd.plotly.v1+json": {
              "config": {
                "plotlyServerURL": "https://plot.ly"
              },
              "data": [
                {
                  "mode": "markers",
                  "name": "Objective Value",
                  "type": "scatter",
                  "x": [
                    0,
                    1,
                    2,
                    3,
                    4,
                    5,
                    6,
                    7,
                    8,
                    9,
                    10,
                    11,
                    12,
                    13,
                    14,
                    15,
                    16,
                    17,
                    18,
                    19,
                    20,
                    21,
                    22,
                    23,
                    24,
                    25,
                    26,
                    27,
                    28,
                    29,
                    30,
                    31,
                    32,
                    33,
                    34,
                    35,
                    36,
                    37,
                    38,
                    39,
                    40,
                    41,
                    42,
                    43,
                    44,
                    45,
                    46,
                    47,
                    48,
                    49,
                    50,
                    51,
                    52,
                    53,
                    54,
                    55,
                    56,
                    57,
                    58,
                    59,
                    60,
                    61,
                    62,
                    63,
                    64,
                    65,
                    66,
                    67,
                    68,
                    69,
                    70,
                    71,
                    72,
                    73,
                    74,
                    75,
                    76,
                    77,
                    78,
                    79,
                    80,
                    81,
                    82,
                    83,
                    84,
                    85,
                    86,
                    87,
                    88,
                    89,
                    90,
                    91,
                    92,
                    93,
                    94,
                    95,
                    96,
                    97,
                    98,
                    99
                  ],
                  "y": [
                    0.9634809634809635,
                    0.9634809634809635,
                    0.9634809634809635,
                    0.9634809634809635,
                    0.9634809634809635,
                    0.9634809634809635,
                    0.9634809634809635,
                    0.9634809634809635,
                    0.9634809634809635,
                    0.9634809634809635,
                    0.9634809634809635,
                    0.9634809634809635,
                    0.9634809634809635,
                    0.9634809634809635,
                    0.9634809634809635,
                    0.9634809634809635,
                    0.9634809634809635,
                    0.9634809634809635,
                    0.9634809634809635,
                    0.9634809634809635,
                    0.9634809634809635,
                    0.9634809634809635,
                    0.9634809634809635,
                    0.9634809634809635,
                    0.9634809634809635,
                    0.9634809634809635,
                    0.9634809634809635,
                    0.9634809634809635,
                    0.9634809634809635,
                    0.9634809634809635,
                    0.9634809634809635,
                    0.9634809634809635,
                    0.9634809634809635,
                    0.9634809634809635,
                    0.9634809634809635,
                    0.9634809634809635,
                    0.9634809634809635,
                    0.9634809634809635,
                    0.9634809634809635,
                    0.9634809634809635,
                    0.9634809634809635,
                    0.9634809634809635,
                    0.9634809634809635,
                    0.9634809634809635,
                    0.9634809634809635,
                    0.9634809634809635,
                    0.9634809634809635,
                    0.9634809634809635,
                    0.9634809634809635,
                    0.9634809634809635,
                    0.9634809634809635,
                    0.9634809634809635,
                    0.9634809634809635,
                    0.9634809634809635,
                    0.9634809634809635,
                    0.9634809634809635,
                    0.9634809634809635,
                    0.9634809634809635,
                    0.9634809634809635,
                    0.9634809634809635,
                    0.9634809634809635,
                    0.9634809634809635,
                    0.9634809634809635,
                    0.9634809634809635,
                    0.9634809634809635,
                    0.9634809634809635,
                    0.9634809634809635,
                    0.9634809634809635,
                    0.9634809634809635,
                    0.9634809634809635,
                    0.9634809634809635,
                    0.9634809634809635,
                    0.9634809634809635,
                    0.9634809634809635,
                    0.9634809634809635,
                    0.9634809634809635,
                    0.9634809634809635,
                    0.9634809634809635,
                    0.9634809634809635,
                    0.9634809634809635,
                    0.9634809634809635,
                    0.9634809634809635,
                    0.9634809634809635,
                    0.9634809634809635,
                    0.9634809634809635,
                    0.9634809634809635,
                    0.9634809634809635,
                    0.9634809634809635,
                    0.9634809634809635,
                    0.9634809634809635,
                    0.9634809634809635,
                    0.9634809634809635,
                    0.9634809634809635,
                    0.9634809634809635,
                    0.9634809634809635,
                    0.9634809634809635,
                    0.9634809634809635,
                    0.9634809634809635,
                    0.9634809634809635,
                    0.9634809634809635
                  ]
                },
                {
                  "name": "Best Value",
                  "type": "scatter",
                  "x": [
                    0,
                    1,
                    2,
                    3,
                    4,
                    5,
                    6,
                    7,
                    8,
                    9,
                    10,
                    11,
                    12,
                    13,
                    14,
                    15,
                    16,
                    17,
                    18,
                    19,
                    20,
                    21,
                    22,
                    23,
                    24,
                    25,
                    26,
                    27,
                    28,
                    29,
                    30,
                    31,
                    32,
                    33,
                    34,
                    35,
                    36,
                    37,
                    38,
                    39,
                    40,
                    41,
                    42,
                    43,
                    44,
                    45,
                    46,
                    47,
                    48,
                    49,
                    50,
                    51,
                    52,
                    53,
                    54,
                    55,
                    56,
                    57,
                    58,
                    59,
                    60,
                    61,
                    62,
                    63,
                    64,
                    65,
                    66,
                    67,
                    68,
                    69,
                    70,
                    71,
                    72,
                    73,
                    74,
                    75,
                    76,
                    77,
                    78,
                    79,
                    80,
                    81,
                    82,
                    83,
                    84,
                    85,
                    86,
                    87,
                    88,
                    89,
                    90,
                    91,
                    92,
                    93,
                    94,
                    95,
                    96,
                    97,
                    98,
                    99
                  ],
                  "y": [
                    0.9634809634809635,
                    0.9634809634809635,
                    0.9634809634809635,
                    0.9634809634809635,
                    0.9634809634809635,
                    0.9634809634809635,
                    0.9634809634809635,
                    0.9634809634809635,
                    0.9634809634809635,
                    0.9634809634809635,
                    0.9634809634809635,
                    0.9634809634809635,
                    0.9634809634809635,
                    0.9634809634809635,
                    0.9634809634809635,
                    0.9634809634809635,
                    0.9634809634809635,
                    0.9634809634809635,
                    0.9634809634809635,
                    0.9634809634809635,
                    0.9634809634809635,
                    0.9634809634809635,
                    0.9634809634809635,
                    0.9634809634809635,
                    0.9634809634809635,
                    0.9634809634809635,
                    0.9634809634809635,
                    0.9634809634809635,
                    0.9634809634809635,
                    0.9634809634809635,
                    0.9634809634809635,
                    0.9634809634809635,
                    0.9634809634809635,
                    0.9634809634809635,
                    0.9634809634809635,
                    0.9634809634809635,
                    0.9634809634809635,
                    0.9634809634809635,
                    0.9634809634809635,
                    0.9634809634809635,
                    0.9634809634809635,
                    0.9634809634809635,
                    0.9634809634809635,
                    0.9634809634809635,
                    0.9634809634809635,
                    0.9634809634809635,
                    0.9634809634809635,
                    0.9634809634809635,
                    0.9634809634809635,
                    0.9634809634809635,
                    0.9634809634809635,
                    0.9634809634809635,
                    0.9634809634809635,
                    0.9634809634809635,
                    0.9634809634809635,
                    0.9634809634809635,
                    0.9634809634809635,
                    0.9634809634809635,
                    0.9634809634809635,
                    0.9634809634809635,
                    0.9634809634809635,
                    0.9634809634809635,
                    0.9634809634809635,
                    0.9634809634809635,
                    0.9634809634809635,
                    0.9634809634809635,
                    0.9634809634809635,
                    0.9634809634809635,
                    0.9634809634809635,
                    0.9634809634809635,
                    0.9634809634809635,
                    0.9634809634809635,
                    0.9634809634809635,
                    0.9634809634809635,
                    0.9634809634809635,
                    0.9634809634809635,
                    0.9634809634809635,
                    0.9634809634809635,
                    0.9634809634809635,
                    0.9634809634809635,
                    0.9634809634809635,
                    0.9634809634809635,
                    0.9634809634809635,
                    0.9634809634809635,
                    0.9634809634809635,
                    0.9634809634809635,
                    0.9634809634809635,
                    0.9634809634809635,
                    0.9634809634809635,
                    0.9634809634809635,
                    0.9634809634809635,
                    0.9634809634809635,
                    0.9634809634809635,
                    0.9634809634809635,
                    0.9634809634809635,
                    0.9634809634809635,
                    0.9634809634809635,
                    0.9634809634809635,
                    0.9634809634809635,
                    0.9634809634809635
                  ]
                }
              ],
              "layout": {
                "template": {
                  "data": {
                    "bar": [
                      {
                        "error_x": {
                          "color": "#2a3f5f"
                        },
                        "error_y": {
                          "color": "#2a3f5f"
                        },
                        "marker": {
                          "line": {
                            "color": "#E5ECF6",
                            "width": 0.5
                          },
                          "pattern": {
                            "fillmode": "overlay",
                            "size": 10,
                            "solidity": 0.2
                          }
                        },
                        "type": "bar"
                      }
                    ],
                    "barpolar": [
                      {
                        "marker": {
                          "line": {
                            "color": "#E5ECF6",
                            "width": 0.5
                          },
                          "pattern": {
                            "fillmode": "overlay",
                            "size": 10,
                            "solidity": 0.2
                          }
                        },
                        "type": "barpolar"
                      }
                    ],
                    "carpet": [
                      {
                        "aaxis": {
                          "endlinecolor": "#2a3f5f",
                          "gridcolor": "white",
                          "linecolor": "white",
                          "minorgridcolor": "white",
                          "startlinecolor": "#2a3f5f"
                        },
                        "baxis": {
                          "endlinecolor": "#2a3f5f",
                          "gridcolor": "white",
                          "linecolor": "white",
                          "minorgridcolor": "white",
                          "startlinecolor": "#2a3f5f"
                        },
                        "type": "carpet"
                      }
                    ],
                    "choropleth": [
                      {
                        "colorbar": {
                          "outlinewidth": 0,
                          "ticks": ""
                        },
                        "type": "choropleth"
                      }
                    ],
                    "contour": [
                      {
                        "colorbar": {
                          "outlinewidth": 0,
                          "ticks": ""
                        },
                        "colorscale": [
                          [
                            0,
                            "#0d0887"
                          ],
                          [
                            0.1111111111111111,
                            "#46039f"
                          ],
                          [
                            0.2222222222222222,
                            "#7201a8"
                          ],
                          [
                            0.3333333333333333,
                            "#9c179e"
                          ],
                          [
                            0.4444444444444444,
                            "#bd3786"
                          ],
                          [
                            0.5555555555555556,
                            "#d8576b"
                          ],
                          [
                            0.6666666666666666,
                            "#ed7953"
                          ],
                          [
                            0.7777777777777778,
                            "#fb9f3a"
                          ],
                          [
                            0.8888888888888888,
                            "#fdca26"
                          ],
                          [
                            1,
                            "#f0f921"
                          ]
                        ],
                        "type": "contour"
                      }
                    ],
                    "contourcarpet": [
                      {
                        "colorbar": {
                          "outlinewidth": 0,
                          "ticks": ""
                        },
                        "type": "contourcarpet"
                      }
                    ],
                    "heatmap": [
                      {
                        "colorbar": {
                          "outlinewidth": 0,
                          "ticks": ""
                        },
                        "colorscale": [
                          [
                            0,
                            "#0d0887"
                          ],
                          [
                            0.1111111111111111,
                            "#46039f"
                          ],
                          [
                            0.2222222222222222,
                            "#7201a8"
                          ],
                          [
                            0.3333333333333333,
                            "#9c179e"
                          ],
                          [
                            0.4444444444444444,
                            "#bd3786"
                          ],
                          [
                            0.5555555555555556,
                            "#d8576b"
                          ],
                          [
                            0.6666666666666666,
                            "#ed7953"
                          ],
                          [
                            0.7777777777777778,
                            "#fb9f3a"
                          ],
                          [
                            0.8888888888888888,
                            "#fdca26"
                          ],
                          [
                            1,
                            "#f0f921"
                          ]
                        ],
                        "type": "heatmap"
                      }
                    ],
                    "heatmapgl": [
                      {
                        "colorbar": {
                          "outlinewidth": 0,
                          "ticks": ""
                        },
                        "colorscale": [
                          [
                            0,
                            "#0d0887"
                          ],
                          [
                            0.1111111111111111,
                            "#46039f"
                          ],
                          [
                            0.2222222222222222,
                            "#7201a8"
                          ],
                          [
                            0.3333333333333333,
                            "#9c179e"
                          ],
                          [
                            0.4444444444444444,
                            "#bd3786"
                          ],
                          [
                            0.5555555555555556,
                            "#d8576b"
                          ],
                          [
                            0.6666666666666666,
                            "#ed7953"
                          ],
                          [
                            0.7777777777777778,
                            "#fb9f3a"
                          ],
                          [
                            0.8888888888888888,
                            "#fdca26"
                          ],
                          [
                            1,
                            "#f0f921"
                          ]
                        ],
                        "type": "heatmapgl"
                      }
                    ],
                    "histogram": [
                      {
                        "marker": {
                          "pattern": {
                            "fillmode": "overlay",
                            "size": 10,
                            "solidity": 0.2
                          }
                        },
                        "type": "histogram"
                      }
                    ],
                    "histogram2d": [
                      {
                        "colorbar": {
                          "outlinewidth": 0,
                          "ticks": ""
                        },
                        "colorscale": [
                          [
                            0,
                            "#0d0887"
                          ],
                          [
                            0.1111111111111111,
                            "#46039f"
                          ],
                          [
                            0.2222222222222222,
                            "#7201a8"
                          ],
                          [
                            0.3333333333333333,
                            "#9c179e"
                          ],
                          [
                            0.4444444444444444,
                            "#bd3786"
                          ],
                          [
                            0.5555555555555556,
                            "#d8576b"
                          ],
                          [
                            0.6666666666666666,
                            "#ed7953"
                          ],
                          [
                            0.7777777777777778,
                            "#fb9f3a"
                          ],
                          [
                            0.8888888888888888,
                            "#fdca26"
                          ],
                          [
                            1,
                            "#f0f921"
                          ]
                        ],
                        "type": "histogram2d"
                      }
                    ],
                    "histogram2dcontour": [
                      {
                        "colorbar": {
                          "outlinewidth": 0,
                          "ticks": ""
                        },
                        "colorscale": [
                          [
                            0,
                            "#0d0887"
                          ],
                          [
                            0.1111111111111111,
                            "#46039f"
                          ],
                          [
                            0.2222222222222222,
                            "#7201a8"
                          ],
                          [
                            0.3333333333333333,
                            "#9c179e"
                          ],
                          [
                            0.4444444444444444,
                            "#bd3786"
                          ],
                          [
                            0.5555555555555556,
                            "#d8576b"
                          ],
                          [
                            0.6666666666666666,
                            "#ed7953"
                          ],
                          [
                            0.7777777777777778,
                            "#fb9f3a"
                          ],
                          [
                            0.8888888888888888,
                            "#fdca26"
                          ],
                          [
                            1,
                            "#f0f921"
                          ]
                        ],
                        "type": "histogram2dcontour"
                      }
                    ],
                    "mesh3d": [
                      {
                        "colorbar": {
                          "outlinewidth": 0,
                          "ticks": ""
                        },
                        "type": "mesh3d"
                      }
                    ],
                    "parcoords": [
                      {
                        "line": {
                          "colorbar": {
                            "outlinewidth": 0,
                            "ticks": ""
                          }
                        },
                        "type": "parcoords"
                      }
                    ],
                    "pie": [
                      {
                        "automargin": true,
                        "type": "pie"
                      }
                    ],
                    "scatter": [
                      {
                        "marker": {
                          "colorbar": {
                            "outlinewidth": 0,
                            "ticks": ""
                          }
                        },
                        "type": "scatter"
                      }
                    ],
                    "scatter3d": [
                      {
                        "line": {
                          "colorbar": {
                            "outlinewidth": 0,
                            "ticks": ""
                          }
                        },
                        "marker": {
                          "colorbar": {
                            "outlinewidth": 0,
                            "ticks": ""
                          }
                        },
                        "type": "scatter3d"
                      }
                    ],
                    "scattercarpet": [
                      {
                        "marker": {
                          "colorbar": {
                            "outlinewidth": 0,
                            "ticks": ""
                          }
                        },
                        "type": "scattercarpet"
                      }
                    ],
                    "scattergeo": [
                      {
                        "marker": {
                          "colorbar": {
                            "outlinewidth": 0,
                            "ticks": ""
                          }
                        },
                        "type": "scattergeo"
                      }
                    ],
                    "scattergl": [
                      {
                        "marker": {
                          "colorbar": {
                            "outlinewidth": 0,
                            "ticks": ""
                          }
                        },
                        "type": "scattergl"
                      }
                    ],
                    "scattermapbox": [
                      {
                        "marker": {
                          "colorbar": {
                            "outlinewidth": 0,
                            "ticks": ""
                          }
                        },
                        "type": "scattermapbox"
                      }
                    ],
                    "scatterpolar": [
                      {
                        "marker": {
                          "colorbar": {
                            "outlinewidth": 0,
                            "ticks": ""
                          }
                        },
                        "type": "scatterpolar"
                      }
                    ],
                    "scatterpolargl": [
                      {
                        "marker": {
                          "colorbar": {
                            "outlinewidth": 0,
                            "ticks": ""
                          }
                        },
                        "type": "scatterpolargl"
                      }
                    ],
                    "scatterternary": [
                      {
                        "marker": {
                          "colorbar": {
                            "outlinewidth": 0,
                            "ticks": ""
                          }
                        },
                        "type": "scatterternary"
                      }
                    ],
                    "surface": [
                      {
                        "colorbar": {
                          "outlinewidth": 0,
                          "ticks": ""
                        },
                        "colorscale": [
                          [
                            0,
                            "#0d0887"
                          ],
                          [
                            0.1111111111111111,
                            "#46039f"
                          ],
                          [
                            0.2222222222222222,
                            "#7201a8"
                          ],
                          [
                            0.3333333333333333,
                            "#9c179e"
                          ],
                          [
                            0.4444444444444444,
                            "#bd3786"
                          ],
                          [
                            0.5555555555555556,
                            "#d8576b"
                          ],
                          [
                            0.6666666666666666,
                            "#ed7953"
                          ],
                          [
                            0.7777777777777778,
                            "#fb9f3a"
                          ],
                          [
                            0.8888888888888888,
                            "#fdca26"
                          ],
                          [
                            1,
                            "#f0f921"
                          ]
                        ],
                        "type": "surface"
                      }
                    ],
                    "table": [
                      {
                        "cells": {
                          "fill": {
                            "color": "#EBF0F8"
                          },
                          "line": {
                            "color": "white"
                          }
                        },
                        "header": {
                          "fill": {
                            "color": "#C8D4E3"
                          },
                          "line": {
                            "color": "white"
                          }
                        },
                        "type": "table"
                      }
                    ]
                  },
                  "layout": {
                    "annotationdefaults": {
                      "arrowcolor": "#2a3f5f",
                      "arrowhead": 0,
                      "arrowwidth": 1
                    },
                    "autotypenumbers": "strict",
                    "coloraxis": {
                      "colorbar": {
                        "outlinewidth": 0,
                        "ticks": ""
                      }
                    },
                    "colorscale": {
                      "diverging": [
                        [
                          0,
                          "#8e0152"
                        ],
                        [
                          0.1,
                          "#c51b7d"
                        ],
                        [
                          0.2,
                          "#de77ae"
                        ],
                        [
                          0.3,
                          "#f1b6da"
                        ],
                        [
                          0.4,
                          "#fde0ef"
                        ],
                        [
                          0.5,
                          "#f7f7f7"
                        ],
                        [
                          0.6,
                          "#e6f5d0"
                        ],
                        [
                          0.7,
                          "#b8e186"
                        ],
                        [
                          0.8,
                          "#7fbc41"
                        ],
                        [
                          0.9,
                          "#4d9221"
                        ],
                        [
                          1,
                          "#276419"
                        ]
                      ],
                      "sequential": [
                        [
                          0,
                          "#0d0887"
                        ],
                        [
                          0.1111111111111111,
                          "#46039f"
                        ],
                        [
                          0.2222222222222222,
                          "#7201a8"
                        ],
                        [
                          0.3333333333333333,
                          "#9c179e"
                        ],
                        [
                          0.4444444444444444,
                          "#bd3786"
                        ],
                        [
                          0.5555555555555556,
                          "#d8576b"
                        ],
                        [
                          0.6666666666666666,
                          "#ed7953"
                        ],
                        [
                          0.7777777777777778,
                          "#fb9f3a"
                        ],
                        [
                          0.8888888888888888,
                          "#fdca26"
                        ],
                        [
                          1,
                          "#f0f921"
                        ]
                      ],
                      "sequentialminus": [
                        [
                          0,
                          "#0d0887"
                        ],
                        [
                          0.1111111111111111,
                          "#46039f"
                        ],
                        [
                          0.2222222222222222,
                          "#7201a8"
                        ],
                        [
                          0.3333333333333333,
                          "#9c179e"
                        ],
                        [
                          0.4444444444444444,
                          "#bd3786"
                        ],
                        [
                          0.5555555555555556,
                          "#d8576b"
                        ],
                        [
                          0.6666666666666666,
                          "#ed7953"
                        ],
                        [
                          0.7777777777777778,
                          "#fb9f3a"
                        ],
                        [
                          0.8888888888888888,
                          "#fdca26"
                        ],
                        [
                          1,
                          "#f0f921"
                        ]
                      ]
                    },
                    "colorway": [
                      "#636efa",
                      "#EF553B",
                      "#00cc96",
                      "#ab63fa",
                      "#FFA15A",
                      "#19d3f3",
                      "#FF6692",
                      "#B6E880",
                      "#FF97FF",
                      "#FECB52"
                    ],
                    "font": {
                      "color": "#2a3f5f"
                    },
                    "geo": {
                      "bgcolor": "white",
                      "lakecolor": "white",
                      "landcolor": "#E5ECF6",
                      "showlakes": true,
                      "showland": true,
                      "subunitcolor": "white"
                    },
                    "hoverlabel": {
                      "align": "left"
                    },
                    "hovermode": "closest",
                    "mapbox": {
                      "style": "light"
                    },
                    "paper_bgcolor": "white",
                    "plot_bgcolor": "#E5ECF6",
                    "polar": {
                      "angularaxis": {
                        "gridcolor": "white",
                        "linecolor": "white",
                        "ticks": ""
                      },
                      "bgcolor": "#E5ECF6",
                      "radialaxis": {
                        "gridcolor": "white",
                        "linecolor": "white",
                        "ticks": ""
                      }
                    },
                    "scene": {
                      "xaxis": {
                        "backgroundcolor": "#E5ECF6",
                        "gridcolor": "white",
                        "gridwidth": 2,
                        "linecolor": "white",
                        "showbackground": true,
                        "ticks": "",
                        "zerolinecolor": "white"
                      },
                      "yaxis": {
                        "backgroundcolor": "#E5ECF6",
                        "gridcolor": "white",
                        "gridwidth": 2,
                        "linecolor": "white",
                        "showbackground": true,
                        "ticks": "",
                        "zerolinecolor": "white"
                      },
                      "zaxis": {
                        "backgroundcolor": "#E5ECF6",
                        "gridcolor": "white",
                        "gridwidth": 2,
                        "linecolor": "white",
                        "showbackground": true,
                        "ticks": "",
                        "zerolinecolor": "white"
                      }
                    },
                    "shapedefaults": {
                      "line": {
                        "color": "#2a3f5f"
                      }
                    },
                    "ternary": {
                      "aaxis": {
                        "gridcolor": "white",
                        "linecolor": "white",
                        "ticks": ""
                      },
                      "baxis": {
                        "gridcolor": "white",
                        "linecolor": "white",
                        "ticks": ""
                      },
                      "bgcolor": "#E5ECF6",
                      "caxis": {
                        "gridcolor": "white",
                        "linecolor": "white",
                        "ticks": ""
                      }
                    },
                    "title": {
                      "x": 0.05
                    },
                    "xaxis": {
                      "automargin": true,
                      "gridcolor": "white",
                      "linecolor": "white",
                      "ticks": "",
                      "title": {
                        "standoff": 15
                      },
                      "zerolinecolor": "white",
                      "zerolinewidth": 2
                    },
                    "yaxis": {
                      "automargin": true,
                      "gridcolor": "white",
                      "linecolor": "white",
                      "ticks": "",
                      "title": {
                        "standoff": 15
                      },
                      "zerolinecolor": "white",
                      "zerolinewidth": 2
                    }
                  }
                },
                "title": {
                  "text": "Optimization History Plot"
                },
                "xaxis": {
                  "title": {
                    "text": "#Trials"
                  }
                },
                "yaxis": {
                  "title": {
                    "text": "Objective Value"
                  }
                }
              }
            },
            "text/html": "<div>                            <div id=\"5bf997db-5645-4097-90c5-d509c1902ad0\" class=\"plotly-graph-div\" style=\"height:525px; width:100%;\"></div>            <script type=\"text/javascript\">                require([\"plotly\"], function(Plotly) {                    window.PLOTLYENV=window.PLOTLYENV || {};                                    if (document.getElementById(\"5bf997db-5645-4097-90c5-d509c1902ad0\")) {                    Plotly.newPlot(                        \"5bf997db-5645-4097-90c5-d509c1902ad0\",                        [{\"mode\":\"markers\",\"name\":\"Objective Value\",\"type\":\"scatter\",\"x\":[0,1,2,3,4,5,6,7,8,9,10,11,12,13,14,15,16,17,18,19,20,21,22,23,24,25,26,27,28,29,30,31,32,33,34,35,36,37,38,39,40,41,42,43,44,45,46,47,48,49,50,51,52,53,54,55,56,57,58,59,60,61,62,63,64,65,66,67,68,69,70,71,72,73,74,75,76,77,78,79,80,81,82,83,84,85,86,87,88,89,90,91,92,93,94,95,96,97,98,99],\"y\":[0.9634809634809635,0.9634809634809635,0.9634809634809635,0.9634809634809635,0.9634809634809635,0.9634809634809635,0.9634809634809635,0.9634809634809635,0.9634809634809635,0.9634809634809635,0.9634809634809635,0.9634809634809635,0.9634809634809635,0.9634809634809635,0.9634809634809635,0.9634809634809635,0.9634809634809635,0.9634809634809635,0.9634809634809635,0.9634809634809635,0.9634809634809635,0.9634809634809635,0.9634809634809635,0.9634809634809635,0.9634809634809635,0.9634809634809635,0.9634809634809635,0.9634809634809635,0.9634809634809635,0.9634809634809635,0.9634809634809635,0.9634809634809635,0.9634809634809635,0.9634809634809635,0.9634809634809635,0.9634809634809635,0.9634809634809635,0.9634809634809635,0.9634809634809635,0.9634809634809635,0.9634809634809635,0.9634809634809635,0.9634809634809635,0.9634809634809635,0.9634809634809635,0.9634809634809635,0.9634809634809635,0.9634809634809635,0.9634809634809635,0.9634809634809635,0.9634809634809635,0.9634809634809635,0.9634809634809635,0.9634809634809635,0.9634809634809635,0.9634809634809635,0.9634809634809635,0.9634809634809635,0.9634809634809635,0.9634809634809635,0.9634809634809635,0.9634809634809635,0.9634809634809635,0.9634809634809635,0.9634809634809635,0.9634809634809635,0.9634809634809635,0.9634809634809635,0.9634809634809635,0.9634809634809635,0.9634809634809635,0.9634809634809635,0.9634809634809635,0.9634809634809635,0.9634809634809635,0.9634809634809635,0.9634809634809635,0.9634809634809635,0.9634809634809635,0.9634809634809635,0.9634809634809635,0.9634809634809635,0.9634809634809635,0.9634809634809635,0.9634809634809635,0.9634809634809635,0.9634809634809635,0.9634809634809635,0.9634809634809635,0.9634809634809635,0.9634809634809635,0.9634809634809635,0.9634809634809635,0.9634809634809635,0.9634809634809635,0.9634809634809635,0.9634809634809635,0.9634809634809635,0.9634809634809635,0.9634809634809635]},{\"name\":\"Best Value\",\"type\":\"scatter\",\"x\":[0,1,2,3,4,5,6,7,8,9,10,11,12,13,14,15,16,17,18,19,20,21,22,23,24,25,26,27,28,29,30,31,32,33,34,35,36,37,38,39,40,41,42,43,44,45,46,47,48,49,50,51,52,53,54,55,56,57,58,59,60,61,62,63,64,65,66,67,68,69,70,71,72,73,74,75,76,77,78,79,80,81,82,83,84,85,86,87,88,89,90,91,92,93,94,95,96,97,98,99],\"y\":[0.9634809634809635,0.9634809634809635,0.9634809634809635,0.9634809634809635,0.9634809634809635,0.9634809634809635,0.9634809634809635,0.9634809634809635,0.9634809634809635,0.9634809634809635,0.9634809634809635,0.9634809634809635,0.9634809634809635,0.9634809634809635,0.9634809634809635,0.9634809634809635,0.9634809634809635,0.9634809634809635,0.9634809634809635,0.9634809634809635,0.9634809634809635,0.9634809634809635,0.9634809634809635,0.9634809634809635,0.9634809634809635,0.9634809634809635,0.9634809634809635,0.9634809634809635,0.9634809634809635,0.9634809634809635,0.9634809634809635,0.9634809634809635,0.9634809634809635,0.9634809634809635,0.9634809634809635,0.9634809634809635,0.9634809634809635,0.9634809634809635,0.9634809634809635,0.9634809634809635,0.9634809634809635,0.9634809634809635,0.9634809634809635,0.9634809634809635,0.9634809634809635,0.9634809634809635,0.9634809634809635,0.9634809634809635,0.9634809634809635,0.9634809634809635,0.9634809634809635,0.9634809634809635,0.9634809634809635,0.9634809634809635,0.9634809634809635,0.9634809634809635,0.9634809634809635,0.9634809634809635,0.9634809634809635,0.9634809634809635,0.9634809634809635,0.9634809634809635,0.9634809634809635,0.9634809634809635,0.9634809634809635,0.9634809634809635,0.9634809634809635,0.9634809634809635,0.9634809634809635,0.9634809634809635,0.9634809634809635,0.9634809634809635,0.9634809634809635,0.9634809634809635,0.9634809634809635,0.9634809634809635,0.9634809634809635,0.9634809634809635,0.9634809634809635,0.9634809634809635,0.9634809634809635,0.9634809634809635,0.9634809634809635,0.9634809634809635,0.9634809634809635,0.9634809634809635,0.9634809634809635,0.9634809634809635,0.9634809634809635,0.9634809634809635,0.9634809634809635,0.9634809634809635,0.9634809634809635,0.9634809634809635,0.9634809634809635,0.9634809634809635,0.9634809634809635,0.9634809634809635,0.9634809634809635,0.9634809634809635]}],                        {\"template\":{\"data\":{\"bar\":[{\"error_x\":{\"color\":\"#2a3f5f\"},\"error_y\":{\"color\":\"#2a3f5f\"},\"marker\":{\"line\":{\"color\":\"#E5ECF6\",\"width\":0.5},\"pattern\":{\"fillmode\":\"overlay\",\"size\":10,\"solidity\":0.2}},\"type\":\"bar\"}],\"barpolar\":[{\"marker\":{\"line\":{\"color\":\"#E5ECF6\",\"width\":0.5},\"pattern\":{\"fillmode\":\"overlay\",\"size\":10,\"solidity\":0.2}},\"type\":\"barpolar\"}],\"carpet\":[{\"aaxis\":{\"endlinecolor\":\"#2a3f5f\",\"gridcolor\":\"white\",\"linecolor\":\"white\",\"minorgridcolor\":\"white\",\"startlinecolor\":\"#2a3f5f\"},\"baxis\":{\"endlinecolor\":\"#2a3f5f\",\"gridcolor\":\"white\",\"linecolor\":\"white\",\"minorgridcolor\":\"white\",\"startlinecolor\":\"#2a3f5f\"},\"type\":\"carpet\"}],\"choropleth\":[{\"colorbar\":{\"outlinewidth\":0,\"ticks\":\"\"},\"type\":\"choropleth\"}],\"contour\":[{\"colorbar\":{\"outlinewidth\":0,\"ticks\":\"\"},\"colorscale\":[[0.0,\"#0d0887\"],[0.1111111111111111,\"#46039f\"],[0.2222222222222222,\"#7201a8\"],[0.3333333333333333,\"#9c179e\"],[0.4444444444444444,\"#bd3786\"],[0.5555555555555556,\"#d8576b\"],[0.6666666666666666,\"#ed7953\"],[0.7777777777777778,\"#fb9f3a\"],[0.8888888888888888,\"#fdca26\"],[1.0,\"#f0f921\"]],\"type\":\"contour\"}],\"contourcarpet\":[{\"colorbar\":{\"outlinewidth\":0,\"ticks\":\"\"},\"type\":\"contourcarpet\"}],\"heatmap\":[{\"colorbar\":{\"outlinewidth\":0,\"ticks\":\"\"},\"colorscale\":[[0.0,\"#0d0887\"],[0.1111111111111111,\"#46039f\"],[0.2222222222222222,\"#7201a8\"],[0.3333333333333333,\"#9c179e\"],[0.4444444444444444,\"#bd3786\"],[0.5555555555555556,\"#d8576b\"],[0.6666666666666666,\"#ed7953\"],[0.7777777777777778,\"#fb9f3a\"],[0.8888888888888888,\"#fdca26\"],[1.0,\"#f0f921\"]],\"type\":\"heatmap\"}],\"heatmapgl\":[{\"colorbar\":{\"outlinewidth\":0,\"ticks\":\"\"},\"colorscale\":[[0.0,\"#0d0887\"],[0.1111111111111111,\"#46039f\"],[0.2222222222222222,\"#7201a8\"],[0.3333333333333333,\"#9c179e\"],[0.4444444444444444,\"#bd3786\"],[0.5555555555555556,\"#d8576b\"],[0.6666666666666666,\"#ed7953\"],[0.7777777777777778,\"#fb9f3a\"],[0.8888888888888888,\"#fdca26\"],[1.0,\"#f0f921\"]],\"type\":\"heatmapgl\"}],\"histogram\":[{\"marker\":{\"pattern\":{\"fillmode\":\"overlay\",\"size\":10,\"solidity\":0.2}},\"type\":\"histogram\"}],\"histogram2d\":[{\"colorbar\":{\"outlinewidth\":0,\"ticks\":\"\"},\"colorscale\":[[0.0,\"#0d0887\"],[0.1111111111111111,\"#46039f\"],[0.2222222222222222,\"#7201a8\"],[0.3333333333333333,\"#9c179e\"],[0.4444444444444444,\"#bd3786\"],[0.5555555555555556,\"#d8576b\"],[0.6666666666666666,\"#ed7953\"],[0.7777777777777778,\"#fb9f3a\"],[0.8888888888888888,\"#fdca26\"],[1.0,\"#f0f921\"]],\"type\":\"histogram2d\"}],\"histogram2dcontour\":[{\"colorbar\":{\"outlinewidth\":0,\"ticks\":\"\"},\"colorscale\":[[0.0,\"#0d0887\"],[0.1111111111111111,\"#46039f\"],[0.2222222222222222,\"#7201a8\"],[0.3333333333333333,\"#9c179e\"],[0.4444444444444444,\"#bd3786\"],[0.5555555555555556,\"#d8576b\"],[0.6666666666666666,\"#ed7953\"],[0.7777777777777778,\"#fb9f3a\"],[0.8888888888888888,\"#fdca26\"],[1.0,\"#f0f921\"]],\"type\":\"histogram2dcontour\"}],\"mesh3d\":[{\"colorbar\":{\"outlinewidth\":0,\"ticks\":\"\"},\"type\":\"mesh3d\"}],\"parcoords\":[{\"line\":{\"colorbar\":{\"outlinewidth\":0,\"ticks\":\"\"}},\"type\":\"parcoords\"}],\"pie\":[{\"automargin\":true,\"type\":\"pie\"}],\"scatter\":[{\"marker\":{\"colorbar\":{\"outlinewidth\":0,\"ticks\":\"\"}},\"type\":\"scatter\"}],\"scatter3d\":[{\"line\":{\"colorbar\":{\"outlinewidth\":0,\"ticks\":\"\"}},\"marker\":{\"colorbar\":{\"outlinewidth\":0,\"ticks\":\"\"}},\"type\":\"scatter3d\"}],\"scattercarpet\":[{\"marker\":{\"colorbar\":{\"outlinewidth\":0,\"ticks\":\"\"}},\"type\":\"scattercarpet\"}],\"scattergeo\":[{\"marker\":{\"colorbar\":{\"outlinewidth\":0,\"ticks\":\"\"}},\"type\":\"scattergeo\"}],\"scattergl\":[{\"marker\":{\"colorbar\":{\"outlinewidth\":0,\"ticks\":\"\"}},\"type\":\"scattergl\"}],\"scattermapbox\":[{\"marker\":{\"colorbar\":{\"outlinewidth\":0,\"ticks\":\"\"}},\"type\":\"scattermapbox\"}],\"scatterpolar\":[{\"marker\":{\"colorbar\":{\"outlinewidth\":0,\"ticks\":\"\"}},\"type\":\"scatterpolar\"}],\"scatterpolargl\":[{\"marker\":{\"colorbar\":{\"outlinewidth\":0,\"ticks\":\"\"}},\"type\":\"scatterpolargl\"}],\"scatterternary\":[{\"marker\":{\"colorbar\":{\"outlinewidth\":0,\"ticks\":\"\"}},\"type\":\"scatterternary\"}],\"surface\":[{\"colorbar\":{\"outlinewidth\":0,\"ticks\":\"\"},\"colorscale\":[[0.0,\"#0d0887\"],[0.1111111111111111,\"#46039f\"],[0.2222222222222222,\"#7201a8\"],[0.3333333333333333,\"#9c179e\"],[0.4444444444444444,\"#bd3786\"],[0.5555555555555556,\"#d8576b\"],[0.6666666666666666,\"#ed7953\"],[0.7777777777777778,\"#fb9f3a\"],[0.8888888888888888,\"#fdca26\"],[1.0,\"#f0f921\"]],\"type\":\"surface\"}],\"table\":[{\"cells\":{\"fill\":{\"color\":\"#EBF0F8\"},\"line\":{\"color\":\"white\"}},\"header\":{\"fill\":{\"color\":\"#C8D4E3\"},\"line\":{\"color\":\"white\"}},\"type\":\"table\"}]},\"layout\":{\"annotationdefaults\":{\"arrowcolor\":\"#2a3f5f\",\"arrowhead\":0,\"arrowwidth\":1},\"autotypenumbers\":\"strict\",\"coloraxis\":{\"colorbar\":{\"outlinewidth\":0,\"ticks\":\"\"}},\"colorscale\":{\"diverging\":[[0,\"#8e0152\"],[0.1,\"#c51b7d\"],[0.2,\"#de77ae\"],[0.3,\"#f1b6da\"],[0.4,\"#fde0ef\"],[0.5,\"#f7f7f7\"],[0.6,\"#e6f5d0\"],[0.7,\"#b8e186\"],[0.8,\"#7fbc41\"],[0.9,\"#4d9221\"],[1,\"#276419\"]],\"sequential\":[[0.0,\"#0d0887\"],[0.1111111111111111,\"#46039f\"],[0.2222222222222222,\"#7201a8\"],[0.3333333333333333,\"#9c179e\"],[0.4444444444444444,\"#bd3786\"],[0.5555555555555556,\"#d8576b\"],[0.6666666666666666,\"#ed7953\"],[0.7777777777777778,\"#fb9f3a\"],[0.8888888888888888,\"#fdca26\"],[1.0,\"#f0f921\"]],\"sequentialminus\":[[0.0,\"#0d0887\"],[0.1111111111111111,\"#46039f\"],[0.2222222222222222,\"#7201a8\"],[0.3333333333333333,\"#9c179e\"],[0.4444444444444444,\"#bd3786\"],[0.5555555555555556,\"#d8576b\"],[0.6666666666666666,\"#ed7953\"],[0.7777777777777778,\"#fb9f3a\"],[0.8888888888888888,\"#fdca26\"],[1.0,\"#f0f921\"]]},\"colorway\":[\"#636efa\",\"#EF553B\",\"#00cc96\",\"#ab63fa\",\"#FFA15A\",\"#19d3f3\",\"#FF6692\",\"#B6E880\",\"#FF97FF\",\"#FECB52\"],\"font\":{\"color\":\"#2a3f5f\"},\"geo\":{\"bgcolor\":\"white\",\"lakecolor\":\"white\",\"landcolor\":\"#E5ECF6\",\"showlakes\":true,\"showland\":true,\"subunitcolor\":\"white\"},\"hoverlabel\":{\"align\":\"left\"},\"hovermode\":\"closest\",\"mapbox\":{\"style\":\"light\"},\"paper_bgcolor\":\"white\",\"plot_bgcolor\":\"#E5ECF6\",\"polar\":{\"angularaxis\":{\"gridcolor\":\"white\",\"linecolor\":\"white\",\"ticks\":\"\"},\"bgcolor\":\"#E5ECF6\",\"radialaxis\":{\"gridcolor\":\"white\",\"linecolor\":\"white\",\"ticks\":\"\"}},\"scene\":{\"xaxis\":{\"backgroundcolor\":\"#E5ECF6\",\"gridcolor\":\"white\",\"gridwidth\":2,\"linecolor\":\"white\",\"showbackground\":true,\"ticks\":\"\",\"zerolinecolor\":\"white\"},\"yaxis\":{\"backgroundcolor\":\"#E5ECF6\",\"gridcolor\":\"white\",\"gridwidth\":2,\"linecolor\":\"white\",\"showbackground\":true,\"ticks\":\"\",\"zerolinecolor\":\"white\"},\"zaxis\":{\"backgroundcolor\":\"#E5ECF6\",\"gridcolor\":\"white\",\"gridwidth\":2,\"linecolor\":\"white\",\"showbackground\":true,\"ticks\":\"\",\"zerolinecolor\":\"white\"}},\"shapedefaults\":{\"line\":{\"color\":\"#2a3f5f\"}},\"ternary\":{\"aaxis\":{\"gridcolor\":\"white\",\"linecolor\":\"white\",\"ticks\":\"\"},\"baxis\":{\"gridcolor\":\"white\",\"linecolor\":\"white\",\"ticks\":\"\"},\"bgcolor\":\"#E5ECF6\",\"caxis\":{\"gridcolor\":\"white\",\"linecolor\":\"white\",\"ticks\":\"\"}},\"title\":{\"x\":0.05},\"xaxis\":{\"automargin\":true,\"gridcolor\":\"white\",\"linecolor\":\"white\",\"ticks\":\"\",\"title\":{\"standoff\":15},\"zerolinecolor\":\"white\",\"zerolinewidth\":2},\"yaxis\":{\"automargin\":true,\"gridcolor\":\"white\",\"linecolor\":\"white\",\"ticks\":\"\",\"title\":{\"standoff\":15},\"zerolinecolor\":\"white\",\"zerolinewidth\":2}}},\"title\":{\"text\":\"Optimization History Plot\"},\"xaxis\":{\"title\":{\"text\":\"#Trials\"}},\"yaxis\":{\"title\":{\"text\":\"Objective Value\"}}},                        {\"responsive\": true}                    ).then(function(){\n                            \nvar gd = document.getElementById('5bf997db-5645-4097-90c5-d509c1902ad0');\nvar x = new MutationObserver(function (mutations, observer) {{\n        var display = window.getComputedStyle(gd).display;\n        if (!display || display === 'none') {{\n            console.log([gd, 'removed!']);\n            Plotly.purge(gd);\n            observer.disconnect();\n        }}\n}});\n\n// Listen for the removal of the full notebook cells\nvar notebookContainer = gd.closest('#notebook-container');\nif (notebookContainer) {{\n    x.observe(notebookContainer, {childList: true});\n}}\n\n// Listen for the clearing of the current output cell\nvar outputEl = gd.closest('.output');\nif (outputEl) {{\n    x.observe(outputEl, {childList: true});\n}}\n\n                        })                };                });            </script>        </div>"
          },
          "metadata": {},
          "output_type": "display_data"
        }
      ]
    },
    {
      "cell_type": "code",
      "metadata": {
        "pycharm": {
          "name": "#%%\n"
        },
        "id": "FP09Y11-Ptfu",
        "outputId": "93c030db-77c5-460d-afce-d9f0cf380b78"
      },
      "source": [
        "print(\"best_params:\", study.best_params)\n",
        "print(\"Accuracy = %f\" % (study.best_value*100))"
      ],
      "execution_count": null,
      "outputs": [
        {
          "name": "stdout",
          "output_type": "stream",
          "text": [
            "best_params: {'learning_rate': 0.5849784287296567, 'n_estimators': 63, 'colsample_bytree': 0.6660642705413073, 'max_depth': 16, 'num_leaves': 98, 'lambda_l1': 3.0360851321371576e-05, 'lambda_l2': 3.621526039936721e-07, 'min_split_gain': 0.6183531464762069, 'min_child_samples': 16, 'subsample': 1, 'subsample_freq': 20, 'feature_fraction': 0.9926385557978826, 'bagging_fraction': 0.6614108224032196, 'bagging_freq': 7}\n",
            "Accuracy = 96.348096\n"
          ]
        }
      ]
    },
    {
      "cell_type": "code",
      "metadata": {
        "pycharm": {
          "name": "#%%\n"
        },
        "id": "tEkR0f0-Ptfu",
        "outputId": "617c4417-dd16-4ed4-c7bb-fbf486bbe404"
      },
      "source": [
        "y_test.shape, X_test_unique.shape, X_train_train_pca.shape, y_train_train.shape"
      ],
      "execution_count": null,
      "outputs": [
        {
          "data": {
            "text/plain": "((2947,), (2947, 540), (4778, 179), (4778,))"
          },
          "execution_count": 101,
          "metadata": {},
          "output_type": "execute_result"
        }
      ]
    },
    {
      "cell_type": "code",
      "metadata": {
        "pycharm": {
          "name": "#%%\n"
        },
        "id": "L5uHngCIPtfv",
        "outputId": "3fe360f2-3ef9-448b-d689-3a92fbde6311"
      },
      "source": [
        "lgb_final = lgbm.LGBMClassifier(**study.best_params)\n",
        "lgb_final.fit(X_train_train_pca, y_train_train)\n",
        "predictFinal = np.rint(lgb_final.predict(X_test_unique, num_iteration=lgb_final.best_iteration_))\n",
        "accuracy = accuracy_score(y_test, predictFinal)\n",
        "print(accuracy)\n"
      ],
      "execution_count": null,
      "outputs": [
        {
          "ename": "ValueError",
          "evalue": "Number of features of the model must match the input. Model n_features_ is 179 and input n_features is 540",
          "output_type": "error",
          "traceback": [
            "\u001b[1;31m---------------------------------------------------------------------------\u001b[0m",
            "\u001b[1;31mValueError\u001b[0m                                Traceback (most recent call last)",
            "\u001b[1;32m~\\AppData\\Local\\Temp/ipykernel_36540/1807224311.py\u001b[0m in \u001b[0;36m<module>\u001b[1;34m\u001b[0m\n\u001b[0;32m      1\u001b[0m \u001b[0mlgb_final\u001b[0m \u001b[1;33m=\u001b[0m \u001b[0mlgbm\u001b[0m\u001b[1;33m.\u001b[0m\u001b[0mLGBMClassifier\u001b[0m\u001b[1;33m(\u001b[0m\u001b[1;33m**\u001b[0m\u001b[0mstudy\u001b[0m\u001b[1;33m.\u001b[0m\u001b[0mbest_params\u001b[0m\u001b[1;33m)\u001b[0m\u001b[1;33m\u001b[0m\u001b[1;33m\u001b[0m\u001b[0m\n\u001b[0;32m      2\u001b[0m \u001b[0mlgb_final\u001b[0m\u001b[1;33m.\u001b[0m\u001b[0mfit\u001b[0m\u001b[1;33m(\u001b[0m\u001b[0mX_train_train_pca\u001b[0m\u001b[1;33m,\u001b[0m \u001b[0my_train_train\u001b[0m\u001b[1;33m)\u001b[0m\u001b[1;33m\u001b[0m\u001b[1;33m\u001b[0m\u001b[0m\n\u001b[1;32m----> 3\u001b[1;33m \u001b[0mpredictFinal\u001b[0m \u001b[1;33m=\u001b[0m \u001b[0mnp\u001b[0m\u001b[1;33m.\u001b[0m\u001b[0mrint\u001b[0m\u001b[1;33m(\u001b[0m\u001b[0mlgb_final\u001b[0m\u001b[1;33m.\u001b[0m\u001b[0mpredict\u001b[0m\u001b[1;33m(\u001b[0m\u001b[0mX_test_unique\u001b[0m\u001b[1;33m,\u001b[0m \u001b[0mnum_iteration\u001b[0m\u001b[1;33m=\u001b[0m\u001b[0mlgb_final\u001b[0m\u001b[1;33m.\u001b[0m\u001b[0mbest_iteration_\u001b[0m\u001b[1;33m)\u001b[0m\u001b[1;33m)\u001b[0m\u001b[1;33m\u001b[0m\u001b[1;33m\u001b[0m\u001b[0m\n\u001b[0m\u001b[0;32m      4\u001b[0m \u001b[0maccuracy\u001b[0m \u001b[1;33m=\u001b[0m \u001b[0maccuracy_score\u001b[0m\u001b[1;33m(\u001b[0m\u001b[0my_test\u001b[0m\u001b[1;33m,\u001b[0m \u001b[0mpredictFinal\u001b[0m\u001b[1;33m)\u001b[0m\u001b[1;33m\u001b[0m\u001b[1;33m\u001b[0m\u001b[0m\n\u001b[0;32m      5\u001b[0m \u001b[0mprint\u001b[0m\u001b[1;33m(\u001b[0m\u001b[0maccuracy\u001b[0m\u001b[1;33m)\u001b[0m\u001b[1;33m\u001b[0m\u001b[1;33m\u001b[0m\u001b[0m\n",
            "\u001b[1;32m~\\anaconda3\\lib\\site-packages\\lightgbm\\sklearn.py\u001b[0m in \u001b[0;36mpredict\u001b[1;34m(self, X, raw_score, start_iteration, num_iteration, pred_leaf, pred_contrib, **kwargs)\u001b[0m\n\u001b[0;32m    982\u001b[0m                 pred_leaf=False, pred_contrib=False, **kwargs):\n\u001b[0;32m    983\u001b[0m         \u001b[1;34m\"\"\"Docstring is inherited from the LGBMModel.\"\"\"\u001b[0m\u001b[1;33m\u001b[0m\u001b[1;33m\u001b[0m\u001b[0m\n\u001b[1;32m--> 984\u001b[1;33m         result = self.predict_proba(X, raw_score, start_iteration, num_iteration,\n\u001b[0m\u001b[0;32m    985\u001b[0m                                     pred_leaf, pred_contrib, **kwargs)\n\u001b[0;32m    986\u001b[0m         \u001b[1;32mif\u001b[0m \u001b[0mcallable\u001b[0m\u001b[1;33m(\u001b[0m\u001b[0mself\u001b[0m\u001b[1;33m.\u001b[0m\u001b[0m_objective\u001b[0m\u001b[1;33m)\u001b[0m \u001b[1;32mor\u001b[0m \u001b[0mraw_score\u001b[0m \u001b[1;32mor\u001b[0m \u001b[0mpred_leaf\u001b[0m \u001b[1;32mor\u001b[0m \u001b[0mpred_contrib\u001b[0m\u001b[1;33m:\u001b[0m\u001b[1;33m\u001b[0m\u001b[1;33m\u001b[0m\u001b[0m\n",
            "\u001b[1;32m~\\anaconda3\\lib\\site-packages\\lightgbm\\sklearn.py\u001b[0m in \u001b[0;36mpredict_proba\u001b[1;34m(self, X, raw_score, start_iteration, num_iteration, pred_leaf, pred_contrib, **kwargs)\u001b[0m\n\u001b[0;32m    995\u001b[0m                       pred_leaf=False, pred_contrib=False, **kwargs):\n\u001b[0;32m    996\u001b[0m         \u001b[1;34m\"\"\"Docstring is set after definition, using a template.\"\"\"\u001b[0m\u001b[1;33m\u001b[0m\u001b[1;33m\u001b[0m\u001b[0m\n\u001b[1;32m--> 997\u001b[1;33m         \u001b[0mresult\u001b[0m \u001b[1;33m=\u001b[0m \u001b[0msuper\u001b[0m\u001b[1;33m(\u001b[0m\u001b[1;33m)\u001b[0m\u001b[1;33m.\u001b[0m\u001b[0mpredict\u001b[0m\u001b[1;33m(\u001b[0m\u001b[0mX\u001b[0m\u001b[1;33m,\u001b[0m \u001b[0mraw_score\u001b[0m\u001b[1;33m,\u001b[0m \u001b[0mstart_iteration\u001b[0m\u001b[1;33m,\u001b[0m \u001b[0mnum_iteration\u001b[0m\u001b[1;33m,\u001b[0m \u001b[0mpred_leaf\u001b[0m\u001b[1;33m,\u001b[0m \u001b[0mpred_contrib\u001b[0m\u001b[1;33m,\u001b[0m \u001b[1;33m**\u001b[0m\u001b[0mkwargs\u001b[0m\u001b[1;33m)\u001b[0m\u001b[1;33m\u001b[0m\u001b[1;33m\u001b[0m\u001b[0m\n\u001b[0m\u001b[0;32m    998\u001b[0m         \u001b[1;32mif\u001b[0m \u001b[0mcallable\u001b[0m\u001b[1;33m(\u001b[0m\u001b[0mself\u001b[0m\u001b[1;33m.\u001b[0m\u001b[0m_objective\u001b[0m\u001b[1;33m)\u001b[0m \u001b[1;32mand\u001b[0m \u001b[1;32mnot\u001b[0m \u001b[1;33m(\u001b[0m\u001b[0mraw_score\u001b[0m \u001b[1;32mor\u001b[0m \u001b[0mpred_leaf\u001b[0m \u001b[1;32mor\u001b[0m \u001b[0mpred_contrib\u001b[0m\u001b[1;33m)\u001b[0m\u001b[1;33m:\u001b[0m\u001b[1;33m\u001b[0m\u001b[1;33m\u001b[0m\u001b[0m\n\u001b[0;32m    999\u001b[0m             _log_warning(\"Cannot compute class probabilities or labels \"\n",
            "\u001b[1;32m~\\anaconda3\\lib\\site-packages\\lightgbm\\sklearn.py\u001b[0m in \u001b[0;36mpredict\u001b[1;34m(self, X, raw_score, start_iteration, num_iteration, pred_leaf, pred_contrib, **kwargs)\u001b[0m\n\u001b[0;32m    798\u001b[0m         \u001b[0mn_features\u001b[0m \u001b[1;33m=\u001b[0m \u001b[0mX\u001b[0m\u001b[1;33m.\u001b[0m\u001b[0mshape\u001b[0m\u001b[1;33m[\u001b[0m\u001b[1;36m1\u001b[0m\u001b[1;33m]\u001b[0m\u001b[1;33m\u001b[0m\u001b[1;33m\u001b[0m\u001b[0m\n\u001b[0;32m    799\u001b[0m         \u001b[1;32mif\u001b[0m \u001b[0mself\u001b[0m\u001b[1;33m.\u001b[0m\u001b[0m_n_features\u001b[0m \u001b[1;33m!=\u001b[0m \u001b[0mn_features\u001b[0m\u001b[1;33m:\u001b[0m\u001b[1;33m\u001b[0m\u001b[1;33m\u001b[0m\u001b[0m\n\u001b[1;32m--> 800\u001b[1;33m             raise ValueError(\"Number of features of the model must \"\n\u001b[0m\u001b[0;32m    801\u001b[0m                              \u001b[1;34mf\"match the input. Model n_features_ is {self._n_features} and \"\u001b[0m\u001b[1;33m\u001b[0m\u001b[1;33m\u001b[0m\u001b[0m\n\u001b[0;32m    802\u001b[0m                              f\"input n_features is {n_features}\")\n",
            "\u001b[1;31mValueError\u001b[0m: Number of features of the model must match the input. Model n_features_ is 179 and input n_features is 540"
          ]
        }
      ]
    },
    {
      "cell_type": "markdown",
      "metadata": {
        "id": "My3QoKpLbFNS"
      },
      "source": [
        "### Conclusion\n",
        "\n",
        "Please, write down your thoughts on the experiment results:\n",
        "\n",
        "..."
      ]
    },
    {
      "cell_type": "markdown",
      "metadata": {
        "id": "lQEV-sjUbFNT"
      },
      "source": [
        "## Part 3. Interpret the model predictions\n",
        "\n",
        "Please use [shap](https://github.com/slundberg/shap) to build some plots and try to interpret them."
      ]
    },
    {
      "cell_type": "code",
      "metadata": {
        "ExecuteTime": {
          "end_time": "2021-11-26T21:05:12.631012Z",
          "start_time": "2021-11-26T21:05:12.528045Z"
        },
        "colab": {
          "base_uri": "https://localhost:8080/",
          "height": 350
        },
        "id": "HL3yyCcCbFNT",
        "outputId": "0f844eb6-298f-4db7-84a9-76d2fcb7f355"
      },
      "source": [
        "import shap\n",
        "X_train_train_pca.shape"
      ],
      "execution_count": null,
      "outputs": [
        {
          "data": {
            "text/plain": "(4778, 179)"
          },
          "execution_count": 94,
          "metadata": {},
          "output_type": "execute_result"
        }
      ]
    },
    {
      "cell_type": "code",
      "metadata": {
        "pycharm": {
          "name": "#%%\n"
        },
        "id": "e3vKMss3Ptfx",
        "outputId": "9a68756f-47d6-4077-fc10-fbdabcdb9ea2"
      },
      "source": [
        "explainer = shap.KernelExplainer(lgb1.predict_proba, X_train_train_pca)\n",
        "shap_values = explainer.shap_values(y_train_val)\n",
        "shap.force_plot(explainer.expected_value[0], shap_values[0], y_train_val)"
      ],
      "execution_count": null,
      "outputs": [
        {
          "name": "stderr",
          "output_type": "stream",
          "text": [
            "Using 4778 background data samples could cause slower run times. Consider using shap.sample(data, K) or shap.kmeans(data, K) to summarize the background as K samples.\n"
          ]
        },
        {
          "ename": "ValueError",
          "evalue": "Number of features of the model must match the input. Model n_features_ is 179 and input n_features is 2574",
          "output_type": "error",
          "traceback": [
            "\u001b[1;31m---------------------------------------------------------------------------\u001b[0m",
            "\u001b[1;31mValueError\u001b[0m                                Traceback (most recent call last)",
            "\u001b[1;32m~\\AppData\\Local\\Temp/ipykernel_36540/1733195883.py\u001b[0m in \u001b[0;36m<module>\u001b[1;34m\u001b[0m\n\u001b[0;32m      1\u001b[0m \u001b[0mexplainer\u001b[0m \u001b[1;33m=\u001b[0m \u001b[0mshap\u001b[0m\u001b[1;33m.\u001b[0m\u001b[0mKernelExplainer\u001b[0m\u001b[1;33m(\u001b[0m\u001b[0mlgb1\u001b[0m\u001b[1;33m.\u001b[0m\u001b[0mpredict_proba\u001b[0m\u001b[1;33m,\u001b[0m \u001b[0mX_train_train_pca\u001b[0m\u001b[1;33m)\u001b[0m\u001b[1;33m\u001b[0m\u001b[1;33m\u001b[0m\u001b[0m\n\u001b[1;32m----> 2\u001b[1;33m \u001b[0mshap_values\u001b[0m \u001b[1;33m=\u001b[0m \u001b[0mexplainer\u001b[0m\u001b[1;33m.\u001b[0m\u001b[0mshap_values\u001b[0m\u001b[1;33m(\u001b[0m\u001b[0my_train_val\u001b[0m\u001b[1;33m)\u001b[0m\u001b[1;33m\u001b[0m\u001b[1;33m\u001b[0m\u001b[0m\n\u001b[0m\u001b[0;32m      3\u001b[0m \u001b[0mshap\u001b[0m\u001b[1;33m.\u001b[0m\u001b[0mforce_plot\u001b[0m\u001b[1;33m(\u001b[0m\u001b[0mexplainer\u001b[0m\u001b[1;33m.\u001b[0m\u001b[0mexpected_value\u001b[0m\u001b[1;33m[\u001b[0m\u001b[1;36m0\u001b[0m\u001b[1;33m]\u001b[0m\u001b[1;33m,\u001b[0m \u001b[0mshap_values\u001b[0m\u001b[1;33m[\u001b[0m\u001b[1;36m0\u001b[0m\u001b[1;33m]\u001b[0m\u001b[1;33m,\u001b[0m \u001b[0my_train_val\u001b[0m\u001b[1;33m)\u001b[0m\u001b[1;33m\u001b[0m\u001b[1;33m\u001b[0m\u001b[0m\n",
            "\u001b[1;32m~\\anaconda3\\lib\\site-packages\\shap\\explainers\\_kernel.py\u001b[0m in \u001b[0;36mshap_values\u001b[1;34m(self, X, **kwargs)\u001b[0m\n\u001b[0;32m    161\u001b[0m             \u001b[1;32mif\u001b[0m \u001b[0mself\u001b[0m\u001b[1;33m.\u001b[0m\u001b[0mkeep_index\u001b[0m\u001b[1;33m:\u001b[0m\u001b[1;33m\u001b[0m\u001b[1;33m\u001b[0m\u001b[0m\n\u001b[0;32m    162\u001b[0m                 \u001b[0mdata\u001b[0m \u001b[1;33m=\u001b[0m \u001b[0mconvert_to_instance_with_index\u001b[0m\u001b[1;33m(\u001b[0m\u001b[0mdata\u001b[0m\u001b[1;33m,\u001b[0m \u001b[0mcolumn_name\u001b[0m\u001b[1;33m,\u001b[0m \u001b[0mindex_name\u001b[0m\u001b[1;33m,\u001b[0m \u001b[0mindex_value\u001b[0m\u001b[1;33m)\u001b[0m\u001b[1;33m\u001b[0m\u001b[1;33m\u001b[0m\u001b[0m\n\u001b[1;32m--> 163\u001b[1;33m             \u001b[0mexplanation\u001b[0m \u001b[1;33m=\u001b[0m \u001b[0mself\u001b[0m\u001b[1;33m.\u001b[0m\u001b[0mexplain\u001b[0m\u001b[1;33m(\u001b[0m\u001b[0mdata\u001b[0m\u001b[1;33m,\u001b[0m \u001b[1;33m**\u001b[0m\u001b[0mkwargs\u001b[0m\u001b[1;33m)\u001b[0m\u001b[1;33m\u001b[0m\u001b[1;33m\u001b[0m\u001b[0m\n\u001b[0m\u001b[0;32m    164\u001b[0m \u001b[1;33m\u001b[0m\u001b[0m\n\u001b[0;32m    165\u001b[0m             \u001b[1;31m# vector-output\u001b[0m\u001b[1;33m\u001b[0m\u001b[1;33m\u001b[0m\u001b[1;33m\u001b[0m\u001b[0m\n",
            "\u001b[1;32m~\\anaconda3\\lib\\site-packages\\shap\\explainers\\_kernel.py\u001b[0m in \u001b[0;36mexplain\u001b[1;34m(self, incoming_instance, **kwargs)\u001b[0m\n\u001b[0;32m    228\u001b[0m             \u001b[0mmodel_out\u001b[0m \u001b[1;33m=\u001b[0m \u001b[0mself\u001b[0m\u001b[1;33m.\u001b[0m\u001b[0mmodel\u001b[0m\u001b[1;33m.\u001b[0m\u001b[0mf\u001b[0m\u001b[1;33m(\u001b[0m\u001b[0minstance\u001b[0m\u001b[1;33m.\u001b[0m\u001b[0mconvert_to_df\u001b[0m\u001b[1;33m(\u001b[0m\u001b[1;33m)\u001b[0m\u001b[1;33m)\u001b[0m\u001b[1;33m\u001b[0m\u001b[1;33m\u001b[0m\u001b[0m\n\u001b[0;32m    229\u001b[0m         \u001b[1;32melse\u001b[0m\u001b[1;33m:\u001b[0m\u001b[1;33m\u001b[0m\u001b[1;33m\u001b[0m\u001b[0m\n\u001b[1;32m--> 230\u001b[1;33m             \u001b[0mmodel_out\u001b[0m \u001b[1;33m=\u001b[0m \u001b[0mself\u001b[0m\u001b[1;33m.\u001b[0m\u001b[0mmodel\u001b[0m\u001b[1;33m.\u001b[0m\u001b[0mf\u001b[0m\u001b[1;33m(\u001b[0m\u001b[0minstance\u001b[0m\u001b[1;33m.\u001b[0m\u001b[0mx\u001b[0m\u001b[1;33m)\u001b[0m\u001b[1;33m\u001b[0m\u001b[1;33m\u001b[0m\u001b[0m\n\u001b[0m\u001b[0;32m    231\u001b[0m         \u001b[1;32mif\u001b[0m \u001b[0misinstance\u001b[0m\u001b[1;33m(\u001b[0m\u001b[0mmodel_out\u001b[0m\u001b[1;33m,\u001b[0m \u001b[1;33m(\u001b[0m\u001b[0mpd\u001b[0m\u001b[1;33m.\u001b[0m\u001b[0mDataFrame\u001b[0m\u001b[1;33m,\u001b[0m \u001b[0mpd\u001b[0m\u001b[1;33m.\u001b[0m\u001b[0mSeries\u001b[0m\u001b[1;33m)\u001b[0m\u001b[1;33m)\u001b[0m\u001b[1;33m:\u001b[0m\u001b[1;33m\u001b[0m\u001b[1;33m\u001b[0m\u001b[0m\n\u001b[0;32m    232\u001b[0m             \u001b[0mmodel_out\u001b[0m \u001b[1;33m=\u001b[0m \u001b[0mmodel_out\u001b[0m\u001b[1;33m.\u001b[0m\u001b[0mvalues\u001b[0m\u001b[1;33m\u001b[0m\u001b[1;33m\u001b[0m\u001b[0m\n",
            "\u001b[1;32m~\\anaconda3\\lib\\site-packages\\lightgbm\\sklearn.py\u001b[0m in \u001b[0;36mpredict_proba\u001b[1;34m(self, X, raw_score, start_iteration, num_iteration, pred_leaf, pred_contrib, **kwargs)\u001b[0m\n\u001b[0;32m    995\u001b[0m                       pred_leaf=False, pred_contrib=False, **kwargs):\n\u001b[0;32m    996\u001b[0m         \u001b[1;34m\"\"\"Docstring is set after definition, using a template.\"\"\"\u001b[0m\u001b[1;33m\u001b[0m\u001b[1;33m\u001b[0m\u001b[0m\n\u001b[1;32m--> 997\u001b[1;33m         \u001b[0mresult\u001b[0m \u001b[1;33m=\u001b[0m \u001b[0msuper\u001b[0m\u001b[1;33m(\u001b[0m\u001b[1;33m)\u001b[0m\u001b[1;33m.\u001b[0m\u001b[0mpredict\u001b[0m\u001b[1;33m(\u001b[0m\u001b[0mX\u001b[0m\u001b[1;33m,\u001b[0m \u001b[0mraw_score\u001b[0m\u001b[1;33m,\u001b[0m \u001b[0mstart_iteration\u001b[0m\u001b[1;33m,\u001b[0m \u001b[0mnum_iteration\u001b[0m\u001b[1;33m,\u001b[0m \u001b[0mpred_leaf\u001b[0m\u001b[1;33m,\u001b[0m \u001b[0mpred_contrib\u001b[0m\u001b[1;33m,\u001b[0m \u001b[1;33m**\u001b[0m\u001b[0mkwargs\u001b[0m\u001b[1;33m)\u001b[0m\u001b[1;33m\u001b[0m\u001b[1;33m\u001b[0m\u001b[0m\n\u001b[0m\u001b[0;32m    998\u001b[0m         \u001b[1;32mif\u001b[0m \u001b[0mcallable\u001b[0m\u001b[1;33m(\u001b[0m\u001b[0mself\u001b[0m\u001b[1;33m.\u001b[0m\u001b[0m_objective\u001b[0m\u001b[1;33m)\u001b[0m \u001b[1;32mand\u001b[0m \u001b[1;32mnot\u001b[0m \u001b[1;33m(\u001b[0m\u001b[0mraw_score\u001b[0m \u001b[1;32mor\u001b[0m \u001b[0mpred_leaf\u001b[0m \u001b[1;32mor\u001b[0m \u001b[0mpred_contrib\u001b[0m\u001b[1;33m)\u001b[0m\u001b[1;33m:\u001b[0m\u001b[1;33m\u001b[0m\u001b[1;33m\u001b[0m\u001b[0m\n\u001b[0;32m    999\u001b[0m             _log_warning(\"Cannot compute class probabilities or labels \"\n",
            "\u001b[1;32m~\\anaconda3\\lib\\site-packages\\lightgbm\\sklearn.py\u001b[0m in \u001b[0;36mpredict\u001b[1;34m(self, X, raw_score, start_iteration, num_iteration, pred_leaf, pred_contrib, **kwargs)\u001b[0m\n\u001b[0;32m    798\u001b[0m         \u001b[0mn_features\u001b[0m \u001b[1;33m=\u001b[0m \u001b[0mX\u001b[0m\u001b[1;33m.\u001b[0m\u001b[0mshape\u001b[0m\u001b[1;33m[\u001b[0m\u001b[1;36m1\u001b[0m\u001b[1;33m]\u001b[0m\u001b[1;33m\u001b[0m\u001b[1;33m\u001b[0m\u001b[0m\n\u001b[0;32m    799\u001b[0m         \u001b[1;32mif\u001b[0m \u001b[0mself\u001b[0m\u001b[1;33m.\u001b[0m\u001b[0m_n_features\u001b[0m \u001b[1;33m!=\u001b[0m \u001b[0mn_features\u001b[0m\u001b[1;33m:\u001b[0m\u001b[1;33m\u001b[0m\u001b[1;33m\u001b[0m\u001b[0m\n\u001b[1;32m--> 800\u001b[1;33m             raise ValueError(\"Number of features of the model must \"\n\u001b[0m\u001b[0;32m    801\u001b[0m                              \u001b[1;34mf\"match the input. Model n_features_ is {self._n_features} and \"\u001b[0m\u001b[1;33m\u001b[0m\u001b[1;33m\u001b[0m\u001b[0m\n\u001b[0;32m    802\u001b[0m                              f\"input n_features is {n_features}\")\n",
            "\u001b[1;31mValueError\u001b[0m: Number of features of the model must match the input. Model n_features_ is 179 and input n_features is 2574"
          ]
        }
      ]
    },
    {
      "cell_type": "markdown",
      "metadata": {
        "id": "uHfWhNlRbFNU"
      },
      "source": [
        "### Conclusion\n",
        "\n",
        "Your thoughts about the plots and model behaviour:\n",
        "\n",
        "..."
      ]
    }
  ]
}